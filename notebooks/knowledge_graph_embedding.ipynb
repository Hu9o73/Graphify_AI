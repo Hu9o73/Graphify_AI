{
 "cells": [
  {
   "cell_type": "markdown",
   "metadata": {},
   "source": [
    "# Knowledge Graph Embedding\n",
    "\n",
    "This notebook demonstrates how to create and evaluate knowledge graph embeddings from the knowledge graph constructed in the previous step. It includes:\n",
    "\n",
    "1. Data augmentation to address limited entity count\n",
    "2. Knowledge graph embedding training\n",
    "3. Evaluation and visualization of embeddings\n",
    "4. Link prediction"
   ]
  },
  {
   "cell_type": "markdown",
   "metadata": {},
   "source": [
    "## Setup\n",
    "\n",
    "First, let's set up the environment and import the necessary libraries."
   ]
  },
  {
   "cell_type": "code",
   "execution_count": 1,
   "metadata": {},
   "outputs": [],
   "source": [
    "%load_ext autoreload\n",
    "%autoreload 2"
   ]
  },
  {
   "cell_type": "code",
   "execution_count": 2,
   "metadata": {},
   "outputs": [],
   "source": [
    "# Import standard libraries\n",
    "import os\n",
    "import sys\n",
    "import json\n",
    "import logging\n",
    "from pprint import pprint\n",
    "import matplotlib.pyplot as plt\n",
    "import pandas as pd\n",
    "import numpy as np\n",
    "import torch\n",
    "\n",
    "# Configure logging\n",
    "logging.basicConfig(\n",
    "    level=logging.INFO,\n",
    "    format='%(asctime)s - %(name)s - %(levelname)s - %(message)s'\n",
    ")\n",
    "logger = logging.getLogger(__name__)"
   ]
  },
  {
   "cell_type": "code",
   "execution_count": 3,
   "metadata": {},
   "outputs": [
    {
     "name": "stderr",
     "output_type": "stream",
     "text": [
      "2025-03-29 17:44:42,157 - pykeen.utils - INFO - Using opt_einsum\n"
     ]
    }
   ],
   "source": [
    "# Add project root to path for importing local modules\n",
    "# Adjust this path if needed\n",
    "project_root = os.path.abspath(os.path.join(os.getcwd(), '..'))\n",
    "if project_root not in sys.path:\n",
    "    sys.path.append(project_root)\n",
    "\n",
    "# Import project modules\n",
    "from src.knowledge_graph.augmentation import KnowledgeGraphAugmenter, augment_knowledge_graph\n",
    "from src.knowledge_graph.embeddings import KnowledgeGraphEmbedder, create_and_train_embeddings\n",
    "\n",
    "# Create output directories\n",
    "os.makedirs('output/data', exist_ok=True)\n",
    "os.makedirs('output/models', exist_ok=True)\n",
    "os.makedirs('output/embeddings', exist_ok=True)\n",
    "os.makedirs('output/visualization', exist_ok=True)"
   ]
  },
  {
   "cell_type": "markdown",
   "metadata": {},
   "source": [
    "## 1. Load and Examine the Original Knowledge Graph\n",
    "\n",
    "First, let's load the knowledge graph we constructed in the previous step and examine its properties."
   ]
  },
  {
   "cell_type": "code",
   "execution_count": 4,
   "metadata": {},
   "outputs": [
    {
     "name": "stdout",
     "output_type": "stream",
     "text": [
      "Loaded knowledge graph with 6625 triples\n",
      "\n",
      "Entity types and counts:\n",
      "- CARDINAL: 408\n",
      "- DATE: 473\n",
      "- EVENT: 3\n",
      "- FAC: 12\n",
      "- GPE: 300\n",
      "- LANGUAGE: 1\n",
      "- LAW: 11\n",
      "- LOC: 22\n",
      "- MISC: 148\n",
      "- MONEY: 115\n",
      "- NORP: 71\n",
      "- ORDINAL: 5\n",
      "- ORG: 962\n",
      "- PERCENT: 7\n",
      "- PERSON: 498\n",
      "- PRODUCT: 28\n",
      "- QUANTITY: 10\n",
      "- TIME: 19\n",
      "- WORK_OF_ART: 11\n",
      "\n",
      "Number of distinct relations: 124\n",
      "Top 10 most common relations:\n",
      "- rdf-schema#label: 3296\n",
      "- related_to: 58\n",
      "- say_on: 21\n",
      "- tell: 5\n",
      "- report_on: 5\n",
      "- announce_on: 4\n",
      "- found_in: 4\n",
      "- decline: 3\n",
      "- impose_from: 2\n",
      "- take_on: 2\n"
     ]
    }
   ],
   "source": [
    "from rdflib import Graph\n",
    "\n",
    "# Path to the original knowledge graph\n",
    "# Adjust this path to match your file\n",
    "original_kg_path = './output/data/knowledge_graph.ttl'\n",
    "\n",
    "# Load the graph\n",
    "original_graph = Graph()\n",
    "original_graph.parse(original_kg_path, format='turtle')\n",
    "\n",
    "print(f\"Loaded knowledge graph with {len(original_graph)} triples\")\n",
    "\n",
    "# Count entities by type\n",
    "from rdflib.namespace import RDF\n",
    "\n",
    "entity_types = {}\n",
    "for s, p, o in original_graph.triples((None, RDF.type, None)):\n",
    "    entity_type = str(o).split('/')[-1]\n",
    "    if entity_type not in entity_types:\n",
    "        entity_types[entity_type] = 0\n",
    "    entity_types[entity_type] += 1\n",
    "\n",
    "print(\"\\nEntity types and counts:\")\n",
    "for entity_type, count in entity_types.items():\n",
    "    print(f\"- {entity_type}: {count}\")\n",
    "\n",
    "# Count relations\n",
    "relations = {}\n",
    "for s, p, o in original_graph:\n",
    "    if p != RDF.type:\n",
    "        relation = str(p).split('/')[-1]\n",
    "        if relation not in relations:\n",
    "            relations[relation] = 0\n",
    "        relations[relation] += 1\n",
    "\n",
    "print(f\"\\nNumber of distinct relations: {len(relations)}\")\n",
    "print(\"Top 10 most common relations:\")\n",
    "for relation, count in sorted(relations.items(), key=lambda x: x[1], reverse=True)[:10]:\n",
    "    print(f\"- {relation}: {count}\")"
   ]
  },
  {
   "cell_type": "markdown",
   "metadata": {},
   "source": [
    "## 2. Data Augmentation\n",
    "\n",
    "To address the challenge of limited entity count, we'll augment our knowledge graph with external knowledge from DBpedia and Wikidata."
   ]
  },
  {
   "cell_type": "code",
   "execution_count": 5,
   "metadata": {},
   "outputs": [
    {
     "name": "stderr",
     "output_type": "stream",
     "text": [
      "2025-03-29 17:44:46,345 - src.knowledge_graph.augmentation - INFO - Initialized knowledge graph augmenter with namespace: http://example.org/graphify/\n",
      "2025-03-29 17:44:46,567 - src.knowledge_graph.augmentation - INFO - Loaded knowledge graph from ./output/data/knowledge_graph.ttl with 6625 triples\n",
      "2025-03-29 17:44:46,571 - src.knowledge_graph.augmentation - INFO - Extracted 3104 entities from knowledge graph\n"
     ]
    },
    {
     "name": "stdout",
     "output_type": "stream",
     "text": [
      "Extracted 3104 entities from the knowledge graph\n",
      "Selected 1482 entities for enrichment:\n",
      "- Paddy Flood (PERSON)\n",
      "- Brad (PERSON)\n",
      "- Amit Mehta (PERSON)\n",
      "- Scott Hepworth (PERSON)\n",
      "- Fabio di Giansante (PERSON)\n",
      "  ... and 1477 more\n"
     ]
    }
   ],
   "source": [
    "# Path for the augmented knowledge graph\n",
    "augmented_kg_path = './output/data/knowledge_graph_augmented.ttl'\n",
    "\n",
    "# Create an augmenter\n",
    "augmenter = KnowledgeGraphAugmenter(namespace=\"http://example.org/graphify/\")\n",
    "\n",
    "# Load the original knowledge graph\n",
    "augmenter.load_graph(original_kg_path)\n",
    "\n",
    "# Extract entities\n",
    "entities = augmenter.extract_entities()\n",
    "print(f\"Extracted {len(entities)} entities from the knowledge graph\")\n",
    "\n",
    "# For demonstration, we'll enrich a subset of entities\n",
    "# In a real scenario, you might want to enrich all entities\n",
    "import random\n",
    "random.seed(42)  # For reproducibility\n",
    "\n",
    "# Select persons and organizations preferentially\n",
    "persons = [e for e in entities if e[1] == 'PERSON']\n",
    "organizations = [e for e in entities if e[1] == 'ORG']\n",
    "locations = [e for e in entities if e[1] == 'LOC']\n",
    "gpes = [e for e in entities if e[1] == 'GPE']\n",
    "\n",
    "# Determine how many of each to select\n",
    "max_entities = 10000\n",
    "person_count = min(len(persons), max_entities // 4)\n",
    "location_count = min(len(locations), max_entities // 4)\n",
    "gpe_count = min(len(gpes), max_entities // 4)\n",
    "org_count = min(len(organizations), max_entities - person_count - location_count - gpe_count)\n",
    "\n",
    "# Select the entities\n",
    "selected_persons = random.sample(persons, person_count) if person_count > 0 else []\n",
    "selected_locs = random.sample(locations, location_count) if location_count> 0 else []\n",
    "selected_gpes = random.sample(gpes, gpe_count) if gpe_count > 0 else []\n",
    "selected_orgs = random.sample(organizations, org_count) if org_count > 0 else []\n",
    "\n",
    "# Combine them\n",
    "selected_entities = selected_persons + selected_locs + selected_orgs\n",
    "\n",
    "print(f\"Selected {len(selected_entities)} entities for enrichment:\")\n",
    "for entity_uri, entity_type in selected_entities[:5]:  # Show first 5\n",
    "    # Get entity label\n",
    "    entity_text, _ = augmenter.get_entity_metadata(entity_uri)\n",
    "    print(f\"- {entity_text} ({entity_type})\")\n",
    "if len(selected_entities) > 5:\n",
    "    print(f\"  ... and {len(selected_entities) - 5} more\")"
   ]
  },
  {
   "cell_type": "code",
   "execution_count": 6,
   "metadata": {},
   "outputs": [
    {
     "name": "stdout",
     "output_type": "stream",
     "text": [
      "Enriching entities with DBpedia and Wikidata knowledge...\n",
      "Processed entity 1/1482 [http://example.org/graphify/person/Paddy_Flood] and added 0 triples for this entity\n",
      "Processed entity 2/1482 [http://example.org/graphify/person/Brad] and added 9 triples for this entity\n",
      "Processed entity 3/1482 [http://example.org/graphify/person/Amit_Mehta] and added 581 triples for this entity\n",
      "Processed entity 4/1482 [http://example.org/graphify/person/Scott_Hepworth] and added 0 triples for this entity\n",
      "Processed entity 5/1482 [http://example.org/graphify/person/Fabio_di_Giansante] and added 0 triples for this entity\n",
      "Processed entity 6/1482 [http://example.org/graphify/person/Ecarx_ECXO] and added 0 triples for this entity\n",
      "Processed entity 7/1482 [http://example.org/graphify/person/Dicks_Sporting_Goods] and added 8 triples for this entity\n",
      "Processed entity 8/1482 [http://example.org/graphify/person/Capitol_Hill] and added 258 triples for this entity\n",
      "Processed entity 9/1482 [http://example.org/graphify/person/Scott_Anderson] and added 9 triples for this entity\n",
      "Processed entity 10/1482 [http://example.org/graphify/person/Blackstone] and added 1 triples for this entity\n",
      "Processed entity 11/1482 [http://example.org/graphify/person/Restoring_Merit] and added 0 triples for this entity\n",
      "Processed entity 12/1482 [http://example.org/graphify/person/Vikram_Misri] and added 417 triples for this entity\n",
      "Processed entity 13/1482 [http://example.org/graphify/person/While_Alibaba] and added 0 triples for this entity\n",
      "Processed entity 14/1482 [http://example.org/graphify/person/Mark_Carney] and added 507 triples for this entity\n",
      "Processed entity 15/1482 [http://example.org/graphify/person/Bernard_Baumohl] and added 0 triples for this entity\n",
      "Processed entity 16/1482 [http://example.org/graphify/person/Mohammed_Bin_Salman] and added 8 triples for this entity\n",
      "Processed entity 17/1482 [http://example.org/graphify/person/JeanPhilippe_Imparato] and added 0 triples for this entity\n",
      "Processed entity 18/1482 [http://example.org/graphify/person/Anduril] and added 8 triples for this entity\n",
      "Processed entity 19/1482 [http://example.org/graphify/person/Andrea_Orcel] and added 604 triples for this entity\n",
      "Processed entity 20/1482 [http://example.org/graphify/person/Bershka] and added 491 triples for this entity\n",
      "Processed entity 21/1482 [http://example.org/graphify/person/Delta_Air_Lines] and added 600 triples for this entity\n",
      "Processed entity 22/1482 [http://example.org/graphify/person/Donald_Trumps] and added 0 triples for this entity\n",
      "Processed entity 23/1482 [http://example.org/graphify/person/Lee_Kaifu] and added 8 triples for this entity\n",
      "Processed entity 24/1482 [http://example.org/graphify/person/Mukesh_Ambanis] and added 0 triples for this entity\n",
      "Processed entity 25/1482 [http://example.org/graphify/person/Among_Europes] and added 0 triples for this entity\n",
      "Processed entity 26/1482 [http://example.org/graphify/person/Melbourne_Tesla] and added 0 triples for this entity\n",
      "Processed entity 27/1482 [http://example.org/graphify/person/Dan_Wang] and added 8 triples for this entity\n",
      "Processed entity 28/1482 [http://example.org/graphify/person/Ryan_Majerus] and added 0 triples for this entity\n",
      "Processed entity 29/1482 [http://example.org/graphify/person/Pat_Gelsingers] and added 0 triples for this entity\n",
      "Processed entity 30/1482 [http://example.org/graphify/person/Robinhoods_HOODO] and added 0 triples for this entity\n",
      "Processed entity 31/1482 [http://example.org/graphify/person/Glass_Lewis] and added 337 triples for this entity\n",
      "Processed entity 32/1482 [http://example.org/graphify/person/Jamie_Cox] and added 338 triples for this entity\n",
      "Processed entity 33/1482 [http://example.org/graphify/person/Dennis_Dick] and added 0 triples for this entity\n",
      "Processed entity 34/1482 [http://example.org/graphify/person/John_Moores] and added 8 triples for this entity\n",
      "Processed entity 35/1482 [http://example.org/graphify/person/Modis] and added 8 triples for this entity\n",
      "Processed entity 36/1482 [http://example.org/graphify/person/Feds] and added 446 triples for this entity\n",
      "Processed entity 37/1482 [http://example.org/graphify/person/Supporters] and added 8 triples for this entity\n",
      "Processed entity 38/1482 [http://example.org/graphify/person/Vlad_Tenev] and added 669 triples for this entity\n",
      "Processed entity 39/1482 [http://example.org/graphify/person/Adriana_Kugler] and added 430 triples for this entity\n",
      "Processed entity 40/1482 [http://example.org/graphify/person/Shen_Ziyu] and added 0 triples for this entity\n",
      "Processed entity 41/1482 [http://example.org/graphify/person/Sung_Beam] and added 0 triples for this entity\n",
      "Processed entity 42/1482 [http://example.org/graphify/person/Chris_Grisanti] and added 0 triples for this entity\n",
      "Processed entity 43/1482 [http://example.org/graphify/person/Robinhood_Markets] and added 278 triples for this entity\n",
      "Processed entity 44/1482 [http://example.org/graphify/person/Brian_Quintenz] and added 579 triples for this entity\n",
      "Processed entity 45/1482 [http://example.org/graphify/person/Google] and added 214 triples for this entity\n",
      "Processed entity 46/1482 [http://example.org/graphify/person/X_Tesla] and added 0 triples for this entity\n",
      "Processed entity 47/1482 [http://example.org/graphify/person/Chipmaker_Nvidia] and added 0 triples for this entity\n",
      "Processed entity 48/1482 [http://example.org/graphify/person/Dealogic] and added 300 triples for this entity\n",
      "Processed entity 49/1482 [http://example.org/graphify/person/Smith] and added 7 triples for this entity\n",
      "Processed entity 50/1482 [http://example.org/graphify/person/Good_Government] and added 0 triples for this entity\n",
      "Processed entity 51/1482 [http://example.org/graphify/person/Montana] and added 518 triples for this entity\n",
      "Processed entity 52/1482 [http://example.org/graphify/person/von_der] and added 0 triples for this entity\n",
      "Processed entity 53/1482 [http://example.org/graphify/person/Hepworth] and added 8 triples for this entity\n",
      "Processed entity 54/1482 [http://example.org/graphify/person/Bill_Galvin] and added 8 triples for this entity\n",
      "Processed entity 55/1482 [http://example.org/graphify/person/HDB] and added 8 triples for this entity\n",
      "Processed entity 56/1482 [http://example.org/graphify/person/Tsai] and added 8 triples for this entity\n",
      "Processed entity 57/1482 [http://example.org/graphify/person/Googles] and added 8 triples for this entity\n",
      "Processed entity 58/1482 [http://example.org/graphify/person/Multiple] and added 8 triples for this entity\n",
      "Processed entity 59/1482 [http://example.org/graphify/person/Eumi_Lee] and added 0 triples for this entity\n",
      "Processed entity 60/1482 [http://example.org/graphify/person/Sunil_Barthwal] and added 0 triples for this entity\n",
      "Processed entity 61/1482 [http://example.org/graphify/person/Anthony_Albanese] and added 722 triples for this entity\n",
      "Processed entity 62/1482 [http://example.org/graphify/person/Samsung] and added 357 triples for this entity\n",
      "Processed entity 63/1482 [http://example.org/graphify/person/Justin_Trudeau] and added 786 triples for this entity\n",
      "Processed entity 64/1482 [http://example.org/graphify/person/Maharashtra_Tatas] and added 0 triples for this entity\n",
      "Processed entity 65/1482 [http://example.org/graphify/person/Broadcom] and added 41 triples for this entity\n",
      "Processed entity 66/1482 [http://example.org/graphify/person/He_Lifeng] and added 471 triples for this entity\n",
      "Processed entity 67/1482 [http://example.org/graphify/person/Ben_Bernanke] and added 587 triples for this entity\n",
      "Processed entity 68/1482 [http://example.org/graphify/person/Martin] and added 1 triples for this entity\n",
      "Processed entity 69/1482 [http://example.org/graphify/person/Frances_Schneider_Electric] and added 0 triples for this entity\n",
      "Processed entity 70/1482 [http://example.org/graphify/person/Tether] and added 12 triples for this entity\n",
      "Processed entity 71/1482 [http://example.org/graphify/person/Ontario] and added 290 triples for this entity\n",
      "Processed entity 72/1482 [http://example.org/graphify/person/Neel_Kashkari] and added 433 triples for this entity\n",
      "Processed entity 73/1482 [http://example.org/graphify/person/Half] and added 8 triples for this entity\n",
      "Processed entity 74/1482 [http://example.org/graphify/person/Mike_Intrator] and added 0 triples for this entity\n",
      "Processed entity 75/1482 [http://example.org/graphify/person/Crypto] and added 8 triples for this entity\n",
      "Processed entity 76/1482 [http://example.org/graphify/person/Rollins] and added 2 triples for this entity\n",
      "Processed entity 77/1482 [http://example.org/graphify/person/Bajaj] and added 8 triples for this entity\n",
      "Processed entity 78/1482 [http://example.org/graphify/person/Antora] and added 31 triples for this entity\n",
      "Processed entity 79/1482 [http://example.org/graphify/person/Prince_Alwaleed_bin_Talal] and added 8 triples for this entity\n",
      "Processed entity 80/1482 [http://example.org/graphify/person/Donald_Trump] and added 317 triples for this entity\n",
      "Processed entity 81/1482 [http://example.org/graphify/person/SpaceX] and added 140 triples for this entity\n",
      "Processed entity 82/1482 [http://example.org/graphify/person/Fox_News] and added 633 triples for this entity\n",
      "Processed entity 83/1482 [http://example.org/graphify/person/Trumps] and added 8 triples for this entity\n",
      "Processed entity 84/1482 [http://example.org/graphify/person/platform_X_Tesla] and added 0 triples for this entity\n",
      "Processed entity 85/1482 [http://example.org/graphify/person/Bitcoin] and added 401 triples for this entity\n",
      "Processed entity 86/1482 [http://example.org/graphify/person/Wilson] and added 2 triples for this entity\n",
      "Processed entity 87/1482 [http://example.org/graphify/person/Wanzhi] and added 0 triples for this entity\n",
      "Processed entity 88/1482 [http://example.org/graphify/person/Judge_Finola] and added 0 triples for this entity\n",
      "Processed entity 89/1482 [http://example.org/graphify/person/Oscar_Garcia_Maceiras] and added 0 triples for this entity\n",
      "Processed entity 90/1482 [http://example.org/graphify/person/Half_Moon] and added 8 triples for this entity\n",
      "Processed entity 91/1482 [http://example.org/graphify/person/Chris_Iggo] and added 0 triples for this entity\n",
      "Processed entity 92/1482 [http://example.org/graphify/person/Haofei_Wang] and added 0 triples for this entity\n",
      "Processed entity 93/1482 [http://example.org/graphify/person/Guo_Shan] and added 35 triples for this entity\n",
      "Processed entity 94/1482 [http://example.org/graphify/person/David_Sacks] and added 72 triples for this entity\n",
      "Processed entity 95/1482 [http://example.org/graphify/person/Raphael_Bostic] and added 542 triples for this entity\n",
      "Processed entity 96/1482 [http://example.org/graphify/person/Euro] and added 405 triples for this entity\n",
      "Processed entity 97/1482 [http://example.org/graphify/person/Xis] and added 0 triples for this entity\n",
      "Processed entity 98/1482 [http://example.org/graphify/person/Richard_Bransons_Virgin_Group] and added 0 triples for this entity\n",
      "Processed entity 99/1482 [http://example.org/graphify/person/Passenger] and added 58 triples for this entity\n",
      "Processed entity 100/1482 [http://example.org/graphify/person/Barrick] and added 8 triples for this entity\n",
      "Processed entity 101/1482 [http://example.org/graphify/person/Musk] and added 56 triples for this entity\n",
      "Processed entity 102/1482 [http://example.org/graphify/person/Steven_Englander_Cyclical] and added 0 triples for this entity\n",
      "Processed entity 103/1482 [http://example.org/graphify/person/Christine_Lagarde] and added 647 triples for this entity\n",
      "Processed entity 104/1482 [http://example.org/graphify/person/Maceiras] and added 0 triples for this entity\n",
      "Processed entity 105/1482 [http://example.org/graphify/person/Twitter_Musk] and added 0 triples for this entity\n",
      "Processed entity 106/1482 [http://example.org/graphify/person/Scott_Morrison] and added 733 triples for this entity\n",
      "Processed entity 107/1482 [http://example.org/graphify/person/Steve_Wreford] and added 0 triples for this entity\n",
      "Processed entity 108/1482 [http://example.org/graphify/person/Kalshi] and added 0 triples for this entity\n",
      "Processed entity 109/1482 [http://example.org/graphify/person/William_Woods] and added 11 triples for this entity\n",
      "Processed entity 110/1482 [http://example.org/graphify/person/Eurostar] and added 250 triples for this entity\n",
      "Processed entity 111/1482 [http://example.org/graphify/person/Trump] and added 7 triples for this entity\n",
      "Processed entity 112/1482 [http://example.org/graphify/person/Riley_Wealth] and added 0 triples for this entity\n",
      "Processed entity 113/1482 [http://example.org/graphify/person/Mastercard_Cargill] and added 0 triples for this entity\n",
      "Processed entity 114/1482 [http://example.org/graphify/person/Xi_Jinping] and added 685 triples for this entity\n",
      "Processed entity 115/1482 [http://example.org/graphify/person/Richardson] and added 6 triples for this entity\n",
      "Processed entity 116/1482 [http://example.org/graphify/person/Germanys] and added 0 triples for this entity\n",
      "Processed entity 117/1482 [http://example.org/graphify/person/Art_Hogan] and added 0 triples for this entity\n",
      "Processed entity 118/1482 [http://example.org/graphify/person/Donald_Trump_Jr] and added 8 triples for this entity\n",
      "Processed entity 119/1482 [http://example.org/graphify/person/Base_Darwin] and added 0 triples for this entity\n",
      "Processed entity 120/1482 [http://example.org/graphify/person/Gemini] and added 1 triples for this entity\n",
      "Processed entity 121/1482 [http://example.org/graphify/person/Inspur_Group] and added 0 triples for this entity\n",
      "Processed entity 122/1482 [http://example.org/graphify/person/Europes] and added 0 triples for this entity\n",
      "Processed entity 123/1482 [http://example.org/graphify/person/BYD] and added 9 triples for this entity\n",
      "Processed entity 124/1482 [http://example.org/graphify/person/David_Solomon] and added 8 triples for this entity\n",
      "Processed entity 125/1482 [http://example.org/graphify/person/Michael_Brown] and added 6 triples for this entity\n",
      "Processed entity 126/1482 [http://example.org/graphify/person/Saab_Automobile] and added 418 triples for this entity\n",
      "Processed entity 127/1482 [http://example.org/graphify/person/Scott_Bessent] and added 19 triples for this entity\n",
      "Processed entity 128/1482 [http://example.org/graphify/person/Satsuki_Katayama] and added 411 triples for this entity\n",
      "Processed entity 129/1482 [http://example.org/graphify/person/Piero_Cipollone] and added 0 triples for this entity\n",
      "Processed entity 130/1482 [http://example.org/graphify/person/Landau] and added 263 triples for this entity\n",
      "Processed entity 131/1482 [http://example.org/graphify/person/Hyundai_Steels] and added 0 triples for this entity\n",
      "Processed entity 132/1482 [http://example.org/graphify/person/Panmure_Liberum] and added 0 triples for this entity\n",
      "Processed entity 133/1482 [http://example.org/graphify/person/Julia_Pollak] and added 0 triples for this entity\n",
      "Processed entity 134/1482 [http://example.org/graphify/person/Chair_Don_Kohn] and added 0 triples for this entity\n",
      "Processed entity 135/1482 [http://example.org/graphify/person/VWs_Skodabranded] and added 0 triples for this entity\n",
      "Processed entity 136/1482 [http://example.org/graphify/person/Rebecca_Sharpe] and added 8 triples for this entity\n",
      "Processed entity 137/1482 [http://example.org/graphify/person/Ed] and added 4 triples for this entity\n",
      "Processed entity 138/1482 [http://example.org/graphify/person/Zach_Witkoff] and added 0 triples for this entity\n",
      "Processed entity 139/1482 [http://example.org/graphify/person/Mahindra] and added 4 triples for this entity\n",
      "Processed entity 140/1482 [http://example.org/graphify/person/Euisun_Chung] and added 8 triples for this entity\n",
      "Processed entity 141/1482 [http://example.org/graphify/person/Model_Y] and added 8 triples for this entity\n",
      "Processed entity 142/1482 [http://example.org/graphify/person/Jeffrey_Kessler] and added 8 triples for this entity\n",
      "Processed entity 143/1482 [http://example.org/graphify/person/Minneapolis_Feds_Kashkari_St_Louis_Feds_Musalem] and added 0 triples for this entity\n",
      "Processed entity 144/1482 [http://example.org/graphify/person/Imparato] and added 8 triples for this entity\n",
      "Processed entity 145/1482 [http://example.org/graphify/person/Tim_Cook] and added 494 triples for this entity\n",
      "Processed entity 146/1482 [http://example.org/graphify/person/Shai_Akabas] and added 0 triples for this entity\n",
      "Processed entity 147/1482 [http://example.org/graphify/person/Cao] and added 3 triples for this entity\n",
      "Processed entity 148/1482 [http://example.org/graphify/person/Leigh_Lytle] and added 0 triples for this entity\n",
      "Processed entity 149/1482 [http://example.org/graphify/person/LSEG_US] and added 0 triples for this entity\n",
      "Processed entity 150/1482 [http://example.org/graphify/person/Bernstein] and added 3 triples for this entity\n",
      "Processed entity 151/1482 [http://example.org/graphify/person/Aramco] and added 8 triples for this entity\n",
      "Processed entity 152/1482 [http://example.org/graphify/person/Bostic] and added 8 triples for this entity\n",
      "Processed entity 153/1482 [http://example.org/graphify/person/Chinas] and added 27 triples for this entity\n",
      "Processed entity 154/1482 [http://example.org/graphify/person/Tokyo_Gas] and added 279 triples for this entity\n",
      "Processed entity 155/1482 [http://example.org/graphify/person/Kazuo_Ueda] and added 0 triples for this entity\n",
      "Processed entity 156/1482 [http://example.org/graphify/person/Wells_Fargo] and added 521 triples for this entity\n",
      "Processed entity 157/1482 [http://example.org/graphify/person/Morning_Bid] and added 0 triples for this entity\n",
      "Processed entity 158/1482 [http://example.org/graphify/person/Austrias_Strabag_STRVVI] and added 0 triples for this entity\n",
      "Processed entity 159/1482 [http://example.org/graphify/person/Holger_Schmieding] and added 59 triples for this entity\n",
      "Processed entity 160/1482 [http://example.org/graphify/person/Hewlett_Packard] and added 8 triples for this entity\n",
      "Processed entity 161/1482 [http://example.org/graphify/person/Rachel_Reeves] and added 469 triples for this entity\n",
      "Processed entity 162/1482 [http://example.org/graphify/person/Katayama] and added 3 triples for this entity\n",
      "Processed entity 163/1482 [http://example.org/graphify/person/Lululemon_Athletica_LULUO] and added 0 triples for this entity\n",
      "Processed entity 164/1482 [http://example.org/graphify/person/Elon_Musk] and added 320 triples for this entity\n",
      "Processed entity 165/1482 [http://example.org/graphify/person/Mary_Barra] and added 558 triples for this entity\n",
      "Processed entity 166/1482 [http://example.org/graphify/person/Alberto_Musalem] and added 0 triples for this entity\n",
      "Processed entity 167/1482 [http://example.org/graphify/person/Brad_Lightcap] and added 0 triples for this entity\n",
      "Processed entity 168/1482 [http://example.org/graphify/person/Tsuyoshi_Ueno] and added 0 triples for this entity\n",
      "Processed entity 169/1482 [http://example.org/graphify/person/Stellantis_Mirafiori] and added 0 triples for this entity\n",
      "Processed entity 170/1482 [http://example.org/graphify/person/Palmer_Luckey] and added 531 triples for this entity\n",
      "Processed entity 171/1482 [http://example.org/graphify/person/Weibo_However] and added 0 triples for this entity\n",
      "Processed entity 172/1482 [http://example.org/graphify/person/Watson] and added 3 triples for this entity\n",
      "Processed entity 173/1482 [http://example.org/graphify/person/Traton] and added 546 triples for this entity\n",
      "Processed entity 174/1482 [http://example.org/graphify/person/Jillian_Blanchard] and added 0 triples for this entity\n",
      "Processed entity 175/1482 [http://example.org/graphify/person/Chris_Davison] and added 0 triples for this entity\n",
      "Processed entity 176/1482 [http://example.org/graphify/person/Steven_Leung] and added 8 triples for this entity\n",
      "Processed entity 177/1482 [http://example.org/graphify/person/Ablin] and added 8 triples for this entity\n",
      "Processed entity 178/1482 [http://example.org/graphify/person/Robinhood_Witkoff] and added 0 triples for this entity\n",
      "Processed entity 179/1482 [http://example.org/graphify/person/Larry_Fink] and added 732 triples for this entity\n",
      "Processed entity 180/1482 [http://example.org/graphify/person/Citi] and added 8 triples for this entity\n",
      "Processed entity 181/1482 [http://example.org/graphify/person/Lee_Taehwan] and added 259 triples for this entity\n",
      "Processed entity 182/1482 [http://example.org/graphify/person/Bob_Doll] and added 469 triples for this entity\n",
      "Processed entity 183/1482 [http://example.org/graphify/person/Francois_Villeroy_de_Galhau] and added 8 triples for this entity\n",
      "Processed entity 184/1482 [http://example.org/graphify/person/Novo_Nordisk] and added 341 triples for this entity\n",
      "Processed entity 185/1482 [http://example.org/graphify/person/Standard_Chartereds] and added 0 triples for this entity\n",
      "Processed entity 186/1482 [http://example.org/graphify/person/Yesha_Yadav] and added 0 triples for this entity\n",
      "Processed entity 187/1482 [http://example.org/graphify/person/Reliance_Jio_Samsung] and added 0 triples for this entity\n",
      "Processed entity 188/1482 [http://example.org/graphify/person/Haruhiko_Kuroda] and added 598 triples for this entity\n",
      "Processed entity 189/1482 [http://example.org/graphify/person/Chris_Heron] and added 0 triples for this entity\n",
      "Processed entity 190/1482 [http://example.org/graphify/person/Mali] and added 230 triples for this entity\n",
      "Processed entity 191/1482 [http://example.org/graphify/person/Lutnick] and added 8 triples for this entity\n",
      "Processed entity 192/1482 [http://example.org/graphify/person/18A] and added 190 triples for this entity\n",
      "Processed entity 193/1482 [http://example.org/graphify/person/Gennadiy_Goldberg] and added 0 triples for this entity\n",
      "Processed entity 194/1482 [http://example.org/graphify/person/LSEG_LSEGL] and added 0 triples for this entity\n",
      "Processed entity 195/1482 [http://example.org/graphify/person/Alphabets_Google] and added 0 triples for this entity\n",
      "Processed entity 196/1482 [http://example.org/graphify/person/Oysho] and added 302 triples for this entity\n",
      "Processed entity 197/1482 [http://example.org/graphify/person/Riot_RIOTO] and added 0 triples for this entity\n",
      "Processed entity 198/1482 [http://example.org/graphify/person/Galvin] and added 8 triples for this entity\n",
      "Processed entity 199/1482 [http://example.org/graphify/person/Dropbox] and added 355 triples for this entity\n",
      "Processed entity 200/1482 [http://example.org/graphify/person/Assura] and added 8 triples for this entity\n",
      "Processed entity 201/1482 [http://example.org/graphify/person/Dropbox_DBXO] and added 0 triples for this entity\n",
      "Processed entity 202/1482 [http://example.org/graphify/person/Sonal_Bajaj] and added 0 triples for this entity\n",
      "Processed entity 203/1482 [http://example.org/graphify/person/Susquehanna] and added 8 triples for this entity\n",
      "Processed entity 204/1482 [http://example.org/graphify/person/Berlins] and added 0 triples for this entity\n",
      "Processed entity 205/1482 [http://example.org/graphify/person/LSEG] and added 8 triples for this entity\n",
      "Processed entity 206/1482 [http://example.org/graphify/person/Tesla_SpaceX] and added 0 triples for this entity\n",
      "Processed entity 207/1482 [http://example.org/graphify/person/Lutz_Meschke] and added 0 triples for this entity\n",
      "Processed entity 208/1482 [http://example.org/graphify/person/Brooke_Rollins] and added 427 triples for this entity\n",
      "Processed entity 209/1482 [http://example.org/graphify/person/Brose] and added 205 triples for this entity\n",
      "Processed entity 210/1482 [http://example.org/graphify/person/Kennedy_Jr] and added 0 triples for this entity\n",
      "Processed entity 211/1482 [http://example.org/graphify/person/Mark_Milam] and added 0 triples for this entity\n",
      "Processed entity 212/1482 [http://example.org/graphify/person/Chris_Williamson] and added 9 triples for this entity\n",
      "Processed entity 213/1482 [http://example.org/graphify/person/Rossiter] and added 9 triples for this entity\n",
      "Processed entity 214/1482 [http://example.org/graphify/person/Sacks] and added 8 triples for this entity\n",
      "Processed entity 215/1482 [http://example.org/graphify/person/Range_Rover] and added 378 triples for this entity\n",
      "Processed entity 216/1482 [http://example.org/graphify/person/Salaries] and added 8 triples for this entity\n",
      "Processed entity 217/1482 [http://example.org/graphify/person/Zhang_Yiming] and added 368 triples for this entity\n",
      "Processed entity 218/1482 [http://example.org/graphify/person/Danielle_Smith] and added 677 triples for this entity\n",
      "Processed entity 219/1482 [http://example.org/graphify/person/Galvins] and added 0 triples for this entity\n",
      "Processed entity 220/1482 [http://example.org/graphify/person/Ripple] and added 3 triples for this entity\n",
      "Processed entity 221/1482 [http://example.org/graphify/person/Music] and added 85 triples for this entity\n",
      "Processed entity 222/1482 [http://example.org/graphify/person/Joe_Biden] and added 603 triples for this entity\n",
      "Processed entity 223/1482 [http://example.org/graphify/person/Leyen] and added 8 triples for this entity\n",
      "Processed entity 224/1482 [http://example.org/graphify/person/Josh_Linville] and added 0 triples for this entity\n",
      "Processed entity 225/1482 [http://example.org/graphify/person/Brian_Jacobsen] and added 0 triples for this entity\n",
      "Processed entity 226/1482 [http://example.org/graphify/person/Ronald_Lam] and added 571 triples for this entity\n",
      "Processed entity 227/1482 [http://example.org/graphify/person/Don_Kohn] and added 8 triples for this entity\n",
      "Processed entity 228/1482 [http://example.org/graphify/person/Qualcomm_QCOMO] and added 0 triples for this entity\n",
      "Processed entity 229/1482 [http://example.org/graphify/person/Goodrich] and added 8 triples for this entity\n",
      "Processed entity 230/1482 [http://example.org/graphify/person/Altman] and added 10 triples for this entity\n",
      "Processed entity 231/1482 [http://example.org/graphify/person/Sebastiaan_Bock] and added 0 triples for this entity\n",
      "Processed entity 232/1482 [http://example.org/graphify/person/Shark] and added 156 triples for this entity\n",
      "Processed entity 233/1482 [http://example.org/graphify/person/Williamson_The] and added 0 triples for this entity\n",
      "Processed entity 234/1482 [http://example.org/graphify/person/Starlink] and added 221 triples for this entity\n",
      "Processed entity 235/1482 [http://example.org/graphify/person/Atanas_Kolev] and added 32 triples for this entity\n",
      "Processed entity 236/1482 [http://example.org/graphify/person/Lightcap] and added 0 triples for this entity\n",
      "Processed entity 237/1482 [http://example.org/graphify/person/Baidu_Alibaba] and added 0 triples for this entity\n",
      "Processed entity 238/1482 [http://example.org/graphify/person/Kevin_Buckland] and added 0 triples for this entity\n",
      "Processed entity 239/1482 [http://example.org/graphify/person/Giansante] and added 0 triples for this entity\n",
      "Processed entity 240/1482 [http://example.org/graphify/person/Stellantis] and added 402 triples for this entity\n",
      "Processed entity 241/1482 [http://example.org/graphify/person/Drew_Houston] and added 390 triples for this entity\n",
      "Processed entity 242/1482 [http://example.org/graphify/person/Stonepeak] and added 0 triples for this entity\n",
      "Processed entity 243/1482 [http://example.org/graphify/person/Michael_Wilson] and added 15 triples for this entity\n",
      "Processed entity 244/1482 [http://example.org/graphify/person/Today_Ill] and added 0 triples for this entity\n",
      "Processed entity 245/1482 [http://example.org/graphify/person/Williamson] and added 9 triples for this entity\n",
      "Processed entity 246/1482 [http://example.org/graphify/person/Satya_Nadella] and added 381 triples for this entity\n",
      "Processed entity 247/1482 [http://example.org/graphify/person/Xavier_Brun] and added 0 triples for this entity\n",
      "Processed entity 248/1482 [http://example.org/graphify/person/Powell] and added 1 triples for this entity\n",
      "Processed entity 249/1482 [http://example.org/graphify/person/Joe_Bidens] and added 0 triples for this entity\n",
      "Processed entity 250/1482 [http://example.org/graphify/person/Founded] and added 8 triples for this entity\n",
      "Processed entity 251/1482 [http://example.org/graphify/person/Fox_Business] and added 568 triples for this entity\n",
      "Processed entity 252/1482 [http://example.org/graphify/person/Lee] and added 2 triples for this entity\n",
      "Processed entity 253/1482 [http://example.org/graphify/person/Brinkema] and added 0 triples for this entity\n",
      "Processed entity 254/1482 [http://example.org/graphify/person/Howard_Lutnick_Sector] and added 0 triples for this entity\n",
      "Processed entity 255/1482 [http://example.org/graphify/person/Kyiv] and added 180 triples for this entity\n",
      "Processed entity 256/1482 [http://example.org/graphify/person/Intel_Gelsinger] and added 0 triples for this entity\n",
      "Processed entity 257/1482 [http://example.org/graphify/person/Dave_Walton] and added 460 triples for this entity\n",
      "Processed entity 258/1482 [http://example.org/graphify/person/Big_Tech] and added 64 triples for this entity\n",
      "Processed entity 259/1482 [http://example.org/graphify/person/Retail] and added 103 triples for this entity\n",
      "Processed entity 260/1482 [http://example.org/graphify/person/Moores] and added 451 triples for this entity\n",
      "Processed entity 261/1482 [http://example.org/graphify/person/Ghost_Shark] and added 143 triples for this entity\n",
      "Processed entity 262/1482 [http://example.org/graphify/person/Wang] and added 8 triples for this entity\n",
      "Processed entity 263/1482 [http://example.org/graphify/person/Chrystia_Freeland] and added 590 triples for this entity\n",
      "Processed entity 264/1482 [http://example.org/graphify/person/Travel] and added 53 triples for this entity\n",
      "Processed entity 265/1482 [http://example.org/graphify/person/David_Goodrich] and added 9 triples for this entity\n",
      "Processed entity 266/1482 [http://example.org/graphify/person/Wright] and added 12 triples for this entity\n",
      "Processed entity 267/1482 [http://example.org/graphify/person/Jerome_Powells] and added 0 triples for this entity\n",
      "Processed entity 268/1482 [http://example.org/graphify/person/Steven_Englander] and added 0 triples for this entity\n",
      "Processed entity 269/1482 [http://example.org/graphify/person/Zara] and added 8 triples for this entity\n",
      "Processed entity 270/1482 [http://example.org/graphify/person/Walmart] and added 613 triples for this entity\n",
      "Processed entity 271/1482 [http://example.org/graphify/person/Gerry_Fowler] and added 519 triples for this entity\n",
      "Processed entity 272/1482 [http://example.org/graphify/person/Pratt_Whitney] and added 8 triples for this entity\n",
      "Processed entity 273/1482 [http://example.org/graphify/person/Ardoino] and added 0 triples for this entity\n",
      "Processed entity 274/1482 [http://example.org/graphify/person/Alastair_Pinder] and added 0 triples for this entity\n",
      "Processed entity 275/1482 [http://example.org/graphify/person/Danni_Hewson] and added 0 triples for this entity\n",
      "Processed entity 276/1482 [http://example.org/graphify/person/John_Waldron] and added 8 triples for this entity\n",
      "Processed entity 277/1482 [http://example.org/graphify/person/Christian_Brose] and added 0 triples for this entity\n",
      "Processed entity 278/1482 [http://example.org/graphify/person/Marie_Nilsson] and added 0 triples for this entity\n",
      "Processed entity 279/1482 [http://example.org/graphify/person/Armstrong] and added 3 triples for this entity\n",
      "Processed entity 280/1482 [http://example.org/graphify/person/Vietnam_The] and added 0 triples for this entity\n",
      "Processed entity 281/1482 [http://example.org/graphify/person/Visible_Alpha] and added 0 triples for this entity\n",
      "Processed entity 282/1482 [http://example.org/graphify/person/Kay_Hian] and added 0 triples for this entity\n",
      "Processed entity 283/1482 [http://example.org/graphify/person/Saylor] and added 8 triples for this entity\n",
      "Processed entity 284/1482 [http://example.org/graphify/person/Scale_AI] and added 0 triples for this entity\n",
      "Processed entity 285/1482 [http://example.org/graphify/person/Michael_T_Gapen] and added 0 triples for this entity\n",
      "Processed entity 286/1482 [http://example.org/graphify/person/Russias] and added 8 triples for this entity\n",
      "Processed entity 287/1482 [http://example.org/graphify/person/Rheinmetall] and added 331 triples for this entity\n",
      "Processed entity 288/1482 [http://example.org/graphify/person/Rosa_Wang] and added 0 triples for this entity\n",
      "Processed entity 289/1482 [http://example.org/graphify/person/Donald_Trump_Neither_Walmart] and added 0 triples for this entity\n",
      "Processed entity 290/1482 [http://example.org/graphify/person/Jeff_Landry_Trump] and added 0 triples for this entity\n",
      "Processed entity 291/1482 [http://example.org/graphify/person/Anima] and added 221 triples for this entity\n",
      "Processed entity 292/1482 [http://example.org/graphify/person/Dick] and added 4 triples for this entity\n",
      "Processed entity 293/1482 [http://example.org/graphify/person/Shen] and added 9 triples for this entity\n",
      "Processed entity 294/1482 [http://example.org/graphify/person/LSEG_Adding] and added 0 triples for this entity\n",
      "Processed entity 295/1482 [http://example.org/graphify/person/Winsopia] and added 0 triples for this entity\n",
      "Processed entity 296/1482 [http://example.org/graphify/person/Sergei_Lavrov] and added 8 triples for this entity\n",
      "Processed entity 297/1482 [http://example.org/graphify/person/Lagarde] and added 9 triples for this entity\n",
      "Processed entity 298/1482 [http://example.org/graphify/person/Lia_Cao] and added 0 triples for this entity\n",
      "Processed entity 299/1482 [http://example.org/graphify/person/Tesla_Model] and added 0 triples for this entity\n",
      "Processed entity 300/1482 [http://example.org/graphify/person/Hassett] and added 9 triples for this entity\n",
      "Processed entity 301/1482 [http://example.org/graphify/person/Brian_Armstrong] and added 8 triples for this entity\n",
      "Processed entity 302/1482 [http://example.org/graphify/person/Berenberg_The] and added 0 triples for this entity\n",
      "Processed entity 303/1482 [http://example.org/graphify/person/Ken_Seitz] and added 0 triples for this entity\n",
      "Processed entity 304/1482 [http://example.org/graphify/person/Ecarx] and added 0 triples for this entity\n",
      "Processed entity 305/1482 [http://example.org/graphify/person/Mills] and added 3 triples for this entity\n",
      "Processed entity 306/1482 [http://example.org/graphify/person/Lam] and added 1 triples for this entity\n",
      "Processed entity 307/1482 [http://example.org/graphify/person/Mark_Chen] and added 443 triples for this entity\n",
      "Processed entity 308/1482 [http://example.org/graphify/person/Tesla_Takedown] and added 0 triples for this entity\n",
      "Processed entity 309/1482 [http://example.org/graphify/person/Hobart] and added 431 triples for this entity\n",
      "Processed entity 310/1482 [http://example.org/graphify/person/Conrad_DeQuadros] and added 0 triples for this entity\n",
      "Processed entity 311/1482 [http://example.org/graphify/person/Moss] and added 90 triples for this entity\n",
      "Processed entity 312/1482 [http://example.org/graphify/person/Cryptocurrency] and added 236 triples for this entity\n",
      "Processed entity 313/1482 [http://example.org/graphify/person/CK_Hutchison] and added 8 triples for this entity\n",
      "Processed entity 314/1482 [http://example.org/graphify/person/Tata] and added 3 triples for this entity\n",
      "Processed entity 315/1482 [http://example.org/graphify/person/Russell] and added 1 triples for this entity\n",
      "Processed entity 316/1482 [http://example.org/graphify/person/Jack_Ma] and added 569 triples for this entity\n",
      "Processed entity 317/1482 [http://example.org/graphify/person/Greg_Bassuk] and added 0 triples for this entity\n",
      "Processed entity 318/1482 [http://example.org/graphify/person/Officer_Brad_Lightcap] and added 0 triples for this entity\n",
      "Processed entity 319/1482 [http://example.org/graphify/person/Nasser] and added 8 triples for this entity\n",
      "Processed entity 320/1482 [http://example.org/graphify/person/Siri] and added 563 triples for this entity\n",
      "Processed entity 321/1482 [http://example.org/graphify/person/Behind] and added 8 triples for this entity\n",
      "Processed entity 322/1482 [http://example.org/graphify/person/Peter_Carlsson] and added 394 triples for this entity\n",
      "Processed entity 323/1482 [http://example.org/graphify/person/Chanana] and added 0 triples for this entity\n",
      "Processed entity 324/1482 [http://example.org/graphify/person/Boeings] and added 0 triples for this entity\n",
      "Processed entity 325/1482 [http://example.org/graphify/person/An_Anthropic] and added 0 triples for this entity\n",
      "Processed entity 326/1482 [http://example.org/graphify/person/Talley_Leger] and added 0 triples for this entity\n",
      "Processed entity 327/1482 [http://example.org/graphify/person/Hyundai_Steel] and added 209 triples for this entity\n",
      "Processed entity 328/1482 [http://example.org/graphify/person/Harmony_Gold] and added 8 triples for this entity\n",
      "Processed entity 329/1482 [http://example.org/graphify/person/Oprah_Winfrey_Watson] and added 0 triples for this entity\n",
      "Processed entity 330/1482 [http://example.org/graphify/person/Little] and added 10 triples for this entity\n",
      "Processed entity 331/1482 [http://example.org/graphify/person/Ill] and added 8 triples for this entity\n",
      "Processed entity 332/1482 [http://example.org/graphify/person/Frances_SPIE_SPIEPA] and added 0 triples for this entity\n",
      "Processed entity 333/1482 [http://example.org/graphify/person/Weve] and added 0 triples for this entity\n",
      "Processed entity 334/1482 [http://example.org/graphify/person/Peter_Huebner] and added 0 triples for this entity\n",
      "Processed entity 335/1482 [http://example.org/graphify/person/Shares] and added 8 triples for this entity\n",
      "Processed entity 336/1482 [http://example.org/graphify/person/Torsten_Slok] and added 0 triples for this entity\n",
      "Processed entity 337/1482 [http://example.org/graphify/person/Kamran_Ansari] and added 0 triples for this entity\n",
      "Processed entity 338/1482 [http://example.org/graphify/person/Elvis] and added 8 triples for this entity\n",
      "Processed entity 339/1482 [http://example.org/graphify/person/Anima_Holding] and added 0 triples for this entity\n",
      "Processed entity 340/1482 [http://example.org/graphify/person/Volodymyr_Zelenskyy] and added 516 triples for this entity\n",
      "Processed entity 341/1482 [http://example.org/graphify/person/Andurils] and added 0 triples for this entity\n",
      "Processed entity 342/1482 [http://example.org/graphify/person/Nate_PowellPalm] and added 0 triples for this entity\n",
      "Processed entity 343/1482 [http://example.org/graphify/person/Modi] and added 8 triples for this entity\n",
      "Processed entity 344/1482 [http://example.org/graphify/person/Qualcomm] and added 224 triples for this entity\n",
      "Processed entity 345/1482 [http://example.org/graphify/person/Jio_Samsung] and added 0 triples for this entity\n",
      "Processed entity 346/1482 [http://example.org/graphify/person/Lewis] and added 1 triples for this entity\n",
      "Processed entity 347/1482 [http://example.org/graphify/person/Fords_Lawler] and added 0 triples for this entity\n",
      "Processed entity 348/1482 [http://example.org/graphify/person/Its_FordWerke] and added 0 triples for this entity\n",
      "Processed entity 349/1482 [http://example.org/graphify/person/John_McCain] and added 715 triples for this entity\n",
      "Processed entity 350/1482 [http://example.org/graphify/person/Lindsey_Bell] and added 0 triples for this entity\n",
      "Processed entity 351/1482 [http://example.org/graphify/person/Xiaomis] and added 0 triples for this entity\n",
      "Processed entity 352/1482 [http://example.org/graphify/person/Steve_Bradbury] and added 8 triples for this entity\n",
      "Processed entity 353/1482 [http://example.org/graphify/person/Fords_German] and added 0 triples for this entity\n",
      "Processed entity 354/1482 [http://example.org/graphify/person/Espen_Robak] and added 0 triples for this entity\n",
      "Processed entity 355/1482 [http://example.org/graphify/person/Grok] and added 117 triples for this entity\n",
      "Processed entity 356/1482 [http://example.org/graphify/person/Bruce_Kasman] and added 15 triples for this entity\n",
      "Processed entity 357/1482 [http://example.org/graphify/person/Waller] and added 9 triples for this entity\n",
      "Processed entity 358/1482 [http://example.org/graphify/person/Fertilizer] and added 206 triples for this entity\n",
      "Processed entity 359/1482 [http://example.org/graphify/person/Sonu_Varghese] and added 0 triples for this entity\n",
      "Processed entity 360/1482 [http://example.org/graphify/person/LSEG_Teslas_Chinese] and added 0 triples for this entity\n",
      "Processed entity 361/1482 [http://example.org/graphify/person/Musks] and added 0 triples for this entity\n",
      "Processed entity 362/1482 [http://example.org/graphify/person/Stefan_Rauber] and added 0 triples for this entity\n",
      "Processed entity 363/1482 [http://example.org/graphify/person/Charu_Chanana] and added 0 triples for this entity\n",
      "Processed entity 364/1482 [http://example.org/graphify/person/Les_Borsai] and added 0 triples for this entity\n",
      "Processed entity 365/1482 [http://example.org/graphify/person/Moon] and added 235 triples for this entity\n",
      "Processed entity 366/1482 [http://example.org/graphify/person/Angelique_RenkhoffMuecke] and added 0 triples for this entity\n",
      "Processed entity 367/1482 [http://example.org/graphify/person/Adam_Hetts] and added 0 triples for this entity\n",
      "Processed entity 368/1482 [http://example.org/graphify/person/Oliver_Pursche] and added 0 triples for this entity\n",
      "Processed entity 369/1482 [http://example.org/graphify/person/Jerome_Powell] and added 655 triples for this entity\n",
      "Processed entity 370/1482 [http://example.org/graphify/person/Ermotti] and added 0 triples for this entity\n",
      "Processed entity 371/1482 [http://example.org/graphify/person/Howard_Lutnick] and added 363 triples for this entity\n",
      "Processed entity 372/1482 [http://example.org/graphify/person/Milan_Vaishnav] and added 0 triples for this entity\n",
      "Processed entity 373/1482 [http://example.org/graphify/person/Yen] and added 8 triples for this entity\n",
      "Processed entity 374/1482 [http://example.org/graphify/person/Sergio_Ermotti] and added 392 triples for this entity\n",
      "Processed entity 375/1482 [http://example.org/graphify/person/OpenAI] and added 454 triples for this entity\n",
      "Processed entity 376/1482 [http://example.org/graphify/person/Finola_OFarrell] and added 0 triples for this entity\n",
      "Processed entity 377/1482 [http://example.org/graphify/person/Lifeng] and added 0 triples for this entity\n",
      "Processed entity 378/1482 [http://example.org/graphify/person/Alice_Marie_Johnson] and added 120 triples for this entity\n",
      "Processed entity 379/1482 [http://example.org/graphify/person/Memphis_Tennessee] and added 8 triples for this entity\n",
      "Processed entity 380/1482 [http://example.org/graphify/person/Austan_Goolsbee] and added 542 triples for this entity\n",
      "Processed entity 381/1482 [http://example.org/graphify/person/Galvin_a] and added 0 triples for this entity\n",
      "Processed entity 382/1482 [http://example.org/graphify/person/graffiti] and added 0 triples for this entity\n",
      "Processed entity 383/1482 [http://example.org/graphify/person/Kyle_Rodda] and added 0 triples for this entity\n",
      "Processed entity 384/1482 [http://example.org/graphify/person/Kuroda] and added 3 triples for this entity\n",
      "Processed entity 385/1482 [http://example.org/graphify/person/David_Kostin] and added 0 triples for this entity\n",
      "Processed entity 386/1482 [http://example.org/graphify/person/Canada_Wang] and added 0 triples for this entity\n",
      "Processed entity 387/1482 [http://example.org/graphify/person/Twitter] and added 519 triples for this entity\n",
      "Processed entity 388/1482 [http://example.org/graphify/person/Becky_Morgan] and added 509 triples for this entity\n",
      "Processed entity 389/1482 [http://example.org/graphify/person/Narendra_Modis] and added 0 triples for this entity\n",
      "Processed entity 390/1482 [http://example.org/graphify/person/Frank_McCourt] and added 419 triples for this entity\n",
      "Processed entity 391/1482 [http://example.org/graphify/person/Smithfield] and added 4 triples for this entity\n",
      "Processed entity 392/1482 [http://example.org/graphify/person/Gold_Fields] and added 503 triples for this entity\n",
      "Processed entity 393/1482 [http://example.org/graphify/person/Reed_OConnor] and added 0 triples for this entity\n",
      "Processed entity 394/1482 [http://example.org/graphify/person/Chris_Wright] and added 8 triples for this entity\n",
      "Processed entity 395/1482 [http://example.org/graphify/person/Riley] and added 5 triples for this entity\n",
      "Processed entity 396/1482 [http://example.org/graphify/person/Walton] and added 2 triples for this entity\n",
      "Processed entity 397/1482 [http://example.org/graphify/person/McKinsey] and added 8 triples for this entity\n",
      "Processed entity 398/1482 [http://example.org/graphify/person/Xi] and added 4 triples for this entity\n",
      "Processed entity 399/1482 [http://example.org/graphify/person/Friend] and added 8 triples for this entity\n",
      "Processed entity 400/1482 [http://example.org/graphify/person/Smithfield_Foods] and added 289 triples for this entity\n",
      "Processed entity 401/1482 [http://example.org/graphify/person/Sam_Altman] and added 292 triples for this entity\n",
      "Processed entity 402/1482 [http://example.org/graphify/person/Daimler_Truck] and added 368 triples for this entity\n",
      "Processed entity 403/1482 [http://example.org/graphify/person/Colossus] and added 3 triples for this entity\n",
      "Processed entity 404/1482 [http://example.org/graphify/person/Gurugram] and added 8 triples for this entity\n",
      "Processed entity 405/1482 [http://example.org/graphify/person/Italys] and added 0 triples for this entity\n",
      "Processed entity 406/1482 [http://example.org/graphify/person/Leonie_Brinkema] and added 579 triples for this entity\n",
      "Processed entity 407/1482 [http://example.org/graphify/person/HK049] and added 0 triples for this entity\n",
      "Processed entity 408/1482 [http://example.org/graphify/person/Chevron_CVXN] and added 0 triples for this entity\n",
      "Processed entity 409/1482 [http://example.org/graphify/person/Armin_Papperger] and added 0 triples for this entity\n",
      "Processed entity 410/1482 [http://example.org/graphify/person/Mike_Dolan] and added 0 triples for this entity\n",
      "Processed entity 411/1482 [http://example.org/graphify/person/Christopher_Waller] and added 670 triples for this entity\n",
      "Processed entity 412/1482 [http://example.org/graphify/person/Stephen_Jen] and added 0 triples for this entity\n",
      "Processed entity 413/1482 [http://example.org/graphify/person/Teslas] and added 8 triples for this entity\n",
      "Processed entity 414/1482 [http://example.org/graphify/person/Michael_Saylor] and added 8 triples for this entity\n",
      "Processed entity 415/1482 [http://example.org/graphify/person/Kugler] and added 9 triples for this entity\n",
      "Processed entity 416/1482 [http://example.org/graphify/person/Massimo_Dutti_Stradivarius] and added 0 triples for this entity\n",
      "Processed entity 417/1482 [http://example.org/graphify/person/Alexa] and added 9 triples for this entity\n",
      "Processed entity 418/1482 [http://example.org/graphify/person/Amin_Nasser] and added 8 triples for this entity\n",
      "Processed entity 419/1482 [http://example.org/graphify/person/Elliott_Management] and added 8 triples for this entity\n",
      "Processed entity 420/1482 [http://example.org/graphify/person/James_Rossiter] and added 342 triples for this entity\n",
      "Processed entity 421/1482 [http://example.org/graphify/person/Xs] and added 8 triples for this entity\n",
      "Processed entity 422/1482 [http://example.org/graphify/person/Handelsblatt] and added 254 triples for this entity\n",
      "Processed entity 423/1482 [http://example.org/graphify/person/Steve_Tucker] and added 8 triples for this entity\n",
      "Processed entity 424/1482 [http://example.org/graphify/person/Steve_Jobs] and added 377 triples for this entity\n",
      "Processed entity 425/1482 [http://example.org/graphify/person/Tesla] and added 3 triples for this entity\n",
      "Processed entity 426/1482 [http://example.org/graphify/person/Mr_Moores] and added 0 triples for this entity\n",
      "Processed entity 427/1482 [http://example.org/graphify/person/Xi_Jinpings] and added 0 triples for this entity\n",
      "Processed entity 428/1482 [http://example.org/graphify/person/Coinbase] and added 540 triples for this entity\n",
      "Processed entity 429/1482 [http://example.org/graphify/person/Wang_Chuanfu] and added 461 triples for this entity\n",
      "Processed entity 430/1482 [http://example.org/graphify/person/Julia_Coronado] and added 0 triples for this entity\n",
      "Processed entity 431/1482 [http://example.org/graphify/person/Hang_Seng] and added 8 triples for this entity\n",
      "Processed entity 432/1482 [http://example.org/graphify/person/Moonshot] and added 8 triples for this entity\n",
      "Processed entity 433/1482 [http://example.org/graphify/person/Cloud] and added 201 triples for this entity\n",
      "Processed entity 434/1482 [http://example.org/graphify/person/Adviser_Kevin_Hassett] and added 0 triples for this entity\n",
      "Processed entity 435/1482 [http://example.org/graphify/person/Gapen] and added 0 triples for this entity\n",
      "Processed entity 436/1482 [http://example.org/graphify/person/Based] and added 8 triples for this entity\n",
      "Processed entity 437/1482 [http://example.org/graphify/person/Davidson] and added 4 triples for this entity\n",
      "Processed entity 438/1482 [http://example.org/graphify/person/Gross] and added 9 triples for this entity\n",
      "Processed entity 439/1482 [http://example.org/graphify/person/Robinhood] and added 8 triples for this entity\n",
      "Processed entity 440/1482 [http://example.org/graphify/person/Dong_Won_Chu] and added 0 triples for this entity\n",
      "Processed entity 441/1482 [http://example.org/graphify/person/Eric_Lombard] and added 157 triples for this entity\n",
      "Processed entity 442/1482 [http://example.org/graphify/person/Meta_METAO] and added 0 triples for this entity\n",
      "Processed entity 443/1482 [http://example.org/graphify/person/Howard_Lutnick_Chinas] and added 0 triples for this entity\n",
      "Processed entity 444/1482 [http://example.org/graphify/person/Bill_Sterling] and added 0 triples for this entity\n",
      "Processed entity 445/1482 [http://example.org/graphify/person/Dick_Friend] and added 0 triples for this entity\n",
      "Processed entity 446/1482 [http://example.org/graphify/person/Unlike] and added 0 triples for this entity\n",
      "Processed entity 447/1482 [http://example.org/graphify/person/Conrad] and added 9 triples for this entity\n",
      "Processed entity 448/1482 [http://example.org/graphify/person/Christopher_Landau] and added 610 triples for this entity\n",
      "Processed entity 449/1482 [http://example.org/graphify/person/Gil_Luria] and added 0 triples for this entity\n",
      "Processed entity 450/1482 [http://example.org/graphify/person/Google_China] and added 255 triples for this entity\n",
      "Processed entity 451/1482 [http://example.org/graphify/person/Paolo_Ardoino] and added 0 triples for this entity\n",
      "Processed entity 452/1482 [http://example.org/graphify/person/Fed_Governor_Christopher_Waller] and added 0 triples for this entity\n",
      "Processed entity 453/1482 [http://example.org/graphify/person/Even_Pay] and added 0 triples for this entity\n",
      "Processed entity 454/1482 [http://example.org/graphify/person/Tamil_Nadu] and added 319 triples for this entity\n",
      "Processed entity 455/1482 [http://example.org/graphify/person/Goolsbee] and added 8 triples for this entity\n",
      "Processed entity 456/1482 [http://example.org/graphify/person/Franziska_Ryser] and added 11 triples for this entity\n",
      "Processed entity 457/1482 [http://example.org/graphify/person/Jeff_Landry] and added 531 triples for this entity\n",
      "Processed entity 458/1482 [http://example.org/graphify/person/Sam_Stovall] and added 0 triples for this entity\n",
      "Processed entity 459/1482 [http://example.org/graphify/person/Frances_Schneider_Electric_SCHNPA] and added 0 triples for this entity\n",
      "Processed entity 460/1482 [http://example.org/graphify/person/Joe_Tsai] and added 8 triples for this entity\n",
      "Processed entity 461/1482 [http://example.org/graphify/person/Cam_Dahl_General_Manager] and added 0 triples for this entity\n",
      "Processed entity 462/1482 [http://example.org/graphify/person/Trumps_MAGA] and added 0 triples for this entity\n",
      "Processed entity 463/1482 [http://example.org/graphify/person/Anna_Kelly] and added 346 triples for this entity\n",
      "Processed entity 464/1482 [http://example.org/graphify/person/Marie_Johnson] and added 8 triples for this entity\n",
      "Processed entity 465/1482 [http://example.org/graphify/person/Berenberg] and added 8 triples for this entity\n",
      "Processed entity 466/1482 [http://example.org/graphify/person/Optimus] and added 8 triples for this entity\n",
      "Processed entity 467/1482 [http://example.org/graphify/person/Gen] and added 8 triples for this entity\n",
      "Processed entity 468/1482 [http://example.org/graphify/person/Elon_Musks] and added 0 triples for this entity\n",
      "Processed entity 469/1482 [http://example.org/graphify/person/Jack_Ablin] and added 0 triples for this entity\n",
      "Processed entity 470/1482 [http://example.org/graphify/person/Kevin_Hassett] and added 0 triples for this entity\n",
      "Processed entity 471/1482 [http://example.org/graphify/person/John_Lawler] and added 0 triples for this entity\n",
      "Processed entity 472/1482 [http://example.org/graphify/person/Saarstahl_Klaus_Adam] and added 0 triples for this entity\n",
      "Processed entity 473/1482 [http://example.org/graphify/person/Virgin] and added 8 triples for this entity\n",
      "Processed entity 474/1482 [http://example.org/graphify/person/Alibabas] and added 0 triples for this entity\n",
      "Processed entity 475/1482 [http://example.org/graphify/person/Spencer_Moss] and added 0 triples for this entity\n",
      "Processed entity 476/1482 [http://example.org/graphify/person/Kennedy] and added 1 triples for this entity\n",
      "Processed entity 477/1482 [http://example.org/graphify/person/Nvidia] and added 716 triples for this entity\n",
      "Processed entity 478/1482 [http://example.org/graphify/person/Vietnam] and added 426 triples for this entity\n",
      "Processed entity 479/1482 [http://example.org/graphify/person/Kasman] and added 8 triples for this entity\n",
      "Processed entity 480/1482 [http://example.org/graphify/person/JP_Richardson] and added 0 triples for this entity\n",
      "Processed entity 481/1482 [http://example.org/graphify/person/Gene_Goldman] and added 8 triples for this entity\n",
      "Processed entity 482/1482 [http://example.org/graphify/person/Sharpe] and added 9 triples for this entity\n",
      "Processed entity 483/1482 [http://example.org/graphify/person/Brendan_Carr] and added 28 triples for this entity\n",
      "Processed entity 484/1482 [http://example.org/graphify/person/platform_Xs] and added 0 triples for this entity\n",
      "Processed entity 485/1482 [http://example.org/graphify/person/Jamieson_Greer] and added 0 triples for this entity\n",
      "Processed entity 486/1482 [http://example.org/graphify/person/Claude] and added 10 triples for this entity\n",
      "Processed entity 487/1482 [http://example.org/graphify/person/Ursula_von] and added 0 triples for this entity\n",
      "Processed entity 488/1482 [http://example.org/graphify/person/Robert_F_Kennedy_Jr] and added 8 triples for this entity\n",
      "Processed entity 489/1482 [http://example.org/graphify/person/Startups] and added 8 triples for this entity\n",
      "Processed entity 490/1482 [http://example.org/graphify/person/Chair_Jerome_Powell] and added 0 triples for this entity\n",
      "Processed entity 491/1482 [http://example.org/graphify/person/JD_Vance] and added 8 triples for this entity\n",
      "Processed entity 492/1482 [http://example.org/graphify/person/Venezuelas] and added 0 triples for this entity\n",
      "Processed entity 493/1482 [http://example.org/graphify/person/Carlos_Watsons] and added 0 triples for this entity\n",
      "Processed entity 494/1482 [http://example.org/graphify/person/Bloomberg] and added 4 triples for this entity\n",
      "Processed entity 495/1482 [http://example.org/graphify/person/Gail_Slater] and added 0 triples for this entity\n",
      "Processed entity 496/1482 [http://example.org/graphify/person/Bernie_Ahkong] and added 0 triples for this entity\n",
      "Processed entity 497/1482 [http://example.org/graphify/person/Seema_Shah] and added 0 triples for this entity\n",
      "Processed entity 498/1482 [http://example.org/graphify/person/Generali_GASIMI] and added 0 triples for this entity\n",
      "Processed entity 499/1482 [http://example.org/graphify/loc/AsiaPacific] and added 50 triples for this entity\n",
      "Processed entity 500/1482 [http://example.org/graphify/loc/TikToks_US] and added 0 triples for this entity\n",
      "Processed entity 501/1482 [http://example.org/graphify/loc/New_South_Wales] and added 292 triples for this entity\n",
      "Processed entity 502/1482 [http://example.org/graphify/loc/Google_China] and added 255 triples for this entity\n",
      "Processed entity 503/1482 [http://example.org/graphify/loc/Fossurmer] and added 8 triples for this entity\n",
      "Processed entity 504/1482 [http://example.org/graphify/loc/the_Middle_East] and added 0 triples for this entity\n",
      "Processed entity 505/1482 [http://example.org/graphify/loc/Europe] and added 532 triples for this entity\n",
      "Processed entity 506/1482 [http://example.org/graphify/loc/CERAWeek] and added 24 triples for this entity\n",
      "Processed entity 507/1482 [http://example.org/graphify/loc/Europe_Eurostar] and added 0 triples for this entity\n",
      "Processed entity 508/1482 [http://example.org/graphify/loc/North_America_Europe] and added 0 triples for this entity\n",
      "Processed entity 509/1482 [http://example.org/graphify/loc/Australias] and added 8 triples for this entity\n",
      "Processed entity 510/1482 [http://example.org/graphify/loc/Africa] and added 182 triples for this entity\n",
      "Processed entity 511/1482 [http://example.org/graphify/loc/North_America] and added 493 triples for this entity\n",
      "Processed entity 512/1482 [http://example.org/graphify/loc/South] and added 49 triples for this entity\n",
      "Processed entity 513/1482 [http://example.org/graphify/loc/Gulf] and added 33 triples for this entity\n",
      "Processed entity 514/1482 [http://example.org/graphify/loc/Asia] and added 264 triples for this entity\n",
      "Processed entity 515/1482 [http://example.org/graphify/loc/Central_Asia] and added 560 triples for this entity\n",
      "Processed entity 516/1482 [http://example.org/graphify/loc/Earth] and added 134 triples for this entity\n",
      "Processed entity 517/1482 [http://example.org/graphify/loc/Pune] and added 638 triples for this entity\n",
      "Processed entity 518/1482 [http://example.org/graphify/loc/BPC] and added 9 triples for this entity\n",
      "Processed entity 519/1482 [http://example.org/graphify/loc/Americas] and added 94 triples for this entity\n",
      "Processed entity 520/1482 [http://example.org/graphify/loc/Stellantis_Mirafiori] and added 0 triples for this entity\n",
      "Processed entity 521/1482 [http://example.org/graphify/org/Reuters_Extreme] and added 0 triples for this entity\n",
      "Processed entity 522/1482 [http://example.org/graphify/org/US_Air_Forces] and added 8 triples for this entity\n",
      "Processed entity 523/1482 [http://example.org/graphify/org/Dun_Bradstreet_DNBN] and added 0 triples for this entity\n",
      "Processed entity 524/1482 [http://example.org/graphify/org/Tesla_Takedown] and added 0 triples for this entity\n",
      "Processed entity 525/1482 [http://example.org/graphify/org/Nettrix_Information_Industry_Co_Suma_Technology_Co] and added 0 triples for this entity\n",
      "Processed entity 526/1482 [http://example.org/graphify/org/South_Koreas_Hyundai_Motor_Group] and added 0 triples for this entity\n",
      "Processed entity 527/1482 [http://example.org/graphify/org/The_US_Trade_Representatives_Office] and added 0 triples for this entity\n",
      "Processed entity 528/1482 [http://example.org/graphify/org/Oracle_Opinions] and added 0 triples for this entity\n",
      "Processed entity 529/1482 [http://example.org/graphify/org/Meta_METAO] and added 0 triples for this entity\n",
      "Processed entity 530/1482 [http://example.org/graphify/org/University_of_Illinois] and added 8 triples for this entity\n",
      "Processed entity 531/1482 [http://example.org/graphify/org/ATT_and_Verizon_VZN] and added 0 triples for this entity\n",
      "Processed entity 532/1482 [http://example.org/graphify/org/Bank_of_England] and added 316 triples for this entity\n",
      "Processed entity 533/1482 [http://example.org/graphify/org/Financial_Markets] and added 0 triples for this entity\n",
      "Processed entity 534/1482 [http://example.org/graphify/org/Daimler_Truck] and added 368 triples for this entity\n",
      "Processed entity 535/1482 [http://example.org/graphify/org/LG] and added 8 triples for this entity\n",
      "Processed entity 536/1482 [http://example.org/graphify/org/Tether] and added 12 triples for this entity\n",
      "Processed entity 537/1482 [http://example.org/graphify/org/ETP] and added 8 triples for this entity\n",
      "Processed entity 538/1482 [http://example.org/graphify/org/GEELYUL_Volvo] and added 0 triples for this entity\n",
      "Processed entity 539/1482 [http://example.org/graphify/org/Street] and added 126 triples for this entity\n",
      "Processed entity 540/1482 [http://example.org/graphify/org/Reuters_Tesla] and added 0 triples for this entity\n",
      "Processed entity 541/1482 [http://example.org/graphify/org/Inspur] and added 233 triples for this entity\n",
      "Processed entity 542/1482 [http://example.org/graphify/org/NYSE] and added 8 triples for this entity\n",
      "Processed entity 543/1482 [http://example.org/graphify/org/Reuters_Elon_Musks_xAI] and added 0 triples for this entity\n",
      "Processed entity 544/1482 [http://example.org/graphify/org/Reliance] and added 3 triples for this entity\n",
      "Processed entity 545/1482 [http://example.org/graphify/org/Hong_Kong_Stock_Exchange_Xiaomi] and added 0 triples for this entity\n",
      "Processed entity 546/1482 [http://example.org/graphify/org/LzLabs_Limited] and added 0 triples for this entity\n",
      "Processed entity 547/1482 [http://example.org/graphify/org/Truth_Social] and added 457 triples for this entity\n",
      "Processed entity 548/1482 [http://example.org/graphify/org/Reuters_Chinese] and added 0 triples for this entity\n",
      "Processed entity 549/1482 [http://example.org/graphify/org/Green_Party] and added 1 triples for this entity\n",
      "Processed entity 550/1482 [http://example.org/graphify/org/Hyundai] and added 40 triples for this entity\n",
      "Processed entity 551/1482 [http://example.org/graphify/org/The_Hang_Seng] and added 0 triples for this entity\n",
      "Processed entity 552/1482 [http://example.org/graphify/org/Microsoft] and added 624 triples for this entity\n",
      "Processed entity 553/1482 [http://example.org/graphify/org/Eurostar] and added 250 triples for this entity\n",
      "Processed entity 554/1482 [http://example.org/graphify/org/IPO] and added 8 triples for this entity\n",
      "Processed entity 555/1482 [http://example.org/graphify/org/Elon_Musks_Department_of_Government_Efficiency] and added 0 triples for this entity\n",
      "Processed entity 556/1482 [http://example.org/graphify/org/Dicks_Sporting_Goods] and added 8 triples for this entity\n",
      "Processed entity 557/1482 [http://example.org/graphify/org/Brean_Capital] and added 0 triples for this entity\n",
      "Processed entity 558/1482 [http://example.org/graphify/org/Tokyo_Gas] and added 279 triples for this entity\n",
      "Processed entity 559/1482 [http://example.org/graphify/org/Claude_US] and added 0 triples for this entity\n",
      "Processed entity 560/1482 [http://example.org/graphify/org/Germanys_Commerzbank_CBKGDE] and added 0 triples for this entity\n",
      "Processed entity 561/1482 [http://example.org/graphify/org/Boston_PsiQuantum] and added 0 triples for this entity\n",
      "Processed entity 562/1482 [http://example.org/graphify/org/Trump_Administration] and added 8 triples for this entity\n",
      "Processed entity 563/1482 [http://example.org/graphify/org/Reuters_Alibaba_Group] and added 0 triples for this entity\n",
      "Processed entity 564/1482 [http://example.org/graphify/org/US_Commodity_Futures_Trading_Commission] and added 0 triples for this entity\n",
      "Processed entity 565/1482 [http://example.org/graphify/org/Tesla_CEO_Elon_Musk] and added 0 triples for this entity\n",
      "Processed entity 566/1482 [http://example.org/graphify/org/Chinas_AI] and added 0 triples for this entity\n",
      "Processed entity 567/1482 [http://example.org/graphify/org/Chipmaker_Nvidia_NVDAO] and added 0 triples for this entity\n",
      "Processed entity 568/1482 [http://example.org/graphify/org/Cresset_Capital] and added 0 triples for this entity\n",
      "Processed entity 569/1482 [http://example.org/graphify/org/Treasury_International_Capital] and added 12 triples for this entity\n",
      "Processed entity 570/1482 [http://example.org/graphify/org/OAG] and added 9 triples for this entity\n",
      "Processed entity 571/1482 [http://example.org/graphify/org/FTSE] and added 8 triples for this entity\n",
      "Processed entity 572/1482 [http://example.org/graphify/org/Toronto_Star] and added 159 triples for this entity\n",
      "Processed entity 573/1482 [http://example.org/graphify/org/Reuters_Tokyo_Gas] and added 0 triples for this entity\n",
      "Processed entity 574/1482 [http://example.org/graphify/org/US_Commerce_Department] and added 8 triples for this entity\n",
      "Processed entity 575/1482 [http://example.org/graphify/org/Q4Q4] and added 0 triples for this entity\n",
      "Processed entity 576/1482 [http://example.org/graphify/org/Reuters_Working] and added 0 triples for this entity\n",
      "Processed entity 577/1482 [http://example.org/graphify/org/Fed] and added 8 triples for this entity\n",
      "Processed entity 578/1482 [http://example.org/graphify/org/Beach_Boys] and added 8 triples for this entity\n",
      "Processed entity 579/1482 [http://example.org/graphify/org/Winsopia] and added 0 triples for this entity\n",
      "Processed entity 580/1482 [http://example.org/graphify/org/Clearlake_Capital] and added 0 triples for this entity\n",
      "Processed entity 581/1482 [http://example.org/graphify/org/Fiscal] and added 4 triples for this entity\n",
      "Processed entity 582/1482 [http://example.org/graphify/org/Dell_Technologies_DELLN] and added 0 triples for this entity\n",
      "Processed entity 583/1482 [http://example.org/graphify/org/IBM] and added 262 triples for this entity\n",
      "Processed entity 584/1482 [http://example.org/graphify/org/Chicago_Quantum] and added 0 triples for this entity\n",
      "Processed entity 585/1482 [http://example.org/graphify/org/Frances] and added 2 triples for this entity\n",
      "Processed entity 586/1482 [http://example.org/graphify/org/ANZ] and added 8 triples for this entity\n",
      "Processed entity 587/1482 [http://example.org/graphify/org/The_US_Department_of_Justice] and added 0 triples for this entity\n",
      "Processed entity 588/1482 [http://example.org/graphify/org/ReutersJamie] and added 0 triples for this entity\n",
      "Processed entity 589/1482 [http://example.org/graphify/org/Broadcom_AVGOO] and added 0 triples for this entity\n",
      "Processed entity 590/1482 [http://example.org/graphify/org/FCC] and added 8 triples for this entity\n",
      "Processed entity 591/1482 [http://example.org/graphify/org/America_Healthy_Again] and added 0 triples for this entity\n",
      "Processed entity 592/1482 [http://example.org/graphify/org/Apple_AAPLO] and added 0 triples for this entity\n",
      "Processed entity 593/1482 [http://example.org/graphify/org/Fox_Business] and added 568 triples for this entity\n",
      "Processed entity 594/1482 [http://example.org/graphify/org/Fiat] and added 465 triples for this entity\n",
      "Processed entity 595/1482 [http://example.org/graphify/org/The_Equipment_Leasing_Finance_Foundation] and added 0 triples for this entity\n",
      "Processed entity 596/1482 [http://example.org/graphify/org/the_Federal_Reserve] and added 0 triples for this entity\n",
      "Processed entity 597/1482 [http://example.org/graphify/org/Since_Trumps] and added 0 triples for this entity\n",
      "Processed entity 598/1482 [http://example.org/graphify/org/UBS_With_DeepSeek] and added 0 triples for this entity\n",
      "Processed entity 599/1482 [http://example.org/graphify/org/Steels] and added 8 triples for this entity\n",
      "Processed entity 600/1482 [http://example.org/graphify/org/Berlins] and added 0 triples for this entity\n",
      "Processed entity 601/1482 [http://example.org/graphify/org/AJ_Bell] and added 375 triples for this entity\n",
      "Processed entity 602/1482 [http://example.org/graphify/org/Reuters_Samsung] and added 0 triples for this entity\n",
      "Processed entity 603/1482 [http://example.org/graphify/org/Fed_Vice] and added 0 triples for this entity\n",
      "Processed entity 604/1482 [http://example.org/graphify/org/Mukesh_Ambanis] and added 0 triples for this entity\n",
      "Processed entity 605/1482 [http://example.org/graphify/org/Nippon_Individual_Savings_Account] and added 8 triples for this entity\n",
      "Processed entity 606/1482 [http://example.org/graphify/org/Make_Europe_Great_Again] and added 8 triples for this entity\n",
      "Processed entity 607/1482 [http://example.org/graphify/org/Harris_Financial_Group] and added 0 triples for this entity\n",
      "Processed entity 608/1482 [http://example.org/graphify/org/Chinas] and added 27 triples for this entity\n",
      "Processed entity 609/1482 [http://example.org/graphify/org/Annex_Wealth_Management] and added 0 triples for this entity\n",
      "Processed entity 610/1482 [http://example.org/graphify/org/Elon_Musks_EV] and added 0 triples for this entity\n",
      "Processed entity 611/1482 [http://example.org/graphify/org/Nikhil_Aggarwal_Samsungs] and added 0 triples for this entity\n",
      "Processed entity 612/1482 [http://example.org/graphify/org/Blackstone_Real_Estate_Debt_Strategies] and added 0 triples for this entity\n",
      "Processed entity 613/1482 [http://example.org/graphify/org/Washingtons] and added 8 triples for this entity\n",
      "Processed entity 614/1482 [http://example.org/graphify/org/Atanas_Kolev] and added 32 triples for this entity\n",
      "Processed entity 615/1482 [http://example.org/graphify/org/Kingdom_Holding] and added 8 triples for this entity\n",
      "Processed entity 616/1482 [http://example.org/graphify/org/Orange_ORANPA] and added 0 triples for this entity\n",
      "Processed entity 617/1482 [http://example.org/graphify/org/BE_Semiconductor_BESIAS] and added 0 triples for this entity\n",
      "Processed entity 618/1482 [http://example.org/graphify/org/Reuters_Social] and added 0 triples for this entity\n",
      "Processed entity 619/1482 [http://example.org/graphify/org/Scania] and added 258 triples for this entity\n",
      "Processed entity 620/1482 [http://example.org/graphify/org/Tatas] and added 8 triples for this entity\n",
      "Processed entity 621/1482 [http://example.org/graphify/org/Apple] and added 219 triples for this entity\n",
      "Processed entity 622/1482 [http://example.org/graphify/org/CME_FedWatch_With_Fridays] and added 0 triples for this entity\n",
      "Processed entity 623/1482 [http://example.org/graphify/org/CK_Hutchison] and added 8 triples for this entity\n",
      "Processed entity 624/1482 [http://example.org/graphify/org/WINNIPEG_Manitoba_March_6] and added 0 triples for this entity\n",
      "Processed entity 625/1482 [http://example.org/graphify/org/Reuters_Japans] and added 0 triples for this entity\n",
      "Processed entity 626/1482 [http://example.org/graphify/org/Freeland] and added 8 triples for this entity\n",
      "Processed entity 627/1482 [http://example.org/graphify/org/Banco_BPM] and added 271 triples for this entity\n",
      "Processed entity 628/1482 [http://example.org/graphify/org/EditorAtLarge_Financial_Industry_and_Financial_Markets_If] and added 0 triples for this entity\n",
      "Processed entity 629/1482 [http://example.org/graphify/org/Bostic] and added 8 triples for this entity\n",
      "Processed entity 630/1482 [http://example.org/graphify/org/Reuters_HSBC] and added 0 triples for this entity\n",
      "Processed entity 631/1482 [http://example.org/graphify/org/US_Department_of_Health_and_Human_Services] and added 8 triples for this entity\n",
      "Processed entity 632/1482 [http://example.org/graphify/org/Les_Echos] and added 9 triples for this entity\n",
      "Processed entity 633/1482 [http://example.org/graphify/org/SAP_SAPGDE] and added 0 triples for this entity\n",
      "Processed entity 634/1482 [http://example.org/graphify/org/Reuters_Wall_Streets] and added 0 triples for this entity\n",
      "Processed entity 635/1482 [http://example.org/graphify/org/Universities_Superannuation_Scheme_USS] and added 0 triples for this entity\n",
      "Processed entity 636/1482 [http://example.org/graphify/org/SP_Global_Market_Intelligence_Most] and added 0 triples for this entity\n",
      "Processed entity 637/1482 [http://example.org/graphify/org/Defence_Force] and added 8 triples for this entity\n",
      "Processed entity 638/1482 [http://example.org/graphify/org/US_Secretary_of_Health_and_Human_Services_Robert_F_Kennedy_Jr] and added 0 triples for this entity\n",
      "Processed entity 639/1482 [http://example.org/graphify/org/Professional] and added 38 triples for this entity\n",
      "Processed entity 640/1482 [http://example.org/graphify/org/JPMorgan] and added 8 triples for this entity\n",
      "Processed entity 641/1482 [http://example.org/graphify/org/Metall] and added 8 triples for this entity\n",
      "Processed entity 642/1482 [http://example.org/graphify/org/March_Madness] and added 8 triples for this entity\n",
      "Processed entity 643/1482 [http://example.org/graphify/org/Ford] and added 3 triples for this entity\n",
      "Processed entity 644/1482 [http://example.org/graphify/org/Reuters_The_Trump] and added 0 triples for this entity\n",
      "Processed entity 645/1482 [http://example.org/graphify/org/MAX] and added 8 triples for this entity\n",
      "Processed entity 646/1482 [http://example.org/graphify/org/G10_FX] and added 0 triples for this entity\n",
      "Processed entity 647/1482 [http://example.org/graphify/org/Reuters_Porsche] and added 0 triples for this entity\n",
      "Processed entity 648/1482 [http://example.org/graphify/org/SSEC] and added 8 triples for this entity\n",
      "Processed entity 649/1482 [http://example.org/graphify/org/Apples_AAPLO] and added 0 triples for this entity\n",
      "Processed entity 650/1482 [http://example.org/graphify/org/SINGAPORENEW_YORKTAIPEI] and added 0 triples for this entity\n",
      "Processed entity 651/1482 [http://example.org/graphify/org/Treasury_and_Commerce] and added 0 triples for this entity\n",
      "Processed entity 652/1482 [http://example.org/graphify/org/Barrick_Gold] and added 382 triples for this entity\n",
      "Processed entity 653/1482 [http://example.org/graphify/org/US_Department_of_Agriculture] and added 8 triples for this entity\n",
      "Processed entity 654/1482 [http://example.org/graphify/org/Consumer_Brands_Association] and added 112 triples for this entity\n",
      "Processed entity 655/1482 [http://example.org/graphify/org/San_Diego_Padres] and added 606 triples for this entity\n",
      "Processed entity 656/1482 [http://example.org/graphify/org/Costco_COSTO] and added 0 triples for this entity\n",
      "Processed entity 657/1482 [http://example.org/graphify/org/European_Union] and added 573 triples for this entity\n",
      "Processed entity 658/1482 [http://example.org/graphify/org/Stellantis_STLAMMI] and added 0 triples for this entity\n",
      "Processed entity 659/1482 [http://example.org/graphify/org/BRUSSELS] and added 0 triples for this entity\n",
      "Processed entity 660/1482 [http://example.org/graphify/org/Cam_Dahl] and added 0 triples for this entity\n",
      "Processed entity 661/1482 [http://example.org/graphify/org/Dun_Bradstreet] and added 0 triples for this entity\n",
      "Processed entity 662/1482 [http://example.org/graphify/org/Certification_Regarding_Compliance_With_Applicable] and added 0 triples for this entity\n",
      "Processed entity 663/1482 [http://example.org/graphify/org/Reuters_CoreWeaves] and added 0 triples for this entity\n",
      "Processed entity 664/1482 [http://example.org/graphify/org/BMC_Software] and added 215 triples for this entity\n",
      "Processed entity 665/1482 [http://example.org/graphify/org/Virgin_Group] and added 437 triples for this entity\n",
      "Processed entity 666/1482 [http://example.org/graphify/org/18A_AMD] and added 0 triples for this entity\n",
      "Processed entity 667/1482 [http://example.org/graphify/org/LSEG_LSEGL] and added 0 triples for this entity\n",
      "Processed entity 668/1482 [http://example.org/graphify/org/the_Alphabet_Workers_UnionCWA] and added 0 triples for this entity\n",
      "Processed entity 669/1482 [http://example.org/graphify/org/Tesla] and added 3 triples for this entity\n",
      "Processed entity 670/1482 [http://example.org/graphify/org/Reuters_Volkswagen] and added 0 triples for this entity\n",
      "Processed entity 671/1482 [http://example.org/graphify/org/NCAA] and added 8 triples for this entity\n",
      "Processed entity 672/1482 [http://example.org/graphify/org/Fertilizer] and added 206 triples for this entity\n",
      "Processed entity 673/1482 [http://example.org/graphify/org/Alexa] and added 9 triples for this entity\n",
      "Processed entity 674/1482 [http://example.org/graphify/org/Dirty] and added 8 triples for this entity\n",
      "Processed entity 675/1482 [http://example.org/graphify/org/Federal_Reserve_Chair_Jerome_Powell] and added 0 triples for this entity\n",
      "Processed entity 676/1482 [http://example.org/graphify/org/The_Reserve_Bank_of_New_Zealand] and added 0 triples for this entity\n",
      "Processed entity 677/1482 [http://example.org/graphify/org/the_Post_Earlier] and added 0 triples for this entity\n",
      "Processed entity 678/1482 [http://example.org/graphify/org/the_X_Date] and added 0 triples for this entity\n",
      "Processed entity 679/1482 [http://example.org/graphify/org/the_World_Trade_Organization] and added 0 triples for this entity\n",
      "Processed entity 680/1482 [http://example.org/graphify/org/Austrias_Strabag] and added 0 triples for this entity\n",
      "Processed entity 681/1482 [http://example.org/graphify/org/Tatas_EV] and added 0 triples for this entity\n",
      "Processed entity 682/1482 [http://example.org/graphify/org/Diversity_Equity_and_Inclusion] and added 0 triples for this entity\n",
      "Processed entity 683/1482 [http://example.org/graphify/org/Volvo] and added 540 triples for this entity\n",
      "Processed entity 684/1482 [http://example.org/graphify/org/WASHINGTONSEOUL_March] and added 0 triples for this entity\n",
      "Processed entity 685/1482 [http://example.org/graphify/org/the_State_Department] and added 0 triples for this entity\n",
      "Processed entity 686/1482 [http://example.org/graphify/org/Stonepeak] and added 0 triples for this entity\n",
      "Processed entity 687/1482 [http://example.org/graphify/org/Colossus] and added 3 triples for this entity\n",
      "Processed entity 688/1482 [http://example.org/graphify/org/DKSN] and added 0 triples for this entity\n",
      "Processed entity 689/1482 [http://example.org/graphify/org/Bloomberg_News] and added 525 triples for this entity\n",
      "Processed entity 690/1482 [http://example.org/graphify/org/Reuters_Boeing] and added 0 triples for this entity\n",
      "Processed entity 691/1482 [http://example.org/graphify/org/Defence_Departments_Guided_Weapons_and_Explosive_Ordnance_Enterprise_Anduril_Australia] and added 0 triples for this entity\n",
      "Processed entity 692/1482 [http://example.org/graphify/org/Southwest_Airlines] and added 551 triples for this entity\n",
      "Processed entity 693/1482 [http://example.org/graphify/org/YORKTAIPEI] and added 0 triples for this entity\n",
      "Processed entity 694/1482 [http://example.org/graphify/org/European_Union_Canada] and added 0 triples for this entity\n",
      "Processed entity 695/1482 [http://example.org/graphify/org/CFO_Sharpe] and added 0 triples for this entity\n",
      "Processed entity 696/1482 [http://example.org/graphify/org/Avinya_EV] and added 0 triples for this entity\n",
      "Processed entity 697/1482 [http://example.org/graphify/org/Wall_Street_Caught] and added 0 triples for this entity\n",
      "Processed entity 698/1482 [http://example.org/graphify/org/Caterpillar] and added 102 triples for this entity\n",
      "Processed entity 699/1482 [http://example.org/graphify/org/GM] and added 5 triples for this entity\n",
      "Processed entity 700/1482 [http://example.org/graphify/org/Reuters_Wall_Street] and added 0 triples for this entity\n",
      "Processed entity 701/1482 [http://example.org/graphify/org/UAVs] and added 8 triples for this entity\n",
      "Processed entity 702/1482 [http://example.org/graphify/org/Wall_Streets] and added 0 triples for this entity\n",
      "Processed entity 703/1482 [http://example.org/graphify/org/Universal_Music_Group] and added 121 triples for this entity\n",
      "Processed entity 704/1482 [http://example.org/graphify/org/Mahindra_MAHMNS] and added 0 triples for this entity\n",
      "Processed entity 705/1482 [http://example.org/graphify/org/Britains_National_Health_Service] and added 0 triples for this entity\n",
      "Processed entity 706/1482 [http://example.org/graphify/org/Motor_Industry] and added 0 triples for this entity\n",
      "Processed entity 707/1482 [http://example.org/graphify/org/Utilities_SPLRCU] and added 0 triples for this entity\n",
      "Processed entity 708/1482 [http://example.org/graphify/org/X] and added 213 triples for this entity\n",
      "Processed entity 709/1482 [http://example.org/graphify/org/The_European_Commission] and added 8 triples for this entity\n",
      "Processed entity 710/1482 [http://example.org/graphify/org/Kuroda] and added 3 triples for this entity\n",
      "Processed entity 711/1482 [http://example.org/graphify/org/Exodus_EXODA] and added 0 triples for this entity\n",
      "Processed entity 712/1482 [http://example.org/graphify/org/Participants] and added 8 triples for this entity\n",
      "Processed entity 713/1482 [http://example.org/graphify/org/Reuters_Asian] and added 0 triples for this entity\n",
      "Processed entity 714/1482 [http://example.org/graphify/org/Ozy_Media] and added 8 triples for this entity\n",
      "Processed entity 715/1482 [http://example.org/graphify/org/Mahindra] and added 4 triples for this entity\n",
      "Processed entity 716/1482 [http://example.org/graphify/org/BPM] and added 5 triples for this entity\n",
      "Processed entity 717/1482 [http://example.org/graphify/org/Reuters_Zara] and added 0 triples for this entity\n",
      "Processed entity 718/1482 [http://example.org/graphify/org/Amazon_Microsoft] and added 0 triples for this entity\n",
      "Processed entity 719/1482 [http://example.org/graphify/org/MIWD00000PUS] and added 0 triples for this entity\n",
      "Processed entity 720/1482 [http://example.org/graphify/org/Trea_Asset_Management] and added 0 triples for this entity\n",
      "Processed entity 721/1482 [http://example.org/graphify/org/Global_Research] and added 8 triples for this entity\n",
      "Processed entity 722/1482 [http://example.org/graphify/org/SAN_FRANCISCO_March] and added 0 triples for this entity\n",
      "Processed entity 723/1482 [http://example.org/graphify/org/Elon_Musks] and added 0 triples for this entity\n",
      "Processed entity 724/1482 [http://example.org/graphify/org/Air_China_Cargo_001391SZ] and added 0 triples for this entity\n",
      "Processed entity 725/1482 [http://example.org/graphify/org/Bank_of_Canada] and added 372 triples for this entity\n",
      "Processed entity 726/1482 [http://example.org/graphify/org/Department_of_Government_Efficiency] and added 0 triples for this entity\n",
      "Processed entity 727/1482 [http://example.org/graphify/org/TIC] and added 8 triples for this entity\n",
      "Processed entity 728/1482 [http://example.org/graphify/org/Reuters_Smithfield_Foods_SFDO] and added 0 triples for this entity\n",
      "Processed entity 729/1482 [http://example.org/graphify/org/Reuters_The_Supreme_Court] and added 0 triples for this entity\n",
      "Processed entity 730/1482 [http://example.org/graphify/org/AXS_Investments] and added 0 triples for this entity\n",
      "Processed entity 731/1482 [http://example.org/graphify/org/TCFPPA] and added 0 triples for this entity\n",
      "Processed entity 732/1482 [http://example.org/graphify/org/Europes_The_European_Central_Bank] and added 0 triples for this entity\n",
      "Processed entity 733/1482 [http://example.org/graphify/org/iPhone] and added 0 triples for this entity\n",
      "Processed entity 734/1482 [http://example.org/graphify/org/Amazoncom] and added 8 triples for this entity\n",
      "Processed entity 735/1482 [http://example.org/graphify/org/Cetera_Investment_Management] and added 0 triples for this entity\n",
      "Processed entity 736/1482 [http://example.org/graphify/org/Samsung] and added 357 triples for this entity\n",
      "Processed entity 737/1482 [http://example.org/graphify/org/Powells] and added 8 triples for this entity\n",
      "Processed entity 738/1482 [http://example.org/graphify/org/Stability] and added 3 triples for this entity\n",
      "Processed entity 739/1482 [http://example.org/graphify/org/Manitoba_Pork_Council] and added 0 triples for this entity\n",
      "Processed entity 740/1482 [http://example.org/graphify/org/Fair] and added 65 triples for this entity\n",
      "Processed entity 741/1482 [http://example.org/graphify/org/China_Others] and added 0 triples for this entity\n",
      "Processed entity 742/1482 [http://example.org/graphify/org/Reuters_The_Federal_Reserve] and added 0 triples for this entity\n",
      "Processed entity 743/1482 [http://example.org/graphify/org/Madridbased_Trea_Asset_Management] and added 0 triples for this entity\n",
      "Processed entity 744/1482 [http://example.org/graphify/org/Sheetal_Jain] and added 0 triples for this entity\n",
      "Processed entity 745/1482 [http://example.org/graphify/org/nonpartisan_Congressional_Budget_Office] and added 0 triples for this entity\n",
      "Processed entity 746/1482 [http://example.org/graphify/org/WSJ] and added 8 triples for this entity\n",
      "Processed entity 747/1482 [http://example.org/graphify/org/Trade] and added 157 triples for this entity\n",
      "Processed entity 748/1482 [http://example.org/graphify/org/Houston_Canada] and added 0 triples for this entity\n",
      "Processed entity 749/1482 [http://example.org/graphify/org/Vanderbilt_University] and added 626 triples for this entity\n",
      "Processed entity 750/1482 [http://example.org/graphify/org/HK042] and added 0 triples for this entity\n",
      "Processed entity 751/1482 [http://example.org/graphify/org/Global_Equity_Strategist] and added 0 triples for this entity\n",
      "Processed entity 752/1482 [http://example.org/graphify/org/TAIPEI] and added 0 triples for this entity\n",
      "Processed entity 753/1482 [http://example.org/graphify/org/Bessent] and added 0 triples for this entity\n",
      "Processed entity 754/1482 [http://example.org/graphify/org/Capitalcom] and added 0 triples for this entity\n",
      "Processed entity 755/1482 [http://example.org/graphify/org/Great_Recession_Economists] and added 0 triples for this entity\n",
      "Processed entity 756/1482 [http://example.org/graphify/org/Labor_Departments_Bureau_of_Labor_Statistics] and added 0 triples for this entity\n",
      "Processed entity 757/1482 [http://example.org/graphify/org/The_Atlanta_Fed] and added 0 triples for this entity\n",
      "Processed entity 758/1482 [http://example.org/graphify/org/PHLX] and added 8 triples for this entity\n",
      "Processed entity 759/1482 [http://example.org/graphify/org/US_Commerce_Secretary_Howard_Lutnick_India] and added 0 triples for this entity\n",
      "Processed entity 760/1482 [http://example.org/graphify/org/Stonepeak_Partners] and added 0 triples for this entity\n",
      "Processed entity 761/1482 [http://example.org/graphify/org/post_Altman] and added 0 triples for this entity\n",
      "Processed entity 762/1482 [http://example.org/graphify/org/Agricultural_Marketing_Service] and added 555 triples for this entity\n",
      "Processed entity 763/1482 [http://example.org/graphify/org/Alphabets_Google_GOOGLO] and added 0 triples for this entity\n",
      "Processed entity 764/1482 [http://example.org/graphify/org/Microsoft_CEO_Satya_Nadella] and added 0 triples for this entity\n",
      "Processed entity 765/1482 [http://example.org/graphify/org/Banco_de_Portugal_Going] and added 0 triples for this entity\n",
      "Processed entity 766/1482 [http://example.org/graphify/org/Germany_Inditex] and added 0 triples for this entity\n",
      "Processed entity 767/1482 [http://example.org/graphify/org/the_BMO_Global_Metals_Mining_and_Critical_Minerals_Conference] and added 0 triples for this entity\n",
      "Processed entity 768/1482 [http://example.org/graphify/org/Gold_Fields] and added 503 triples for this entity\n",
      "Processed entity 769/1482 [http://example.org/graphify/org/Boeing] and added 703 triples for this entity\n",
      "Processed entity 770/1482 [http://example.org/graphify/org/LDP] and added 9 triples for this entity\n",
      "Processed entity 771/1482 [http://example.org/graphify/org/Porsche_AG_Porsche_SE] and added 0 triples for this entity\n",
      "Processed entity 772/1482 [http://example.org/graphify/org/18A] and added 190 triples for this entity\n",
      "Processed entity 773/1482 [http://example.org/graphify/org/State_Department_the_Trump] and added 0 triples for this entity\n",
      "Processed entity 774/1482 [http://example.org/graphify/org/Reuters_BlackRock] and added 0 triples for this entity\n",
      "Processed entity 775/1482 [http://example.org/graphify/org/Morgan_Stanley_Equity_Strategist] and added 0 triples for this entity\n",
      "Processed entity 776/1482 [http://example.org/graphify/org/Lazard_Asset_Management_Wreford] and added 0 triples for this entity\n",
      "Processed entity 777/1482 [http://example.org/graphify/org/the_European_Commission] and added 0 triples for this entity\n",
      "Processed entity 778/1482 [http://example.org/graphify/org/Chinas_commerce_ministry] and added 0 triples for this entity\n",
      "Processed entity 779/1482 [http://example.org/graphify/org/Powell] and added 1 triples for this entity\n",
      "Processed entity 780/1482 [http://example.org/graphify/org/IG_Metall] and added 279 triples for this entity\n",
      "Processed entity 781/1482 [http://example.org/graphify/org/Sacks] and added 8 triples for this entity\n",
      "Processed entity 782/1482 [http://example.org/graphify/org/Paddy_Flood] and added 0 triples for this entity\n",
      "Processed entity 783/1482 [http://example.org/graphify/org/US_Treasury] and added 8 triples for this entity\n",
      "Processed entity 784/1482 [http://example.org/graphify/org/Toyota] and added 331 triples for this entity\n",
      "Processed entity 785/1482 [http://example.org/graphify/org/the_Banco_de_Portugal] and added 0 triples for this entity\n",
      "Processed entity 786/1482 [http://example.org/graphify/org/Conference_on_Monetary_Policy_Transmission] and added 0 triples for this entity\n",
      "Processed entity 787/1482 [http://example.org/graphify/org/European_Union_India_Indonesia] and added 0 triples for this entity\n",
      "Processed entity 788/1482 [http://example.org/graphify/org/Reuters_Chinas_Xiaomi_Corp] and added 0 triples for this entity\n",
      "Processed entity 789/1482 [http://example.org/graphify/org/CBOE] and added 8 triples for this entity\n",
      "Processed entity 790/1482 [http://example.org/graphify/org/Federal_Reserve] and added 509 triples for this entity\n",
      "Processed entity 791/1482 [http://example.org/graphify/org/UBS] and added 244 triples for this entity\n",
      "Processed entity 792/1482 [http://example.org/graphify/org/OPEC_the_Organization_of_the_Petroleum_Exporting_Countries] and added 0 triples for this entity\n",
      "Processed entity 793/1482 [http://example.org/graphify/org/Brendan_Lynch] and added 8 triples for this entity\n",
      "Processed entity 794/1482 [http://example.org/graphify/org/Alaska_Airlines] and added 495 triples for this entity\n",
      "Processed entity 795/1482 [http://example.org/graphify/org/Schroders] and added 517 triples for this entity\n",
      "Processed entity 796/1482 [http://example.org/graphify/org/SINGAPORE] and added 8 triples for this entity\n",
      "Processed entity 797/1482 [http://example.org/graphify/org/Verizon_VZN] and added 0 triples for this entity\n",
      "Processed entity 798/1482 [http://example.org/graphify/org/Canola_Council_of_Canada] and added 0 triples for this entity\n",
      "Processed entity 799/1482 [http://example.org/graphify/org/Galvin_and_Robinhood] and added 0 triples for this entity\n",
      "Processed entity 800/1482 [http://example.org/graphify/org/Reuters_Cloud] and added 0 triples for this entity\n",
      "Processed entity 801/1482 [http://example.org/graphify/org/the_IF_Metall_union] and added 0 triples for this entity\n",
      "Processed entity 802/1482 [http://example.org/graphify/org/Venezuela_Oil] and added 0 triples for this entity\n",
      "Processed entity 803/1482 [http://example.org/graphify/org/LSEG_Adding] and added 0 triples for this entity\n",
      "Processed entity 804/1482 [http://example.org/graphify/org/Reuters_TSMC_2330TW] and added 0 triples for this entity\n",
      "Processed entity 805/1482 [http://example.org/graphify/org/US_Government_Accountability_Office] and added 0 triples for this entity\n",
      "Processed entity 806/1482 [http://example.org/graphify/org/the_Australian_Defence_Departments_Guided_Weapons_and_Explosive_Ordnance_Enterprise] and added 0 triples for this entity\n",
      "Processed entity 807/1482 [http://example.org/graphify/org/Morgan_Stanley_Equity] and added 0 triples for this entity\n",
      "Processed entity 808/1482 [http://example.org/graphify/org/Bond] and added 1 triples for this entity\n",
      "Processed entity 809/1482 [http://example.org/graphify/org/US_Federal_Reserve] and added 8 triples for this entity\n",
      "Processed entity 810/1482 [http://example.org/graphify/org/CNBC_Watson] and added 0 triples for this entity\n",
      "Processed entity 811/1482 [http://example.org/graphify/org/Tata_Motors] and added 373 triples for this entity\n",
      "Processed entity 812/1482 [http://example.org/graphify/org/University_College_London] and added 509 triples for this entity\n",
      "Processed entity 813/1482 [http://example.org/graphify/org/Polestar_Stellantis_Europes] and added 0 triples for this entity\n",
      "Processed entity 814/1482 [http://example.org/graphify/org/FAA] and added 8 triples for this entity\n",
      "Processed entity 815/1482 [http://example.org/graphify/org/Lees] and added 8 triples for this entity\n",
      "Processed entity 816/1482 [http://example.org/graphify/org/Nvidia_NVDAO] and added 0 triples for this entity\n",
      "Processed entity 817/1482 [http://example.org/graphify/org/NLI_Research_Institute] and added 0 triples for this entity\n",
      "Processed entity 818/1482 [http://example.org/graphify/org/Moon_Capital] and added 0 triples for this entity\n",
      "Processed entity 819/1482 [http://example.org/graphify/org/Microsoft_MSFTO] and added 0 triples for this entity\n",
      "Processed entity 820/1482 [http://example.org/graphify/org/Sung_Beam_Hong_Chief_Financial_Officer_Dong_Won_Chu] and added 0 triples for this entity\n",
      "Processed entity 821/1482 [http://example.org/graphify/org/CFTC_Brian_Quintenz] and added 0 triples for this entity\n",
      "Processed entity 822/1482 [http://example.org/graphify/org/JP_Morgan] and added 8 triples for this entity\n",
      "Processed entity 823/1482 [http://example.org/graphify/org/Chinas_tech] and added 0 triples for this entity\n",
      "Processed entity 824/1482 [http://example.org/graphify/org/Rheinmetall] and added 331 triples for this entity\n",
      "Processed entity 825/1482 [http://example.org/graphify/org/Pluris_Valuation_Advisors] and added 0 triples for this entity\n",
      "Processed entity 826/1482 [http://example.org/graphify/org/CEO_Pat_Gelsingers] and added 0 triples for this entity\n",
      "Processed entity 827/1482 [http://example.org/graphify/org/Australias_Electric_Vehicle_Council] and added 0 triples for this entity\n",
      "Processed entity 828/1482 [http://example.org/graphify/org/FRANKFURT] and added 0 triples for this entity\n",
      "Processed entity 829/1482 [http://example.org/graphify/org/Le_Figaro] and added 260 triples for this entity\n",
      "Processed entity 830/1482 [http://example.org/graphify/org/the_Bank_of_Japan] and added 0 triples for this entity\n",
      "Processed entity 831/1482 [http://example.org/graphify/org/Piyush_Goyal_Indias] and added 0 triples for this entity\n",
      "Processed entity 832/1482 [http://example.org/graphify/org/TTEFPA] and added 0 triples for this entity\n",
      "Processed entity 833/1482 [http://example.org/graphify/org/Vara_Research] and added 0 triples for this entity\n",
      "Processed entity 834/1482 [http://example.org/graphify/org/United_States_Court] and added 0 triples for this entity\n",
      "Processed entity 835/1482 [http://example.org/graphify/org/FordWerke] and added 8 triples for this entity\n",
      "Processed entity 836/1482 [http://example.org/graphify/org/Treasuries] and added 8 triples for this entity\n",
      "Processed entity 837/1482 [http://example.org/graphify/org/Reuters_Stellantis] and added 0 triples for this entity\n",
      "Processed entity 838/1482 [http://example.org/graphify/org/Oracle_ORCLN] and added 0 triples for this entity\n",
      "Processed entity 839/1482 [http://example.org/graphify/org/US_Federal_Communications_Commission] and added 8 triples for this entity\n",
      "Processed entity 840/1482 [http://example.org/graphify/org/Merge_Ethereums] and added 0 triples for this entity\n",
      "Processed entity 841/1482 [http://example.org/graphify/org/Reuters_Artificial] and added 0 triples for this entity\n",
      "Processed entity 842/1482 [http://example.org/graphify/org/the_Treasury_Department] and added 0 triples for this entity\n",
      "Processed entity 843/1482 [http://example.org/graphify/org/Hong_Kongs] and added 0 triples for this entity\n",
      "Processed entity 844/1482 [http://example.org/graphify/org/HEV] and added 8 triples for this entity\n",
      "Processed entity 845/1482 [http://example.org/graphify/org/Sugon] and added 366 triples for this entity\n",
      "Processed entity 846/1482 [http://example.org/graphify/org/Reuters_Blackstone_BXN] and added 0 triples for this entity\n",
      "Processed entity 847/1482 [http://example.org/graphify/org/Intels_INTCO] and added 0 triples for this entity\n",
      "Processed entity 848/1482 [http://example.org/graphify/org/Microsoft_Corporation] and added 8 triples for this entity\n",
      "Processed entity 849/1482 [http://example.org/graphify/org/Global_Investment_Summit] and added 0 triples for this entity\n",
      "Processed entity 850/1482 [http://example.org/graphify/org/Chinas_intentional_state] and added 0 triples for this entity\n",
      "Processed entity 851/1482 [http://example.org/graphify/org/Dropboxs] and added 0 triples for this entity\n",
      "Processed entity 852/1482 [http://example.org/graphify/org/Reuters_Quantum] and added 0 triples for this entity\n",
      "Processed entity 853/1482 [http://example.org/graphify/org/SoftBank_Group_9984T] and added 0 triples for this entity\n",
      "Processed entity 854/1482 [http://example.org/graphify/org/US_Trump] and added 0 triples for this entity\n",
      "Processed entity 855/1482 [http://example.org/graphify/org/Labor_Departments] and added 0 triples for this entity\n",
      "Processed entity 856/1482 [http://example.org/graphify/org/America_Europe] and added 0 triples for this entity\n",
      "Processed entity 857/1482 [http://example.org/graphify/org/Germanys_Heidelberg_Materials_HEIGDE] and added 0 triples for this entity\n",
      "Processed entity 858/1482 [http://example.org/graphify/org/Fox_News] and added 633 triples for this entity\n",
      "Processed entity 859/1482 [http://example.org/graphify/org/JPMorgan_Chase_JPMN] and added 0 triples for this entity\n",
      "Processed entity 860/1482 [http://example.org/graphify/org/JSW_MG_Motor] and added 0 triples for this entity\n",
      "Processed entity 861/1482 [http://example.org/graphify/org/Y_Combinator] and added 531 triples for this entity\n",
      "Processed entity 862/1482 [http://example.org/graphify/org/The_US_Department_of_Health_and_Human_Services_General_Mills] and added 0 triples for this entity\n",
      "Processed entity 863/1482 [http://example.org/graphify/org/UniCredits] and added 0 triples for this entity\n",
      "Processed entity 864/1482 [http://example.org/graphify/org/the_Department_of_Government_Efficiency] and added 0 triples for this entity\n",
      "Processed entity 865/1482 [http://example.org/graphify/org/Pepperstone] and added 272 triples for this entity\n",
      "Processed entity 866/1482 [http://example.org/graphify/org/Reuters_US] and added 0 triples for this entity\n",
      "Processed entity 867/1482 [http://example.org/graphify/org/Gurugram] and added 8 triples for this entity\n",
      "Processed entity 868/1482 [http://example.org/graphify/org/the_Personal_Consumption_Expenditures] and added 0 triples for this entity\n",
      "Processed entity 869/1482 [http://example.org/graphify/org/Major_League_Baseballs_San_Diego_Padres] and added 0 triples for this entity\n",
      "Processed entity 870/1482 [http://example.org/graphify/org/Richard_Bransons_Virgin_Group] and added 0 triples for this entity\n",
      "Processed entity 871/1482 [http://example.org/graphify/org/R1] and added 10 triples for this entity\n",
      "Processed entity 872/1482 [http://example.org/graphify/org/Thales_TCFPPA] and added 0 triples for this entity\n",
      "Processed entity 873/1482 [http://example.org/graphify/org/ASM_International_ASMIAS] and added 0 triples for this entity\n",
      "Processed entity 874/1482 [http://example.org/graphify/org/CFTC] and added 8 triples for this entity\n",
      "Processed entity 875/1482 [http://example.org/graphify/org/Labor_Department] and added 8 triples for this entity\n",
      "Processed entity 876/1482 [http://example.org/graphify/org/COVID] and added 8 triples for this entity\n",
      "Processed entity 877/1482 [http://example.org/graphify/org/Venezuela_Brent] and added 0 triples for this entity\n",
      "Processed entity 878/1482 [http://example.org/graphify/org/the_Business_Roundtable] and added 0 triples for this entity\n",
      "Processed entity 879/1482 [http://example.org/graphify/org/European_Union_Britain] and added 0 triples for this entity\n",
      "Processed entity 880/1482 [http://example.org/graphify/org/Handelsblatt] and added 254 triples for this entity\n",
      "Processed entity 881/1482 [http://example.org/graphify/org/Kia_Corp_000270KS] and added 0 triples for this entity\n",
      "Processed entity 882/1482 [http://example.org/graphify/org/WINNIPEG_Manitoba_March] and added 0 triples for this entity\n",
      "Processed entity 883/1482 [http://example.org/graphify/org/Google_Microsoft] and added 0 triples for this entity\n",
      "Processed entity 884/1482 [http://example.org/graphify/org/the_High_Court] and added 0 triples for this entity\n",
      "Processed entity 885/1482 [http://example.org/graphify/org/Wave_Digital] and added 0 triples for this entity\n",
      "Processed entity 886/1482 [http://example.org/graphify/org/Germanys_Heidelberg_Materials] and added 0 triples for this entity\n",
      "Processed entity 887/1482 [http://example.org/graphify/org/OpenAI_Microsoft] and added 0 triples for this entity\n",
      "Processed entity 888/1482 [http://example.org/graphify/org/Reuters_Barrick_Gold] and added 0 triples for this entity\n",
      "Processed entity 889/1482 [http://example.org/graphify/org/Alphabet_Workers] and added 0 triples for this entity\n",
      "Processed entity 890/1482 [http://example.org/graphify/org/Australia_Brose] and added 0 triples for this entity\n",
      "Processed entity 891/1482 [http://example.org/graphify/org/Donald_Trump] and added 317 triples for this entity\n",
      "Processed entity 892/1482 [http://example.org/graphify/org/TMobile_Starlink] and added 0 triples for this entity\n",
      "Processed entity 893/1482 [http://example.org/graphify/org/the_Manitoba_Pork_Council] and added 0 triples for this entity\n",
      "Processed entity 894/1482 [http://example.org/graphify/org/Bank_of_America_BACN] and added 0 triples for this entity\n",
      "Processed entity 895/1482 [http://example.org/graphify/org/Maceiras] and added 0 triples for this entity\n",
      "Processed entity 896/1482 [http://example.org/graphify/org/Barrick] and added 8 triples for this entity\n",
      "Processed entity 897/1482 [http://example.org/graphify/org/U6] and added 8 triples for this entity\n",
      "Processed entity 898/1482 [http://example.org/graphify/org/Marketplace] and added 90 triples for this entity\n",
      "Processed entity 899/1482 [http://example.org/graphify/org/Cathay] and added 75 triples for this entity\n",
      "Processed entity 900/1482 [http://example.org/graphify/org/FordWerke_German] and added 0 triples for this entity\n",
      "Processed entity 901/1482 [http://example.org/graphify/org/Travel] and added 53 triples for this entity\n",
      "Processed entity 902/1482 [http://example.org/graphify/org/American_Airlines] and added 679 triples for this entity\n",
      "Processed entity 903/1482 [http://example.org/graphify/org/Goldman_Sachs] and added 486 triples for this entity\n",
      "Processed entity 904/1482 [http://example.org/graphify/org/Apple_Intelligence] and added 0 triples for this entity\n",
      "Processed entity 905/1482 [http://example.org/graphify/org/Fidelity] and added 57 triples for this entity\n",
      "Processed entity 906/1482 [http://example.org/graphify/org/Hyundai_Steel] and added 209 triples for this entity\n",
      "Processed entity 907/1482 [http://example.org/graphify/org/Intel_TSMC_Nvidia_AMD] and added 0 triples for this entity\n",
      "Processed entity 908/1482 [http://example.org/graphify/org/MILAN] and added 228 triples for this entity\n",
      "Processed entity 909/1482 [http://example.org/graphify/org/CFTCs] and added 0 triples for this entity\n",
      "Processed entity 910/1482 [http://example.org/graphify/org/EU] and added 8 triples for this entity\n",
      "Processed entity 911/1482 [http://example.org/graphify/org/Elon_Musks_SpaceX] and added 0 triples for this entity\n",
      "Processed entity 912/1482 [http://example.org/graphify/org/The_US_Department_of_Labor] and added 0 triples for this entity\n",
      "Processed entity 913/1482 [http://example.org/graphify/org/China_Cargo] and added 0 triples for this entity\n",
      "Processed entity 914/1482 [http://example.org/graphify/org/Census_Bureau] and added 8 triples for this entity\n",
      "Processed entity 915/1482 [http://example.org/graphify/org/Transatlantic] and added 8 triples for this entity\n",
      "Processed entity 916/1482 [http://example.org/graphify/org/BOSTON_March] and added 0 triples for this entity\n",
      "Processed entity 917/1482 [http://example.org/graphify/org/JPMorgans] and added 0 triples for this entity\n",
      "Processed entity 918/1482 [http://example.org/graphify/org/BYD] and added 9 triples for this entity\n",
      "Processed entity 919/1482 [http://example.org/graphify/org/PMI] and added 8 triples for this entity\n",
      "Processed entity 920/1482 [http://example.org/graphify/org/CFRA_Research] and added 0 triples for this entity\n",
      "Processed entity 921/1482 [http://example.org/graphify/org/Universal_Music_Group_UMGAS] and added 0 triples for this entity\n",
      "Processed entity 922/1482 [http://example.org/graphify/org/Stellantis] and added 402 triples for this entity\n",
      "Processed entity 923/1482 [http://example.org/graphify/org/Equipment_Leasing_and_Finance_Association_ELFA] and added 0 triples for this entity\n",
      "Processed entity 924/1482 [http://example.org/graphify/org/Morgan] and added 2 triples for this entity\n",
      "Processed entity 925/1482 [http://example.org/graphify/org/Equities] and added 8 triples for this entity\n",
      "Processed entity 926/1482 [http://example.org/graphify/org/AI] and added 8 triples for this entity\n",
      "Processed entity 927/1482 [http://example.org/graphify/org/Morgan_Stanley_and_Goldman_Sachs] and added 0 triples for this entity\n",
      "Processed entity 928/1482 [http://example.org/graphify/org/Transportation] and added 8 triples for this entity\n",
      "Processed entity 929/1482 [http://example.org/graphify/org/Canadas] and added 8 triples for this entity\n",
      "Processed entity 930/1482 [http://example.org/graphify/org/meet_European_Unions_CO2] and added 0 triples for this entity\n",
      "Processed entity 931/1482 [http://example.org/graphify/org/Tasmania_a_Tesla] and added 0 triples for this entity\n",
      "Processed entity 932/1482 [http://example.org/graphify/org/Samsung_005930KS] and added 0 triples for this entity\n",
      "Processed entity 933/1482 [http://example.org/graphify/org/the_US_Department_of_State] and added 0 triples for this entity\n",
      "Processed entity 934/1482 [http://example.org/graphify/org/LzLabs] and added 0 triples for this entity\n",
      "Processed entity 935/1482 [http://example.org/graphify/org/Triple_D_Trading_China] and added 0 triples for this entity\n",
      "Processed entity 936/1482 [http://example.org/graphify/org/Wells_Fargo] and added 521 triples for this entity\n",
      "Processed entity 937/1482 [http://example.org/graphify/org/the_Justice_Department] and added 0 triples for this entity\n",
      "Processed entity 938/1482 [http://example.org/graphify/org/Commerce] and added 24 triples for this entity\n",
      "Processed entity 939/1482 [http://example.org/graphify/org/JP_Morgans] and added 0 triples for this entity\n",
      "Processed entity 940/1482 [http://example.org/graphify/org/St_Louis_Fed] and added 0 triples for this entity\n",
      "Processed entity 941/1482 [http://example.org/graphify/org/Big_Tech] and added 64 triples for this entity\n",
      "Processed entity 942/1482 [http://example.org/graphify/org/Dow_Jones] and added 9 triples for this entity\n",
      "Processed entity 943/1482 [http://example.org/graphify/org/The_Wealth_Consulting_Group] and added 0 triples for this entity\n",
      "Processed entity 944/1482 [http://example.org/graphify/org/XRP] and added 8 triples for this entity\n",
      "Processed entity 945/1482 [http://example.org/graphify/org/Financial_Times] and added 238 triples for this entity\n",
      "Processed entity 946/1482 [http://example.org/graphify/org/the_Securities_and_Exchange_Commission] and added 0 triples for this entity\n",
      "Processed entity 947/1482 [http://example.org/graphify/org/Advanced_Micro] and added 8 triples for this entity\n",
      "Processed entity 948/1482 [http://example.org/graphify/org/Kasman] and added 8 triples for this entity\n",
      "Processed entity 949/1482 [http://example.org/graphify/org/FINMA] and added 8 triples for this entity\n",
      "Processed entity 950/1482 [http://example.org/graphify/org/ACEA] and added 8 triples for this entity\n",
      "Processed entity 951/1482 [http://example.org/graphify/org/Anduril] and added 8 triples for this entity\n",
      "Processed entity 952/1482 [http://example.org/graphify/org/PHP] and added 301 triples for this entity\n",
      "Processed entity 953/1482 [http://example.org/graphify/org/Federal_Open_Market_Committee] and added 23 triples for this entity\n",
      "Processed entity 954/1482 [http://example.org/graphify/org/Deregulation] and added 216 triples for this entity\n",
      "Processed entity 955/1482 [http://example.org/graphify/org/the_commerce_ministry] and added 0 triples for this entity\n",
      "Processed entity 956/1482 [http://example.org/graphify/org/DOGE] and added 8 triples for this entity\n",
      "Processed entity 957/1482 [http://example.org/graphify/org/Chinas_national] and added 0 triples for this entity\n",
      "Processed entity 958/1482 [http://example.org/graphify/org/Reuters_Alberta] and added 0 triples for this entity\n",
      "Processed entity 959/1482 [http://example.org/graphify/org/CEO_Tim_Cook] and added 0 triples for this entity\n",
      "Processed entity 960/1482 [http://example.org/graphify/org/Bank_of_New_York_Mellon] and added 8 triples for this entity\n",
      "Processed entity 961/1482 [http://example.org/graphify/org/Tsuyoshi_Ueno] and added 0 triples for this entity\n",
      "Processed entity 962/1482 [http://example.org/graphify/org/GWK_Investment_Management] and added 0 triples for this entity\n",
      "Processed entity 963/1482 [http://example.org/graphify/org/the_Bershka_PullBear_Massimo_Dutti_Stradivarius] and added 0 triples for this entity\n",
      "Processed entity 964/1482 [http://example.org/graphify/org/Alibaba] and added 8 triples for this entity\n",
      "Processed entity 965/1482 [http://example.org/graphify/org/Indias] and added 8 triples for this entity\n",
      "Processed entity 966/1482 [http://example.org/graphify/org/TOKYOSINGAPORE_March] and added 0 triples for this entity\n",
      "Processed entity 967/1482 [http://example.org/graphify/org/Reuters_Seesaw] and added 0 triples for this entity\n",
      "Processed entity 968/1482 [http://example.org/graphify/org/PsiQuantum] and added 0 triples for this entity\n",
      "Processed entity 969/1482 [http://example.org/graphify/org/Goldman_Sachs_Thats] and added 0 triples for this entity\n",
      "Processed entity 970/1482 [http://example.org/graphify/org/Toyota_7203T] and added 0 triples for this entity\n",
      "Processed entity 971/1482 [http://example.org/graphify/org/Reuters_European] and added 0 triples for this entity\n",
      "Processed entity 972/1482 [http://example.org/graphify/org/SPNY] and added 8 triples for this entity\n",
      "Processed entity 973/1482 [http://example.org/graphify/org/Atlanta_Federal_Reserve] and added 0 triples for this entity\n",
      "Processed entity 974/1482 [http://example.org/graphify/org/KKR] and added 8 triples for this entity\n",
      "Processed entity 975/1482 [http://example.org/graphify/org/Europhoria] and added 0 triples for this entity\n",
      "Processed entity 976/1482 [http://example.org/graphify/org/TMobile] and added 332 triples for this entity\n",
      "Processed entity 977/1482 [http://example.org/graphify/org/ORLANDO_Florida_March] and added 0 triples for this entity\n",
      "Processed entity 978/1482 [http://example.org/graphify/org/China_Risks] and added 0 triples for this entity\n",
      "Processed entity 979/1482 [http://example.org/graphify/org/US_Trade_Representatives_Office] and added 0 triples for this entity\n",
      "Processed entity 980/1482 [http://example.org/graphify/org/Porsche_AG] and added 8 triples for this entity\n",
      "Processed entity 981/1482 [http://example.org/graphify/org/Reuters_The_Federal_Aviation_Administration] and added 0 triples for this entity\n",
      "Processed entity 982/1482 [http://example.org/graphify/org/Smithfield] and added 4 triples for this entity\n",
      "Processed entity 983/1482 [http://example.org/graphify/org/the_Conference_on_Monetary_Policy_Transmission] and added 0 triples for this entity\n",
      "Processed entity 984/1482 [http://example.org/graphify/org/B_Riley_A] and added 0 triples for this entity\n",
      "Processed entity 985/1482 [http://example.org/graphify/org/Business_Roundtable] and added 178 triples for this entity\n",
      "Processed entity 986/1482 [http://example.org/graphify/org/customs] and added 0 triples for this entity\n",
      "Processed entity 987/1482 [http://example.org/graphify/org/Labor_Market] and added 0 triples for this entity\n",
      "Processed entity 988/1482 [http://example.org/graphify/org/SpaceXs_Falcon] and added 0 triples for this entity\n",
      "Processed entity 989/1482 [http://example.org/graphify/org/Southeast_Asian] and added 8 triples for this entity\n",
      "Processed entity 990/1482 [http://example.org/graphify/org/USAID] and added 8 triples for this entity\n",
      "Processed entity 991/1482 [http://example.org/graphify/org/CK] and added 9 triples for this entity\n",
      "Processed entity 992/1482 [http://example.org/graphify/org/Intel_TSMC_Nvidia] and added 0 triples for this entity\n",
      "Processed entity 993/1482 [http://example.org/graphify/org/MacroPolicy_Perspectives] and added 0 triples for this entity\n",
      "Processed entity 994/1482 [http://example.org/graphify/org/Cathay_Pacifics] and added 0 triples for this entity\n",
      "Processed entity 995/1482 [http://example.org/graphify/org/Kohls_Corp_KSSN] and added 0 triples for this entity\n",
      "Processed entity 996/1482 [http://example.org/graphify/org/Apple_Meta_Platforms] and added 0 triples for this entity\n",
      "Processed entity 997/1482 [http://example.org/graphify/org/SPIEPA] and added 0 triples for this entity\n",
      "Processed entity 998/1482 [http://example.org/graphify/org/Amazon] and added 1 triples for this entity\n",
      "Processed entity 999/1482 [http://example.org/graphify/org/Ukraines] and added 0 triples for this entity\n",
      "Processed entity 1000/1482 [http://example.org/graphify/org/Wall_Street_Journal] and added 8 triples for this entity\n",
      "Processed entity 1001/1482 [http://example.org/graphify/org/Blackstone] and added 1 triples for this entity\n",
      "Processed entity 1002/1482 [http://example.org/graphify/org/MBDA] and added 329 triples for this entity\n",
      "Processed entity 1003/1482 [http://example.org/graphify/org/Walmarts] and added 8 triples for this entity\n",
      "Processed entity 1004/1482 [http://example.org/graphify/org/ZipRecruiter_Healthcare] and added 0 triples for this entity\n",
      "Processed entity 1005/1482 [http://example.org/graphify/org/Half_Moon_Capital] and added 0 triples for this entity\n",
      "Processed entity 1006/1482 [http://example.org/graphify/org/Remote_Radio_Head] and added 8 triples for this entity\n",
      "Processed entity 1007/1482 [http://example.org/graphify/org/Lucid_Group] and added 8 triples for this entity\n",
      "Processed entity 1008/1482 [http://example.org/graphify/org/Volkswagen] and added 477 triples for this entity\n",
      "Processed entity 1009/1482 [http://example.org/graphify/org/Fair_Labor_Standards] and added 0 triples for this entity\n",
      "Processed entity 1010/1482 [http://example.org/graphify/org/Organization_of_the_Petroleum_Exporting_Countries] and added 8 triples for this entity\n",
      "Processed entity 1011/1482 [http://example.org/graphify/org/the_European_Investment_Bank] and added 0 triples for this entity\n",
      "Processed entity 1012/1482 [http://example.org/graphify/org/Kapital_Ventures] and added 0 triples for this entity\n",
      "Processed entity 1013/1482 [http://example.org/graphify/org/US_Trade_Representative] and added 8 triples for this entity\n",
      "Processed entity 1014/1482 [http://example.org/graphify/org/ABKCO] and added 8 triples for this entity\n",
      "Processed entity 1015/1482 [http://example.org/graphify/org/CBOE_Volatility] and added 0 triples for this entity\n",
      "Processed entity 1016/1482 [http://example.org/graphify/org/European_Unions] and added 0 triples for this entity\n",
      "Processed entity 1017/1482 [http://example.org/graphify/org/Argentina_Australia_Brazil_Canada_China] and added 0 triples for this entity\n",
      "Processed entity 1018/1482 [http://example.org/graphify/org/Treasury] and added 34 triples for this entity\n",
      "Processed entity 1019/1482 [http://example.org/graphify/org/the_Banco_de_Portugal_Going] and added 0 triples for this entity\n",
      "Processed entity 1020/1482 [http://example.org/graphify/org/HSBC] and added 322 triples for this entity\n",
      "Processed entity 1021/1482 [http://example.org/graphify/org/Reuters_Japan] and added 0 triples for this entity\n",
      "Processed entity 1022/1482 [http://example.org/graphify/org/Mexico_Canada] and added 0 triples for this entity\n",
      "Processed entity 1023/1482 [http://example.org/graphify/org/Personal_Consumption_Expenditure] and added 8 triples for this entity\n",
      "Processed entity 1024/1482 [http://example.org/graphify/org/the_Equipment_Leasing_and_Finance_Association] and added 0 triples for this entity\n",
      "Processed entity 1025/1482 [http://example.org/graphify/org/SoftBank_Group_9984] and added 0 triples for this entity\n",
      "Processed entity 1026/1482 [http://example.org/graphify/org/Reuters_Ford] and added 0 triples for this entity\n",
      "Processed entity 1027/1482 [http://example.org/graphify/org/Ghost_Shark] and added 143 triples for this entity\n",
      "Processed entity 1028/1482 [http://example.org/graphify/org/Chinas_DeepSeek] and added 0 triples for this entity\n",
      "Processed entity 1029/1482 [http://example.org/graphify/org/USTR] and added 8 triples for this entity\n",
      "Processed entity 1030/1482 [http://example.org/graphify/org/Morgan_Stanleys] and added 0 triples for this entity\n",
      "Processed entity 1031/1482 [http://example.org/graphify/org/Boeings] and added 0 triples for this entity\n",
      "Processed entity 1032/1482 [http://example.org/graphify/org/Dow] and added 3 triples for this entity\n",
      "Processed entity 1033/1482 [http://example.org/graphify/org/the_Carnegie_Endowment_for_International_Peace] and added 0 triples for this entity\n",
      "Processed entity 1034/1482 [http://example.org/graphify/org/GWK_Investment_Management_The_CBOE_Volatility] and added 0 triples for this entity\n",
      "Processed entity 1035/1482 [http://example.org/graphify/org/Farm_Coalition] and added 0 triples for this entity\n",
      "Processed entity 1036/1482 [http://example.org/graphify/org/Carnegie_Endowment] and added 8 triples for this entity\n",
      "Processed entity 1037/1482 [http://example.org/graphify/org/Waller] and added 9 triples for this entity\n",
      "Processed entity 1038/1482 [http://example.org/graphify/org/Bipartisan_Policy_Center] and added 355 triples for this entity\n",
      "Processed entity 1039/1482 [http://example.org/graphify/org/the_Economic_Outlook_Group_Nonfarm] and added 0 triples for this entity\n",
      "Processed entity 1040/1482 [http://example.org/graphify/org/Albertas] and added 8 triples for this entity\n",
      "Processed entity 1041/1482 [http://example.org/graphify/org/SINGAPORE_March] and added 0 triples for this entity\n",
      "Processed entity 1042/1482 [http://example.org/graphify/org/MercedesBenz_MBGnDE] and added 0 triples for this entity\n",
      "Processed entity 1043/1482 [http://example.org/graphify/org/Reuters_China] and added 0 triples for this entity\n",
      "Processed entity 1044/1482 [http://example.org/graphify/org/Huawei] and added 409 triples for this entity\n",
      "Processed entity 1045/1482 [http://example.org/graphify/org/CME_FedWatch] and added 0 triples for this entity\n",
      "Processed entity 1046/1482 [http://example.org/graphify/org/Reuters_News] and added 8 triples for this entity\n",
      "Processed entity 1047/1482 [http://example.org/graphify/org/Congress] and added 51 triples for this entity\n",
      "Processed entity 1048/1482 [http://example.org/graphify/org/Apple_Meta_Platforms_METAO] and added 0 triples for this entity\n",
      "Processed entity 1049/1482 [http://example.org/graphify/org/Smith] and added 7 triples for this entity\n",
      "Processed entity 1050/1482 [http://example.org/graphify/org/Advanced_Micro_Devices_AMDO] and added 0 triples for this entity\n",
      "Processed entity 1051/1482 [http://example.org/graphify/org/AXA_Investment] and added 0 triples for this entity\n",
      "Processed entity 1052/1482 [http://example.org/graphify/org/SEOUL_March] and added 0 triples for this entity\n",
      "Processed entity 1053/1482 [http://example.org/graphify/org/EV] and added 9 triples for this entity\n",
      "Processed entity 1054/1482 [http://example.org/graphify/org/the_US_Federal_Aviation_Administration] and added 0 triples for this entity\n",
      "Processed entity 1055/1482 [http://example.org/graphify/org/Amundi_Europes] and added 0 triples for this entity\n",
      "Processed entity 1056/1482 [http://example.org/graphify/org/State_University_Farmers] and added 0 triples for this entity\n",
      "Processed entity 1057/1482 [http://example.org/graphify/org/Traton_8TRADE] and added 0 triples for this entity\n",
      "Processed entity 1058/1482 [http://example.org/graphify/org/Auckland_Declines] and added 0 triples for this entity\n",
      "Processed entity 1059/1482 [http://example.org/graphify/org/the_Office_of_the_United_States_Trade_Representative] and added 0 triples for this entity\n",
      "Processed entity 1060/1482 [http://example.org/graphify/org/UniCredit] and added 352 triples for this entity\n",
      "Processed entity 1061/1482 [http://example.org/graphify/org/the_US_Department_of_Agriculture] and added 0 triples for this entity\n",
      "Processed entity 1062/1482 [http://example.org/graphify/org/HOUSTON] and added 0 triples for this entity\n",
      "Processed entity 1063/1482 [http://example.org/graphify/org/Inspurs] and added 0 triples for this entity\n",
      "Processed entity 1064/1482 [http://example.org/graphify/org/TikTok_General_Atlantic] and added 0 triples for this entity\n",
      "Processed entity 1065/1482 [http://example.org/graphify/org/West_Virginia_Food_and_Farm_Coalition] and added 0 triples for this entity\n",
      "Processed entity 1066/1482 [http://example.org/graphify/org/CoreWeaves] and added 0 triples for this entity\n",
      "Processed entity 1067/1482 [http://example.org/graphify/org/Reuters_Massachusetts] and added 0 triples for this entity\n",
      "Processed entity 1068/1482 [http://example.org/graphify/org/Reuters_VW] and added 0 triples for this entity\n",
      "Processed entity 1069/1482 [http://example.org/graphify/org/Imparato] and added 8 triples for this entity\n",
      "Processed entity 1070/1482 [http://example.org/graphify/org/BMW] and added 510 triples for this entity\n",
      "Processed entity 1071/1482 [http://example.org/graphify/org/WH_Group] and added 328 triples for this entity\n",
      "Processed entity 1072/1482 [http://example.org/graphify/org/Google] and added 214 triples for this entity\n",
      "Processed entity 1073/1482 [http://example.org/graphify/org/Toyotas] and added 8 triples for this entity\n",
      "Processed entity 1074/1482 [http://example.org/graphify/org/Reuters_India] and added 0 triples for this entity\n",
      "Processed entity 1075/1482 [http://example.org/graphify/org/GMT] and added 8 triples for this entity\n",
      "Processed entity 1076/1482 [http://example.org/graphify/org/TURIN_Italy] and added 0 triples for this entity\n",
      "Processed entity 1077/1482 [http://example.org/graphify/org/CEO_of_Tether_Paolo_Ardoino] and added 0 triples for this entity\n",
      "Processed entity 1078/1482 [http://example.org/graphify/org/ATT] and added 9 triples for this entity\n",
      "Processed entity 1079/1482 [http://example.org/graphify/org/Reuters_ArcelorMittal] and added 0 triples for this entity\n",
      "Processed entity 1080/1482 [http://example.org/graphify/org/Rossiter_added_European_Union] and added 0 triples for this entity\n",
      "Processed entity 1081/1482 [http://example.org/graphify/org/Big_Techs] and added 0 triples for this entity\n",
      "Processed entity 1082/1482 [http://example.org/graphify/org/Danish_Compromise] and added 0 triples for this entity\n",
      "Processed entity 1083/1482 [http://example.org/graphify/org/Julia_Pollak] and added 0 triples for this entity\n",
      "Processed entity 1084/1482 [http://example.org/graphify/org/White_House] and added 301 triples for this entity\n",
      "Processed entity 1085/1482 [http://example.org/graphify/org/the_Supreme_Court] and added 0 triples for this entity\n",
      "Processed entity 1086/1482 [http://example.org/graphify/org/King_Spalding] and added 0 triples for this entity\n",
      "Processed entity 1087/1482 [http://example.org/graphify/org/Hewlett_Packard_Enterprise] and added 669 triples for this entity\n",
      "Processed entity 1088/1482 [http://example.org/graphify/org/MicroStrategy] and added 170 triples for this entity\n",
      "Processed entity 1089/1482 [http://example.org/graphify/org/UMG_Concord] and added 0 triples for this entity\n",
      "Processed entity 1090/1482 [http://example.org/graphify/org/Trump_Administrations] and added 0 triples for this entity\n",
      "Processed entity 1091/1482 [http://example.org/graphify/org/the_Labor_Department] and added 0 triples for this entity\n",
      "Processed entity 1092/1482 [http://example.org/graphify/org/Alaskan_Airlines] and added 8 triples for this entity\n",
      "Processed entity 1093/1482 [http://example.org/graphify/org/OpenAI] and added 454 triples for this entity\n",
      "Processed entity 1094/1482 [http://example.org/graphify/org/CEO_of_Coinbase] and added 0 triples for this entity\n",
      "Processed entity 1095/1482 [http://example.org/graphify/org/Bank_of_France_Governor_Francois_Villeroy_de_Galhau] and added 0 triples for this entity\n",
      "Processed entity 1096/1482 [http://example.org/graphify/org/Aramco] and added 8 triples for this entity\n",
      "Processed entity 1097/1482 [http://example.org/graphify/org/Tata] and added 3 triples for this entity\n",
      "Processed entity 1098/1482 [http://example.org/graphify/org/Morgan_Stanley] and added 387 triples for this entity\n",
      "Processed entity 1099/1482 [http://example.org/graphify/org/Robinhood_Markets_HOODO] and added 0 triples for this entity\n",
      "Processed entity 1100/1482 [http://example.org/graphify/org/Beyonc_the_Rolling_Stones] and added 0 triples for this entity\n",
      "Processed entity 1101/1482 [http://example.org/graphify/org/The_West_Virginia_Food_and_Farm_Coalition] and added 0 triples for this entity\n",
      "Processed entity 1102/1482 [http://example.org/graphify/org/Glass] and added 90 triples for this entity\n",
      "Processed entity 1103/1482 [http://example.org/graphify/org/Senate] and added 63 triples for this entity\n",
      "Processed entity 1104/1482 [http://example.org/graphify/org/AI_Google] and added 0 triples for this entity\n",
      "Processed entity 1105/1482 [http://example.org/graphify/org/Air_China_Cargo] and added 489 triples for this entity\n",
      "Processed entity 1106/1482 [http://example.org/graphify/org/Reuters_Previous] and added 0 triples for this entity\n",
      "Processed entity 1107/1482 [http://example.org/graphify/org/TD_Securities] and added 475 triples for this entity\n",
      "Processed entity 1108/1482 [http://example.org/graphify/org/Assura] and added 8 triples for this entity\n",
      "Processed entity 1109/1482 [http://example.org/graphify/org/September_Equity] and added 0 triples for this entity\n",
      "Processed entity 1110/1482 [http://example.org/graphify/org/the_Commerce_Department] and added 0 triples for this entity\n",
      "Processed entity 1111/1482 [http://example.org/graphify/org/Alibaba_Group_9988HK] and added 0 triples for this entity\n",
      "Processed entity 1112/1482 [http://example.org/graphify/org/the_Toronto_Star] and added 0 triples for this entity\n",
      "Processed entity 1113/1482 [http://example.org/graphify/org/Bershka] and added 491 triples for this entity\n",
      "Processed entity 1114/1482 [http://example.org/graphify/org/LNG] and added 8 triples for this entity\n",
      "Processed entity 1115/1482 [http://example.org/graphify/org/Big_Tech_Europe] and added 0 triples for this entity\n",
      "Processed entity 1116/1482 [http://example.org/graphify/org/Shen] and added 9 triples for this entity\n",
      "Processed entity 1117/1482 [http://example.org/graphify/org/Carson_Group] and added 0 triples for this entity\n",
      "Processed entity 1118/1482 [http://example.org/graphify/org/UBS_OConnor] and added 0 triples for this entity\n",
      "Processed entity 1119/1482 [http://example.org/graphify/org/Inspur_Group_Chinas] and added 0 triples for this entity\n",
      "Processed entity 1120/1482 [http://example.org/graphify/org/the_Hong_Kong_Stock_Exchange] and added 0 triples for this entity\n",
      "Processed entity 1121/1482 [http://example.org/graphify/org/JP] and added 9 triples for this entity\n",
      "Processed entity 1122/1482 [http://example.org/graphify/org/BEV] and added 8 triples for this entity\n",
      "Processed entity 1123/1482 [http://example.org/graphify/org/the_Air_Force] and added 0 triples for this entity\n",
      "Processed entity 1124/1482 [http://example.org/graphify/org/HSI] and added 8 triples for this entity\n",
      "Processed entity 1125/1482 [http://example.org/graphify/org/Broadcom] and added 41 triples for this entity\n",
      "Processed entity 1126/1482 [http://example.org/graphify/org/Banco_de_Portugal] and added 263 triples for this entity\n",
      "Processed entity 1127/1482 [http://example.org/graphify/org/Apple_Inc] and added 8 triples for this entity\n",
      "Processed entity 1128/1482 [http://example.org/graphify/org/ABOARD_AIR_FORCE_ONE_March_9] and added 0 triples for this entity\n",
      "Processed entity 1129/1482 [http://example.org/graphify/org/AMD] and added 8 triples for this entity\n",
      "Processed entity 1130/1482 [http://example.org/graphify/org/The_Inspur_Group] and added 0 triples for this entity\n",
      "Processed entity 1131/1482 [http://example.org/graphify/org/Milan_Vaishnav] and added 0 triples for this entity\n",
      "Processed entity 1132/1482 [http://example.org/graphify/org/Tata_Passenger_Electric_Mobility_Tatas] and added 0 triples for this entity\n",
      "Processed entity 1133/1482 [http://example.org/graphify/org/Wireless_Emergency_Alerts] and added 32 triples for this entity\n",
      "Processed entity 1134/1482 [http://example.org/graphify/org/Reuters_Northvolt] and added 0 triples for this entity\n",
      "Processed entity 1135/1482 [http://example.org/graphify/org/Capitol_Hill] and added 258 triples for this entity\n",
      "Processed entity 1136/1482 [http://example.org/graphify/org/Primary_Health_Properties] and added 179 triples for this entity\n",
      "Processed entity 1137/1482 [http://example.org/graphify/org/TikTok] and added 706 triples for this entity\n",
      "Processed entity 1138/1482 [http://example.org/graphify/org/Treasury_Department] and added 8 triples for this entity\n",
      "Processed entity 1139/1482 [http://example.org/graphify/org/Triple_D_Trading] and added 0 triples for this entity\n",
      "Processed entity 1140/1482 [http://example.org/graphify/org/Indias_commerce_ministry] and added 0 triples for this entity\n",
      "Processed entity 1141/1482 [http://example.org/graphify/org/Costco] and added 205 triples for this entity\n",
      "Processed entity 1142/1482 [http://example.org/graphify/org/European_Investment_Bank] and added 415 triples for this entity\n",
      "Processed entity 1143/1482 [http://example.org/graphify/org/National_Peoples_Congress] and added 0 triples for this entity\n",
      "Processed entity 1144/1482 [http://example.org/graphify/org/BOJ] and added 8 triples for this entity\n",
      "Processed entity 1145/1482 [http://example.org/graphify/org/Dropbox] and added 355 triples for this entity\n",
      "Processed entity 1146/1482 [http://example.org/graphify/org/Dawning_Information_Industry_Co_603019SS] and added 0 triples for this entity\n",
      "Processed entity 1147/1482 [http://example.org/graphify/org/Janus_Henderson_Investors] and added 0 triples for this entity\n",
      "Processed entity 1148/1482 [http://example.org/graphify/org/Ethereum] and added 538 triples for this entity\n",
      "Processed entity 1149/1482 [http://example.org/graphify/org/the_Motor_Industry_of_New_Zealand] and added 0 triples for this entity\n",
      "Processed entity 1150/1482 [http://example.org/graphify/org/Washington_Post] and added 8 triples for this entity\n",
      "Processed entity 1151/1482 [http://example.org/graphify/org/Wealthspire_Advisors] and added 0 triples for this entity\n",
      "Processed entity 1152/1482 [http://example.org/graphify/org/the_Wall_Street_Journal] and added 0 triples for this entity\n",
      "Processed entity 1153/1482 [http://example.org/graphify/org/the_Canola_Council_of_Canada] and added 0 triples for this entity\n",
      "Processed entity 1154/1482 [http://example.org/graphify/org/US_Department_of_Health_and_Human_Services_General_Mills] and added 0 triples for this entity\n",
      "Processed entity 1155/1482 [http://example.org/graphify/org/Wave_Digital_Assets] and added 0 triples for this entity\n",
      "Processed entity 1156/1482 [http://example.org/graphify/org/European_Central_Bank] and added 465 triples for this entity\n",
      "Processed entity 1157/1482 [http://example.org/graphify/org/MAI_Capital_Management] and added 0 triples for this entity\n",
      "Processed entity 1158/1482 [http://example.org/graphify/org/the_Trump_Administration] and added 0 triples for this entity\n",
      "Processed entity 1159/1482 [http://example.org/graphify/org/White_Houses] and added 11 triples for this entity\n",
      "Processed entity 1160/1482 [http://example.org/graphify/org/RAAF_Base_Darwin] and added 431 triples for this entity\n",
      "Processed entity 1161/1482 [http://example.org/graphify/org/Swedens_Volvo] and added 0 triples for this entity\n",
      "Processed entity 1162/1482 [http://example.org/graphify/org/Commerce_Departments_Entity_List] and added 0 triples for this entity\n",
      "Processed entity 1163/1482 [http://example.org/graphify/org/Courts] and added 8 triples for this entity\n",
      "Processed entity 1164/1482 [http://example.org/graphify/org/LzLabs_UK] and added 0 triples for this entity\n",
      "Processed entity 1165/1482 [http://example.org/graphify/org/EU_Britain] and added 0 triples for this entity\n",
      "Processed entity 1166/1482 [http://example.org/graphify/org/Julia_Coronado] and added 0 triples for this entity\n",
      "Processed entity 1167/1482 [http://example.org/graphify/org/SAP] and added 201 triples for this entity\n",
      "Processed entity 1168/1482 [http://example.org/graphify/org/Transport] and added 382 triples for this entity\n",
      "Processed entity 1169/1482 [http://example.org/graphify/org/Tesla_TSLAO] and added 0 triples for this entity\n",
      "Processed entity 1170/1482 [http://example.org/graphify/org/USDAs_Agricultural_Marketing_Service] and added 0 triples for this entity\n",
      "Processed entity 1171/1482 [http://example.org/graphify/org/Hyundai_Motor_Groups] and added 0 triples for this entity\n",
      "Processed entity 1172/1482 [http://example.org/graphify/org/Weibo] and added 8 triples for this entity\n",
      "Processed entity 1173/1482 [http://example.org/graphify/org/HK400_million] and added 0 triples for this entity\n",
      "Processed entity 1174/1482 [http://example.org/graphify/org/Porsche] and added 367 triples for this entity\n",
      "Processed entity 1175/1482 [http://example.org/graphify/org/Scale_AI] and added 0 triples for this entity\n",
      "Processed entity 1176/1482 [http://example.org/graphify/org/the_European_Union] and added 0 triples for this entity\n",
      "Processed entity 1177/1482 [http://example.org/graphify/org/Cariad] and added 8 triples for this entity\n",
      "Processed entity 1178/1482 [http://example.org/graphify/org/Saxo] and added 8 triples for this entity\n",
      "Processed entity 1179/1482 [http://example.org/graphify/org/Todays_Market_Minute_Central] and added 0 triples for this entity\n",
      "Processed entity 1180/1482 [http://example.org/graphify/org/CHICAGOWASHINGTON] and added 0 triples for this entity\n",
      "Processed entity 1181/1482 [http://example.org/graphify/org/Intels_18A] and added 0 triples for this entity\n",
      "Processed entity 1182/1482 [http://example.org/graphify/org/The_European_Central_Bank] and added 8 triples for this entity\n",
      "Processed entity 1183/1482 [http://example.org/graphify/org/Creditors] and added 8 triples for this entity\n",
      "Processed entity 1184/1482 [http://example.org/graphify/org/Jaguar_Land_Rover] and added 494 triples for this entity\n",
      "Processed entity 1185/1482 [http://example.org/graphify/org/V3] and added 9 triples for this entity\n",
      "Processed entity 1186/1482 [http://example.org/graphify/org/Slower] and added 8 triples for this entity\n",
      "Processed entity 1187/1482 [http://example.org/graphify/org/the_Remote_Radio_Head] and added 0 triples for this entity\n",
      "Processed entity 1188/1482 [http://example.org/graphify/org/Ford_Motor_Company] and added 507 triples for this entity\n",
      "Processed entity 1189/1482 [http://example.org/graphify/org/MIWO00000PUS] and added 0 triples for this entity\n",
      "Processed entity 1190/1482 [http://example.org/graphify/org/Volkswagen_VOWGDE] and added 0 triples for this entity\n",
      "Processed entity 1191/1482 [http://example.org/graphify/org/Consob] and added 8 triples for this entity\n",
      "Processed entity 1192/1482 [http://example.org/graphify/org/New_York_Federal_Reserve] and added 8 triples for this entity\n",
      "Processed entity 1193/1482 [http://example.org/graphify/org/Siemens_AG] and added 8 triples for this entity\n",
      "Processed entity 1194/1482 [http://example.org/graphify/org/Commerce_Department] and added 8 triples for this entity\n",
      "Processed entity 1195/1482 [http://example.org/graphify/org/Morgan_Stanley_JPMorgan] and added 0 triples for this entity\n",
      "Processed entity 1196/1482 [http://example.org/graphify/org/Americas] and added 94 triples for this entity\n",
      "Processed entity 1197/1482 [http://example.org/graphify/org/Vara_Research_While] and added 0 triples for this entity\n",
      "Processed entity 1198/1482 [http://example.org/graphify/org/General_Mills_GISN] and added 0 triples for this entity\n",
      "Processed entity 1199/1482 [http://example.org/graphify/org/the_Australian_Defence_Force] and added 0 triples for this entity\n",
      "Processed entity 1200/1482 [http://example.org/graphify/org/Business_Insider] and added 352 triples for this entity\n",
      "Processed entity 1201/1482 [http://example.org/graphify/org/Chinas_Xiaomi_Corp_1810HK] and added 0 triples for this entity\n",
      "Processed entity 1202/1482 [http://example.org/graphify/org/BMO_Global_Metals_Mining_and_Critical_Minerals_Conference] and added 0 triples for this entity\n",
      "Processed entity 1203/1482 [http://example.org/graphify/org/RD] and added 4 triples for this entity\n",
      "Processed entity 1204/1482 [http://example.org/graphify/org/Phosphate] and added 136 triples for this entity\n",
      "Processed entity 1205/1482 [http://example.org/graphify/org/Intels] and added 0 triples for this entity\n",
      "Processed entity 1206/1482 [http://example.org/graphify/org/America_Agriculture] and added 0 triples for this entity\n",
      "Processed entity 1207/1482 [http://example.org/graphify/org/Reuters_Oil] and added 0 triples for this entity\n",
      "Processed entity 1208/1482 [http://example.org/graphify/org/the_US_Air_Forces] and added 0 triples for this entity\n",
      "Processed entity 1209/1482 [http://example.org/graphify/org/Liberal_Democratic_Partys_LDP] and added 0 triples for this entity\n",
      "Processed entity 1210/1482 [http://example.org/graphify/org/Reuters_Private] and added 0 triples for this entity\n",
      "Processed entity 1211/1482 [http://example.org/graphify/org/Hutong_Research] and added 0 triples for this entity\n",
      "Processed entity 1212/1482 [http://example.org/graphify/org/Alaska_Airlines_ALKN] and added 0 triples for this entity\n",
      "Processed entity 1213/1482 [http://example.org/graphify/org/Hyundai_Motor_and_Kia_Motors] and added 0 triples for this entity\n",
      "Processed entity 1214/1482 [http://example.org/graphify/org/NEW_YORK_March] and added 0 triples for this entity\n",
      "Processed entity 1215/1482 [http://example.org/graphify/org/Congressional_Budget_Office] and added 459 triples for this entity\n",
      "Processed entity 1216/1482 [http://example.org/graphify/org/Chicago_Federal_Reserve_Bank] and added 8 triples for this entity\n",
      "Processed entity 1217/1482 [http://example.org/graphify/org/Volvo_AB] and added 8 triples for this entity\n",
      "Processed entity 1218/1482 [http://example.org/graphify/org/SP] and added 2 triples for this entity\n",
      "Processed entity 1219/1482 [http://example.org/graphify/org/University_of_Michigan] and added 445 triples for this entity\n",
      "Processed entity 1220/1482 [http://example.org/graphify/org/Cabinet] and added 3 triples for this entity\n",
      "Processed entity 1221/1482 [http://example.org/graphify/org/Chart] and added 90 triples for this entity\n",
      "Processed entity 1222/1482 [http://example.org/graphify/org/Apollo_Global_Management] and added 246 triples for this entity\n",
      "Processed entity 1223/1482 [http://example.org/graphify/org/Equipment_Leasing_Finance_Foundation] and added 0 triples for this entity\n",
      "Processed entity 1224/1482 [http://example.org/graphify/org/the_Bipartisan_Policy_Center] and added 0 triples for this entity\n",
      "Processed entity 1225/1482 [http://example.org/graphify/org/Nutrien_NTRTO] and added 0 triples for this entity\n",
      "Processed entity 1226/1482 [http://example.org/graphify/org/Nvidia] and added 716 triples for this entity\n",
      "Processed entity 1227/1482 [http://example.org/graphify/org/BlackRock] and added 455 triples for this entity\n",
      "Processed entity 1228/1482 [http://example.org/graphify/org/European_Automobile_Manufacturers_Association_ACEA] and added 0 triples for this entity\n",
      "Processed entity 1229/1482 [http://example.org/graphify/org/Air_Force] and added 8 triples for this entity\n",
      "Processed entity 1230/1482 [http://example.org/graphify/org/Saudi_Aramco] and added 612 triples for this entity\n",
      "Processed entity 1231/1482 [http://example.org/graphify/org/World_Liberty_Financial] and added 0 triples for this entity\n",
      "Processed entity 1232/1482 [http://example.org/graphify/org/CEO_of_Nutrien_NTRTO] and added 0 triples for this entity\n",
      "Processed entity 1233/1482 [http://example.org/graphify/org/Bank_of_Canada_and_Bank_of_England] and added 0 triples for this entity\n",
      "Processed entity 1234/1482 [http://example.org/graphify/org/Reuters_Policymakers] and added 0 triples for this entity\n",
      "Processed entity 1235/1482 [http://example.org/graphify/org/Wang] and added 8 triples for this entity\n",
      "Processed entity 1236/1482 [http://example.org/graphify/org/Morgan_Stanley_JPMorgan_Goldman_Sachs] and added 0 triples for this entity\n",
      "Processed entity 1237/1482 [http://example.org/graphify/org/TSMC] and added 142 triples for this entity\n",
      "Processed entity 1238/1482 [http://example.org/graphify/org/Reuters_Morgan_Stanley] and added 0 triples for this entity\n",
      "Processed entity 1239/1482 [http://example.org/graphify/org/Companies] and added 8 triples for this entity\n",
      "Processed entity 1240/1482 [http://example.org/graphify/org/RELX] and added 249 triples for this entity\n",
      "Processed entity 1241/1482 [http://example.org/graphify/org/PHEV] and added 8 triples for this entity\n",
      "Processed entity 1242/1482 [http://example.org/graphify/org/Principal_Asset_Management] and added 0 triples for this entity\n",
      "Processed entity 1243/1482 [http://example.org/graphify/org/the_US_Commodity_Futures_Trading_Commission] and added 0 triples for this entity\n",
      "Processed entity 1244/1482 [http://example.org/graphify/org/Wealth_Consulting_Group] and added 0 triples for this entity\n",
      "Processed entity 1245/1482 [http://example.org/graphify/org/Pentagon] and added 90 triples for this entity\n",
      "Processed entity 1246/1482 [http://example.org/graphify/org/State_Bill_Galvin] and added 0 triples for this entity\n",
      "Processed entity 1247/1482 [http://example.org/graphify/org/Cathay_Pacific_Airways_0293HK] and added 0 triples for this entity\n",
      "Processed entity 1248/1482 [http://example.org/graphify/org/the_Washington_Post] and added 0 triples for this entity\n",
      "Processed entity 1249/1482 [http://example.org/graphify/org/Kia_Motors] and added 138 triples for this entity\n",
      "Processed entity 1250/1482 [http://example.org/graphify/org/A360] and added 8 triples for this entity\n",
      "Processed entity 1251/1482 [http://example.org/graphify/org/Lockheed] and added 8 triples for this entity\n",
      "Processed entity 1252/1482 [http://example.org/graphify/org/Salaries] and added 8 triples for this entity\n",
      "Processed entity 1253/1482 [http://example.org/graphify/org/Maharashtra_Tatas_EV] and added 0 triples for this entity\n",
      "Processed entity 1254/1482 [http://example.org/graphify/org/Verge] and added 8 triples for this entity\n",
      "Processed entity 1255/1482 [http://example.org/graphify/org/Attendees] and added 0 triples for this entity\n",
      "Processed entity 1256/1482 [http://example.org/graphify/org/SEP] and added 3 triples for this entity\n",
      "Processed entity 1257/1482 [http://example.org/graphify/org/the_West_Virginia_Food_and_Farm_Coalition] and added 0 triples for this entity\n",
      "Processed entity 1258/1482 [http://example.org/graphify/org/the_Consumer_Brands_Association] and added 0 triples for this entity\n",
      "Processed entity 1259/1482 [http://example.org/graphify/org/Panama_Canal] and added 577 triples for this entity\n",
      "Processed entity 1260/1482 [http://example.org/graphify/org/Dunkirk] and added 465 triples for this entity\n",
      "Processed entity 1261/1482 [http://example.org/graphify/org/SPLRCI] and added 0 triples for this entity\n",
      "Processed entity 1262/1482 [http://example.org/graphify/org/Baidu_Alibaba_and] and added 0 triples for this entity\n",
      "Processed entity 1263/1482 [http://example.org/graphify/org/Livingston_New_Jerseybased] and added 0 triples for this entity\n",
      "Processed entity 1264/1482 [http://example.org/graphify/org/Hyundai_Motor_Group] and added 457 triples for this entity\n",
      "Processed entity 1265/1482 [http://example.org/graphify/org/DOJ] and added 8 triples for this entity\n",
      "Processed entity 1266/1482 [http://example.org/graphify/org/TBD] and added 9 triples for this entity\n",
      "Processed entity 1267/1482 [http://example.org/graphify/org/CFO] and added 8 triples for this entity\n",
      "Processed entity 1268/1482 [http://example.org/graphify/org/US_Trade_Representative_for_South_and_Central_Asia_Brendan_Lynch] and added 0 triples for this entity\n",
      "Processed entity 1269/1482 [http://example.org/graphify/org/State] and added 1 triples for this entity\n",
      "Processed entity 1270/1482 [http://example.org/graphify/org/Robinhood] and added 8 triples for this entity\n",
      "Processed entity 1271/1482 [http://example.org/graphify/org/SoftBank_9984T] and added 0 triples for this entity\n",
      "Processed entity 1272/1482 [http://example.org/graphify/org/Ukraine_Cathay] and added 0 triples for this entity\n",
      "Processed entity 1273/1482 [http://example.org/graphify/org/Susquehanna_International_Group] and added 197 triples for this entity\n",
      "Processed entity 1274/1482 [http://example.org/graphify/org/Reuters_Jaguar_Land_Rover] and added 0 triples for this entity\n",
      "Processed entity 1275/1482 [http://example.org/graphify/org/LouloGounkoto] and added 0 triples for this entity\n",
      "Processed entity 1276/1482 [http://example.org/graphify/org/Primary_Health_Properties_PHPL] and added 0 triples for this entity\n",
      "Processed entity 1277/1482 [http://example.org/graphify/org/Meta_Platforms_METAO] and added 0 triples for this entity\n",
      "Processed entity 1278/1482 [http://example.org/graphify/org/Supreme_Court] and added 8 triples for this entity\n",
      "Processed entity 1279/1482 [http://example.org/graphify/org/Bank_of_France] and added 130 triples for this entity\n",
      "Processed entity 1280/1482 [http://example.org/graphify/org/The_Wall_Street_Journal] and added 445 triples for this entity\n",
      "Processed entity 1281/1482 [http://example.org/graphify/org/Federal_Aviation_Administration] and added 433 triples for this entity\n",
      "Processed entity 1282/1482 [http://example.org/graphify/org/World_Trade_Organization] and added 457 triples for this entity\n",
      "Processed entity 1283/1482 [http://example.org/graphify/org/Starlink] and added 221 triples for this entity\n",
      "Processed entity 1284/1482 [http://example.org/graphify/org/Southwest_Airlines_LUVN] and added 0 triples for this entity\n",
      "Processed entity 1285/1482 [http://example.org/graphify/org/SP_Globals] and added 0 triples for this entity\n",
      "Processed entity 1286/1482 [http://example.org/graphify/org/Reuters_Federal_Reserve] and added 0 triples for this entity\n",
      "Processed entity 1287/1482 [http://example.org/graphify/org/Virgins] and added 8 triples for this entity\n",
      "Processed entity 1288/1482 [http://example.org/graphify/org/US_District_Judge_Amit_Mehta] and added 0 triples for this entity\n",
      "Processed entity 1289/1482 [http://example.org/graphify/org/Scale] and added 4 triples for this entity\n",
      "Processed entity 1290/1482 [http://example.org/graphify/org/Trumps_costcutting_Department_of_Government_Efficiency_FCC_Chair_Brendan_Carr] and added 0 triples for this entity\n",
      "Processed entity 1291/1482 [http://example.org/graphify/org/KKRUSS] and added 0 triples for this entity\n",
      "Processed entity 1292/1482 [http://example.org/graphify/org/Amazon_AMZNO] and added 0 triples for this entity\n",
      "Processed entity 1293/1482 [http://example.org/graphify/org/Clearnomics_For] and added 0 triples for this entity\n",
      "Processed entity 1294/1482 [http://example.org/graphify/org/Reuters_US_Federal_Reserve] and added 0 triples for this entity\n",
      "Processed entity 1295/1482 [http://example.org/graphify/org/the_Shanghai_Composite_Index] and added 0 triples for this entity\n",
      "Processed entity 1296/1482 [http://example.org/graphify/org/Porsche_and_Piech] and added 0 triples for this entity\n",
      "Processed entity 1297/1482 [http://example.org/graphify/org/AXA_Investment_Managers_Chris_Iggo] and added 0 triples for this entity\n",
      "Processed entity 1298/1482 [http://example.org/graphify/org/The_Australian_Defence_Force] and added 0 triples for this entity\n",
      "Processed entity 1299/1482 [http://example.org/graphify/org/Wealthspire_Advisors_At] and added 0 triples for this entity\n",
      "Processed entity 1300/1482 [http://example.org/graphify/org/US_Department_of_Justice] and added 8 triples for this entity\n",
      "Processed entity 1301/1482 [http://example.org/graphify/org/Hyundai_Steel_004020KS] and added 0 triples for this entity\n",
      "Processed entity 1302/1482 [http://example.org/graphify/org/Inditex] and added 578 triples for this entity\n",
      "Processed entity 1303/1482 [http://example.org/graphify/org/Post] and added 1 triples for this entity\n",
      "Processed entity 1304/1482 [http://example.org/graphify/org/Hesais] and added 0 triples for this entity\n",
      "Processed entity 1305/1482 [http://example.org/graphify/org/the_Labor_Departments_Bureau_of_Labor_Statistics] and added 0 triples for this entity\n",
      "Processed entity 1306/1482 [http://example.org/graphify/org/Nasdaq] and added 436 triples for this entity\n",
      "Processed entity 1307/1482 [http://example.org/graphify/org/Farmers] and added 8 triples for this entity\n",
      "Processed entity 1308/1482 [http://example.org/graphify/org/UBS_Global_Wealth_Management] and added 0 triples for this entity\n",
      "Processed entity 1309/1482 [http://example.org/graphify/org/ECB] and added 9 triples for this entity\n",
      "Processed entity 1310/1482 [http://example.org/graphify/org/Banco_BPM_BAMIMI] and added 0 triples for this entity\n",
      "Processed entity 1311/1482 [http://example.org/graphify/org/United_UALO] and added 0 triples for this entity\n",
      "Processed entity 1312/1482 [http://example.org/graphify/org/Airbus] and added 573 triples for this entity\n",
      "Processed entity 1313/1482 [http://example.org/graphify/org/RENAPA] and added 0 triples for this entity\n",
      "Processed entity 1314/1482 [http://example.org/graphify/org/Nonfarm] and added 0 triples for this entity\n",
      "Processed entity 1315/1482 [http://example.org/graphify/org/US_Marines] and added 8 triples for this entity\n",
      "Processed entity 1316/1482 [http://example.org/graphify/org/Meta_Platforms] and added 281 triples for this entity\n",
      "Processed entity 1317/1482 [http://example.org/graphify/org/Reuters_Anduril] and added 0 triples for this entity\n",
      "Processed entity 1318/1482 [http://example.org/graphify/org/AI_industry_Altman] and added 0 triples for this entity\n",
      "Processed entity 1319/1482 [http://example.org/graphify/org/Houston] and added 794 triples for this entity\n",
      "Processed entity 1320/1482 [http://example.org/graphify/org/X_Brad_Garlinghouse_CEO_of_Ripple] and added 0 triples for this entity\n",
      "Processed entity 1321/1482 [http://example.org/graphify/org/CK_Hutchisons] and added 0 triples for this entity\n",
      "Processed entity 1322/1482 [http://example.org/graphify/org/SumaUSI_Electronics] and added 0 triples for this entity\n",
      "Processed entity 1323/1482 [http://example.org/graphify/org/TotalEnergies_TTEFPA] and added 0 triples for this entity\n",
      "Processed entity 1324/1482 [http://example.org/graphify/org/Taiwan_Inspur_Group] and added 0 triples for this entity\n",
      "Processed entity 1325/1482 [http://example.org/graphify/org/BMO_Capital_Markets_Trump] and added 0 triples for this entity\n",
      "Processed entity 1326/1482 [http://example.org/graphify/org/YouTube] and added 322 triples for this entity\n",
      "Processed entity 1327/1482 [http://example.org/graphify/org/IPO_Reuters] and added 0 triples for this entity\n",
      "Processed entity 1328/1482 [http://example.org/graphify/org/Assuras] and added 207 triples for this entity\n",
      "Processed entity 1329/1482 [http://example.org/graphify/org/Porsche_SE] and added 448 triples for this entity\n",
      "Processed entity 1330/1482 [http://example.org/graphify/org/Crossmark_Investments_Part] and added 0 triples for this entity\n",
      "Processed entity 1331/1482 [http://example.org/graphify/org/US_Treasury_Department] and added 8 triples for this entity\n",
      "Processed entity 1332/1482 [http://example.org/graphify/org/Walmart] and added 613 triples for this entity\n",
      "Processed entity 1333/1482 [http://example.org/graphify/org/US_Census_Bureau] and added 8 triples for this entity\n",
      "Processed entity 1334/1482 [http://example.org/graphify/org/Cathay_Pacific] and added 351 triples for this entity\n",
      "Processed entity 1335/1482 [http://example.org/graphify/org/SOX] and added 8 triples for this entity\n",
      "Processed entity 1336/1482 [http://example.org/graphify/org/Frankfurt_Reuters] and added 0 triples for this entity\n",
      "Processed entity 1337/1482 [http://example.org/graphify/org/JLR] and added 8 triples for this entity\n",
      "Processed entity 1338/1482 [http://example.org/graphify/org/CBOE_Volatility_Index] and added 8 triples for this entity\n",
      "Processed entity 1339/1482 [http://example.org/graphify/org/Feds] and added 446 triples for this entity\n",
      "Processed entity 1340/1482 [http://example.org/graphify/org/Houston_The_Trump] and added 0 triples for this entity\n",
      "Processed entity 1341/1482 [http://example.org/graphify/org/The_Federal_Open_Market_Committee] and added 0 triples for this entity\n",
      "Processed entity 1342/1482 [http://example.org/graphify/org/AVALON_March_26] and added 0 triples for this entity\n",
      "Processed entity 1343/1482 [http://example.org/graphify/org/Diversity_Equity] and added 0 triples for this entity\n",
      "Processed entity 1344/1482 [http://example.org/graphify/org/Inspur_Group] and added 0 triples for this entity\n",
      "Processed entity 1345/1482 [http://example.org/graphify/org/Justice_Department] and added 8 triples for this entity\n",
      "Processed entity 1346/1482 [http://example.org/graphify/org/5G] and added 127 triples for this entity\n",
      "Processed entity 1347/1482 [http://example.org/graphify/org/US_PowellPalm] and added 0 triples for this entity\n",
      "Processed entity 1348/1482 [http://example.org/graphify/org/Los_Angeles_Dodgers] and added 547 triples for this entity\n",
      "Processed entity 1349/1482 [http://example.org/graphify/org/the_European_Automobile_Manufacturers_Association] and added 0 triples for this entity\n",
      "Processed entity 1350/1482 [http://example.org/graphify/org/Star] and added 195 triples for this entity\n",
      "Processed entity 1351/1482 [http://example.org/graphify/org/Beijing_Academy_of_Artificial_Intelligence_BAAI] and added 0 triples for this entity\n",
      "Processed entity 1352/1482 [http://example.org/graphify/org/Data] and added 109 triples for this entity\n",
      "Processed entity 1353/1482 [http://example.org/graphify/org/Reuters_Assura] and added 0 triples for this entity\n",
      "Processed entity 1354/1482 [http://example.org/graphify/org/Fed_Chair_Jerome_Powells] and added 0 triples for this entity\n",
      "Processed entity 1355/1482 [http://example.org/graphify/org/Reuters] and added 341 triples for this entity\n",
      "Processed entity 1356/1482 [http://example.org/graphify/org/Services] and added 8 triples for this entity\n",
      "Processed entity 1357/1482 [http://example.org/graphify/org/the_United_States_Markets] and added 0 triples for this entity\n",
      "Processed entity 1358/1482 [http://example.org/graphify/org/Intel] and added 415 triples for this entity\n",
      "Processed entity 1359/1482 [http://example.org/graphify/org/Tech] and added 8 triples for this entity\n",
      "Processed entity 1360/1482 [http://example.org/graphify/org/CoreWeave] and added 0 triples for this entity\n",
      "Processed entity 1361/1482 [http://example.org/graphify/org/Health_and_Human_Services] and added 8 triples for this entity\n",
      "Processed entity 1362/1482 [http://example.org/graphify/org/the_US_Treasury_Department] and added 0 triples for this entity\n",
      "Processed entity 1363/1482 [http://example.org/graphify/org/Reuters_South_Koreas_Hyundai_Motor_Group] and added 0 triples for this entity\n",
      "Processed entity 1364/1482 [http://example.org/graphify/org/Federal_Reserves] and added 0 triples for this entity\n",
      "Processed entity 1365/1482 [http://example.org/graphify/org/China_Reciprocal] and added 0 triples for this entity\n",
      "Processed entity 1366/1482 [http://example.org/graphify/org/Court] and added 68 triples for this entity\n",
      "Processed entity 1367/1482 [http://example.org/graphify/org/Reuters_Teslas_TSLAO] and added 0 triples for this entity\n",
      "Processed entity 1368/1482 [http://example.org/graphify/org/Central] and added 1 triples for this entity\n",
      "Processed entity 1369/1482 [http://example.org/graphify/org/Meanwhile_Goldman_Sachs] and added 0 triples for this entity\n",
      "Processed entity 1370/1482 [http://example.org/graphify/org/The_US_Federal_Communications_Commission] and added 0 triples for this entity\n",
      "Processed entity 1371/1482 [http://example.org/graphify/org/USDA] and added 8 triples for this entity\n",
      "Processed entity 1372/1482 [http://example.org/graphify/org/Elon] and added 84 triples for this entity\n",
      "Processed entity 1373/1482 [http://example.org/graphify/org/the_Australian_International_Air_Show] and added 0 triples for this entity\n",
      "Processed entity 1374/1482 [http://example.org/graphify/org/Anima] and added 221 triples for this entity\n",
      "Processed entity 1375/1482 [http://example.org/graphify/org/Daishin_Securities_Hyundai_Steel] and added 0 triples for this entity\n",
      "Processed entity 1376/1482 [http://example.org/graphify/org/CEO_Leigh_Lytle] and added 0 triples for this entity\n",
      "Processed entity 1377/1482 [http://example.org/graphify/org/Startups] and added 8 triples for this entity\n",
      "Processed entity 1378/1482 [http://example.org/graphify/org/US_Federal_Aviation_Administration] and added 8 triples for this entity\n",
      "Processed entity 1379/1482 [http://example.org/graphify/org/The_Nippon_Individual_Savings_Account_NISA] and added 0 triples for this entity\n",
      "Processed entity 1380/1482 [http://example.org/graphify/org/MAN] and added 8 triples for this entity\n",
      "Processed entity 1381/1482 [http://example.org/graphify/org/Inditex_ITXMC] and added 0 triples for this entity\n",
      "Processed entity 1382/1482 [http://example.org/graphify/org/Amazoncom_AMZNO] and added 0 triples for this entity\n",
      "Processed entity 1383/1482 [http://example.org/graphify/org/Politico] and added 365 triples for this entity\n",
      "Processed entity 1384/1482 [http://example.org/graphify/org/Brent] and added 3 triples for this entity\n",
      "Processed entity 1385/1482 [http://example.org/graphify/org/Saab_Automobile] and added 418 triples for this entity\n",
      "Processed entity 1386/1482 [http://example.org/graphify/org/Reuters_JPMorgan_Chase] and added 0 triples for this entity\n",
      "Processed entity 1387/1482 [http://example.org/graphify/org/BPC] and added 9 triples for this entity\n",
      "Processed entity 1388/1482 [http://example.org/graphify/org/Morgan_Stanleys_Wilson] and added 0 triples for this entity\n",
      "Processed entity 1389/1482 [http://example.org/graphify/org/Minneapolis_Feds_Kashkari_St_Louis_Feds_Musalem] and added 0 triples for this entity\n",
      "Processed entity 1390/1482 [http://example.org/graphify/org/Reuters_The_European_Union] and added 0 triples for this entity\n",
      "Processed entity 1391/1482 [http://example.org/graphify/org/Air_China] and added 447 triples for this entity\n",
      "Processed entity 1392/1482 [http://example.org/graphify/org/Eurasia_Group] and added 131 triples for this entity\n",
      "Processed entity 1393/1482 [http://example.org/graphify/org/Hyundai_Motor] and added 8 triples for this entity\n",
      "Processed entity 1394/1482 [http://example.org/graphify/org/Reuters_The_SP_500] and added 0 triples for this entity\n",
      "Processed entity 1395/1482 [http://example.org/graphify/org/Fos] and added 3 triples for this entity\n",
      "Processed entity 1396/1482 [http://example.org/graphify/org/LSEG] and added 8 triples for this entity\n",
      "Processed entity 1397/1482 [http://example.org/graphify/org/Bilibili] and added 452 triples for this entity\n",
      "Processed entity 1398/1482 [http://example.org/graphify/org/Coinbase] and added 540 triples for this entity\n",
      "Processed entity 1399/1482 [http://example.org/graphify/org/Hong_Kongs_Hang_Seng] and added 0 triples for this entity\n",
      "Processed entity 1400/1482 [http://example.org/graphify/org/HDB] and added 8 triples for this entity\n",
      "Processed entity 1401/1482 [http://example.org/graphify/org/PowellPalm] and added 0 triples for this entity\n",
      "Processed entity 1402/1482 [http://example.org/graphify/org/the_University_of_Illinois] and added 0 triples for this entity\n",
      "Processed entity 1403/1482 [http://example.org/graphify/org/Hyundai_Motor_Group_005380KS] and added 0 triples for this entity\n",
      "Processed entity 1404/1482 [http://example.org/graphify/org/Porsche_AG_Porsche] and added 0 triples for this entity\n",
      "Processed entity 1405/1482 [http://example.org/graphify/org/Reuters_Indian] and added 0 triples for this entity\n",
      "Processed entity 1406/1482 [http://example.org/graphify/org/The_Federal_Reserve] and added 8 triples for this entity\n",
      "Processed entity 1407/1482 [http://example.org/graphify/org/Likewise_Hong_Kongs_Hang_Seng_HSI] and added 0 triples for this entity\n",
      "Processed entity 1408/1482 [http://example.org/graphify/org/Chicago_Midway] and added 8 triples for this entity\n",
      "Processed entity 1409/1482 [http://example.org/graphify/org/SP_Global] and added 0 triples for this entity\n",
      "Processed entity 1410/1482 [http://example.org/graphify/org/the_US_Federal_Reserve] and added 0 triples for this entity\n",
      "Processed entity 1411/1482 [http://example.org/graphify/org/Tokyo_Gas_9531T] and added 0 triples for this entity\n",
      "Processed entity 1412/1482 [http://example.org/graphify/org/European_Commission] and added 395 triples for this entity\n",
      "Processed entity 1413/1482 [http://example.org/graphify/org/JeanPhilippe_Imparato] and added 0 triples for this entity\n",
      "Processed entity 1414/1482 [http://example.org/graphify/org/Cao] and added 3 triples for this entity\n",
      "Processed entity 1415/1482 [http://example.org/graphify/org/the_White_House] and added 0 triples for this entity\n",
      "Processed entity 1416/1482 [http://example.org/graphify/org/Apple_Pfizer_Mastercard_Cargill] and added 0 triples for this entity\n",
      "Processed entity 1417/1482 [http://example.org/graphify/org/SoftBank] and added 8 triples for this entity\n",
      "Processed entity 1418/1482 [http://example.org/graphify/org/WTI] and added 8 triples for this entity\n",
      "Processed entity 1419/1482 [http://example.org/graphify/org/DEI] and added 8 triples for this entity\n",
      "Processed entity 1420/1482 [http://example.org/graphify/org/Securities_and_Exchange_Commission] and added 8 triples for this entity\n",
      "Processed entity 1421/1482 [http://example.org/graphify/org/45B] and added 0 triples for this entity\n",
      "Processed entity 1422/1482 [http://example.org/graphify/org/ByteDances] and added 0 triples for this entity\n",
      "Processed entity 1423/1482 [http://example.org/graphify/org/SP_Global_Market_Intelligence] and added 0 triples for this entity\n",
      "Processed entity 1424/1482 [http://example.org/graphify/org/The_White_House] and added 8 triples for this entity\n",
      "Processed entity 1425/1482 [http://example.org/graphify/org/Central_Asia_Brendan_Lynch] and added 0 triples for this entity\n",
      "Processed entity 1426/1482 [http://example.org/graphify/org/Delta_Air_Lines] and added 600 triples for this entity\n",
      "Processed entity 1427/1482 [http://example.org/graphify/org/Opportunities] and added 8 triples for this entity\n",
      "Processed entity 1428/1482 [http://example.org/graphify/org/Brinkema] and added 0 triples for this entity\n",
      "Processed entity 1429/1482 [http://example.org/graphify/org/US_Department_of_Labor] and added 8 triples for this entity\n",
      "Processed entity 1430/1482 [http://example.org/graphify/org/Concord] and added 1 triples for this entity\n",
      "Processed entity 1431/1482 [http://example.org/graphify/org/Ohio_State_University_Farmers] and added 0 triples for this entity\n",
      "Processed entity 1432/1482 [http://example.org/graphify/org/Hyundai_Motor_and_affiliate_Kia_Corp_000270KS] and added 0 triples for this entity\n",
      "Processed entity 1433/1482 [http://example.org/graphify/org/the_Commerce_Departments_Entity_List] and added 0 triples for this entity\n",
      "Processed entity 1434/1482 [http://example.org/graphify/org/777X] and added 8 triples for this entity\n",
      "Processed entity 1435/1482 [http://example.org/graphify/org/Beijings] and added 0 triples for this entity\n",
      "Processed entity 1436/1482 [http://example.org/graphify/org/Reserve_Bank_of_New_Zealand] and added 280 triples for this entity\n",
      "Processed entity 1437/1482 [http://example.org/graphify/org/ByteDance] and added 397 triples for this entity\n",
      "Processed entity 1438/1482 [http://example.org/graphify/org/Bank_of_America] and added 282 triples for this entity\n",
      "Processed entity 1439/1482 [http://example.org/graphify/org/PepsiCo] and added 390 triples for this entity\n",
      "Processed entity 1440/1482 [http://example.org/graphify/org/European_Free_Trade_Association] and added 255 triples for this entity\n",
      "Processed entity 1441/1482 [http://example.org/graphify/org/Reuters_US_Energy] and added 0 triples for this entity\n",
      "Processed entity 1442/1482 [http://example.org/graphify/org/CNBC] and added 590 triples for this entity\n",
      "Processed entity 1443/1482 [http://example.org/graphify/org/Trump] and added 7 triples for this entity\n",
      "Processed entity 1444/1482 [http://example.org/graphify/org/the_Canadian_Crops_Convention] and added 0 triples for this entity\n",
      "Processed entity 1445/1482 [http://example.org/graphify/org/Reuters_Chicago_Federal_Reserve_Bank] and added 0 triples for this entity\n",
      "Processed entity 1446/1482 [http://example.org/graphify/org/The_Labor_Departments] and added 0 triples for this entity\n",
      "Processed entity 1447/1482 [http://example.org/graphify/org/Reuters_Taiwans_central_bank] and added 0 triples for this entity\n",
      "Processed entity 1448/1482 [http://example.org/graphify/org/America_First] and added 8 triples for this entity\n",
      "Processed entity 1449/1482 [http://example.org/graphify/org/Hang_Seng] and added 8 triples for this entity\n",
      "Processed entity 1450/1482 [http://example.org/graphify/org/Reuters_Cathay_Pacific_Airways_0293HK] and added 0 triples for this entity\n",
      "Processed entity 1451/1482 [http://example.org/graphify/org/HK_Express] and added 655 triples for this entity\n",
      "Processed entity 1452/1482 [http://example.org/graphify/org/the_Personal_Consumption_Expenditure] and added 0 triples for this entity\n",
      "Processed entity 1453/1482 [http://example.org/graphify/org/General_Motors_GMN] and added 0 triples for this entity\n",
      "Processed entity 1454/1482 [http://example.org/graphify/org/CCTV] and added 8 triples for this entity\n",
      "Processed entity 1455/1482 [http://example.org/graphify/org/European_AI] and added 0 triples for this entity\n",
      "Processed entity 1456/1482 [http://example.org/graphify/org/The_Beijing_Academy_of_Artificial_Intelligence_BAAI] and added 0 triples for this entity\n",
      "Processed entity 1457/1482 [http://example.org/graphify/org/Goldman_Sachs_GSN] and added 0 triples for this entity\n",
      "Processed entity 1458/1482 [http://example.org/graphify/org/Reuters_South_Koreas_Hyundai_Steel] and added 0 triples for this entity\n",
      "Processed entity 1459/1482 [http://example.org/graphify/org/Reuters_Canada] and added 0 triples for this entity\n",
      "Processed entity 1460/1482 [http://example.org/graphify/org/Coinbase_COINO] and added 0 triples for this entity\n",
      "Processed entity 1461/1482 [http://example.org/graphify/org/Falcon] and added 246 triples for this entity\n",
      "Processed entity 1462/1482 [http://example.org/graphify/org/SAIC_Motor_600104SS] and added 0 triples for this entity\n",
      "Processed entity 1463/1482 [http://example.org/graphify/org/Kia] and added 231 triples for this entity\n",
      "Processed entity 1464/1482 [http://example.org/graphify/org/the_US_Department_of_Health_and_Human_Services] and added 0 triples for this entity\n",
      "Processed entity 1465/1482 [http://example.org/graphify/org/Certification_Regarding_Compliance_With_Applicable_Federal_AntiDiscrimination_Law_Reuters] and added 0 triples for this entity\n",
      "Processed entity 1466/1482 [http://example.org/graphify/org/JP_Richardson] and added 0 triples for this entity\n",
      "Processed entity 1467/1482 [http://example.org/graphify/org/Bank_of_Japan] and added 434 triples for this entity\n",
      "Processed entity 1468/1482 [http://example.org/graphify/org/the_US_Government_Accountability_Office] and added 0 triples for this entity\n",
      "Processed entity 1469/1482 [http://example.org/graphify/org/Toronto] and added 681 triples for this entity\n",
      "Processed entity 1470/1482 [http://example.org/graphify/org/The_Bank_of_England] and added 8 triples for this entity\n",
      "Processed entity 1471/1482 [http://example.org/graphify/org/Personal_Consumption_Expenditures] and added 0 triples for this entity\n",
      "Processed entity 1472/1482 [http://example.org/graphify/org/TikToks_US] and added 0 triples for this entity\n",
      "Processed entity 1473/1482 [http://example.org/graphify/org/B_Riley_Wealth] and added 0 triples for this entity\n",
      "Processed entity 1474/1482 [http://example.org/graphify/org/12B_debt_Representatives] and added 0 triples for this entity\n",
      "Processed entity 1475/1482 [http://example.org/graphify/org/Generali_GASIMI] and added 0 triples for this entity\n",
      "Processed entity 1476/1482 [http://example.org/graphify/org/Todays_Key_Market_Moves_Trade] and added 0 triples for this entity\n",
      "Processed entity 1477/1482 [http://example.org/graphify/org/Credit_Suisse] and added 509 triples for this entity\n",
      "Processed entity 1478/1482 [http://example.org/graphify/org/Economic_Outlook_Group_Nonfarm] and added 0 triples for this entity\n",
      "Processed entity 1479/1482 [http://example.org/graphify/org/the_United_States] and added 0 triples for this entity\n",
      "Processed entity 1480/1482 [http://example.org/graphify/org/the_US_Government] and added 0 triples for this entity\n",
      "Processed entity 1481/1482 [http://example.org/graphify/org/US_Department_of_State] and added 8 triples for this entity\n",
      "Processed entity 1482/1482 [http://example.org/graphify/org/Reuters_Rheinmetall_RHMGDE] and added 0 triples for this entity\n"
     ]
    },
    {
     "name": "stderr",
     "output_type": "stream",
     "text": [
      "2025-03-29 19:17:09,474 - src.knowledge_graph.augmentation - INFO - Saved knowledge graph to ./output/data/knowledge_graph_augmented.ttl with 134504 triples\n",
      "2025-03-29 19:17:09,508 - src.knowledge_graph.augmentation - INFO - Extracted 27233 entities from knowledge graph\n",
      "2025-03-29 19:17:09,563 - src.knowledge_graph.augmentation - INFO - Knowledge Graph Enrichment Statistics:\n",
      "2025-03-29 19:17:09,563 - src.knowledge_graph.augmentation - INFO - - Total entities: 27233\n",
      "2025-03-29 19:17:09,563 - src.knowledge_graph.augmentation - INFO - - Entity types: {'CARDINAL': 408, 'DATE': 473, 'EVENT': 3, 'FAC': 12, 'GPE': 300, 'LANGUAGE': 1, 'LAW': 11, 'LOC': 22, 'MISC': 148, 'MONEY': 115, 'NORP': 71, 'ORDINAL': 5, 'ORG': 962, 'PERCENT': 7, 'PERSON': 498, 'PRODUCT': 28, 'QUANTITY': 10, 'TIME': 19, 'WORK_OF_ART': 11, 'DBPEDIA': 24129}\n",
      "2025-03-29 19:17:09,563 - src.knowledge_graph.augmentation - INFO - - Linked entities: 24835 (91.19%)\n",
      "2025-03-29 19:17:09,571 - src.knowledge_graph.augmentation - INFO - - DBpedia links: 12803\n",
      "2025-03-29 19:17:09,571 - src.knowledge_graph.augmentation - INFO - - Wikidata links: 0\n",
      "2025-03-29 19:17:09,571 - src.knowledge_graph.augmentation - INFO - - Total triples: 134504\n"
     ]
    },
    {
     "name": "stdout",
     "output_type": "stream",
     "text": [
      "\n",
      "Augmentation complete!\n",
      "Original triples: 6625\n",
      "Added triples: 127879\n",
      "Total triples in augmented graph: 134504\n"
     ]
    }
   ],
   "source": [
    "# Enrich selected entities\n",
    "print(\"Enriching entities with DBpedia and Wikidata knowledge...\")\n",
    "for i, (entity_uri, entity_type) in enumerate(selected_entities):\n",
    "    added = augmenter.enrich_entity(\n",
    "        entity_uri,\n",
    "        use_dbpedia=True,\n",
    "        use_wikidata=False, # Doesn't work for some reason...\n",
    "        connection_depth=3\n",
    "    )\n",
    "    print(f\"Processed entity {i+1}/{len(selected_entities)} [{entity_uri}] and added {added} triples for this entity\")\n",
    "\n",
    "# Save the augmented knowledge graph\n",
    "augmenter.save_graph(augmented_kg_path)\n",
    "\n",
    "# Get statistics about the enrichment\n",
    "stats = augmenter.compute_enrichment_stats()\n",
    "\n",
    "print(f\"\\nAugmentation complete!\")\n",
    "print(f\"Original triples: {len(original_graph)}\")\n",
    "print(f\"Added triples: {stats['total_triples'] - len(original_graph)}\")\n",
    "print(f\"Total triples in augmented graph: {stats['total_triples']}\")"
   ]
  },
  {
   "cell_type": "markdown",
   "metadata": {},
   "source": [
    "## Visualizing"
   ]
  },
  {
   "cell_type": "code",
   "execution_count": 7,
   "metadata": {},
   "outputs": [
    {
     "name": "stdout",
     "output_type": "stream",
     "text": [
      "Warning: When  cdn_resources is 'local' jupyter notebook has issues displaying graphics on chrome/safari. Use cdn_resources='in_line' or cdn_resources='remote' if you have issues viewing graphics in a notebook.\n",
      "Visualization created at: ./output/visualization/knowledge_graph_augmented.html\n",
      "Nodes: 27233, Edges: 35436\n"
     ]
    }
   ],
   "source": [
    "from rdflib import Graph, URIRef, RDF, RDFS\n",
    "from src.knowledge_graph.builder import KnowledgeGraphBuilder\n",
    "import networkx as nx\n",
    "from pyvis.network import Network\n",
    "\n",
    "# Path to your augmented knowledge graph file\n",
    "augmented_kg_path = './output/data/knowledge_graph_augmented.ttl'\n",
    "\n",
    "# Load the graph\n",
    "g = Graph()\n",
    "g.parse(augmented_kg_path, format='turtle')\n",
    "\n",
    "# Extract entity types and labels\n",
    "entity_types = {}\n",
    "entity_labels = {}\n",
    "\n",
    "for s, p, o in g.triples((None, RDF.type, None)):\n",
    "    entity_types[str(s)] = str(o).split('/')[-1]\n",
    "\n",
    "for s, p, o in g.triples((None, RDFS.label, None)):\n",
    "    entity_labels[str(s)] = str(o)\n",
    "\n",
    "# Create a fresh NetworkX graph\n",
    "nx_graph = nx.DiGraph()\n",
    "\n",
    "# Add nodes with proper attributes\n",
    "for entity, entity_type in entity_types.items():\n",
    "    label = entity_labels.get(entity, entity.split('/')[-1])\n",
    "    nx_graph.add_node(entity, label=label, title=f\"{label} ({entity_type})\", type=entity_type)\n",
    "\n",
    "# Add edges without RDF.type predicates\n",
    "for s, p, o in g:\n",
    "    if p != RDF.type and p != RDFS.label:  # Skip type and label triples\n",
    "        s_str, p_str, o_str = str(s), str(p), str(o)\n",
    "        \n",
    "        # Only add edges between nodes that exist\n",
    "        if s_str in nx_graph and o_str in nx_graph:\n",
    "            # Get a shorter predicate name for display\n",
    "            p_label = p_str.split('/')[-1]\n",
    "            # Add edge with label and title\n",
    "            nx_graph.add_edge(s_str, o_str, label=p_label, title=p_label)\n",
    "\n",
    "# Create visualization with custom settings\n",
    "output_path = './output/visualization/knowledge_graph_augmented.html'\n",
    "\n",
    "# Create a PyVis network\n",
    "net = Network(notebook=True, directed=True, height=\"750px\", width=\"100%\")\n",
    "net.from_nx(nx_graph)\n",
    "\n",
    "# Map entity types to colors\n",
    "color_map = {\n",
    "    'PERSON': '#a8e6cf',\n",
    "    'ORG': '#ff8b94',\n",
    "    'GPE': '#ffd3b6',\n",
    "    'LOC': '#dcedc1',\n",
    "    'DATE': '#f9f9f9',\n",
    "    'MISC': '#d4a5a5'\n",
    "}\n",
    "\n",
    "# Update node colors and sizes\n",
    "for node in net.nodes:\n",
    "    # Set color based on type\n",
    "    node_type = node.get('type', 'Unknown')\n",
    "    node['color'] = color_map.get(node_type, '#b3b3cc')\n",
    "    \n",
    "    # Set size based on node importance\n",
    "    node['size'] = 15\n",
    "    \n",
    "    # Use shortened labels for display\n",
    "    if 'label' in node:\n",
    "        if len(node['label']) > 20:\n",
    "            node['label'] = node['label'][:17] + '...'\n",
    "\n",
    "# Save the visualization\n",
    "net.save_graph(output_path)\n",
    "print(f\"Visualization created at: {output_path}\")\n",
    "print(f\"Nodes: {len(nx_graph.nodes)}, Edges: {len(nx_graph.edges)}\")"
   ]
  },
  {
   "cell_type": "markdown",
   "metadata": {},
   "source": [
    "## 3. Knowledge Graph Embedding\n",
    "\n",
    "Now, let's create embeddings for our augmented knowledge graph using different models."
   ]
  },
  {
   "cell_type": "code",
   "execution_count": 8,
   "metadata": {},
   "outputs": [
    {
     "name": "stdout",
     "output_type": "stream",
     "text": [
      "Preprocessing: Removing Isolated Nodes\n",
      "Original knowledge graph: 134504 triples, 27233 entities\n",
      "Found 0 isolated nodes and 50892 connected nodes\n",
      "Filtered knowledge graph: 129928 triples, 25041 entities\n",
      "Removed 4576 triples and 2192 entities\n",
      "Saved filtered knowledge graph to ./output/data/knowledge_graph_filtered.ttl\n",
      "Warning: When  cdn_resources is 'local' jupyter notebook has issues displaying graphics on chrome/safari. Use cdn_resources='in_line' or cdn_resources='remote' if you have issues viewing graphics in a notebook.\n",
      "Visualization created at: ./output/visualization/knowledge_graph_filtered.html\n",
      "Nodes: 25041, Edges: 35436\n"
     ]
    }
   ],
   "source": [
    "print(\"Preprocessing: Removing Isolated Nodes\")\n",
    "\n",
    "from rdflib import Graph, RDF, RDFS, URIRef\n",
    "import networkx as nx\n",
    "\n",
    "# Load the augmented knowledge graph\n",
    "kg_graph = Graph()\n",
    "kg_graph.parse(augmented_kg_path, format='turtle')\n",
    "\n",
    "# Count original triples and entities\n",
    "original_triple_count = len(kg_graph)\n",
    "original_entity_count = len({s for s, p, o in kg_graph.triples((None, RDF.type, None))})\n",
    "\n",
    "print(f\"Original knowledge graph: {original_triple_count} triples, {original_entity_count} entities\")\n",
    "\n",
    "# Create a NetworkX graph to find connected components\n",
    "nx_graph = nx.Graph()\n",
    "\n",
    "# Add edges for all non-RDF.type and non-RDFS.label predicates\n",
    "# These predicates represent actual relationships between entities\n",
    "for s, p, o in kg_graph:\n",
    "    if p != RDF.type and p != RDFS.label and isinstance(s, URIRef) and isinstance(o, URIRef):\n",
    "        nx_graph.add_edge(str(s), str(o))\n",
    "\n",
    "# Get degree of each node\n",
    "node_degrees = dict(nx_graph.degree())\n",
    "isolated_nodes = [node for node, degree in node_degrees.items() if degree == 0]\n",
    "connected_nodes = [node for node, degree in node_degrees.items() if degree > 0]\n",
    "\n",
    "print(f\"Found {len(isolated_nodes)} isolated nodes and {len(connected_nodes)} connected nodes\")\n",
    "\n",
    "# Create a new graph with only connected nodes\n",
    "filtered_graph = Graph()\n",
    "\n",
    "# Copy namespace bindings\n",
    "for prefix, namespace in kg_graph.namespaces():\n",
    "    filtered_graph.bind(prefix, namespace)\n",
    "\n",
    "# Add triples where both subject and object are in connected nodes\n",
    "# or one is in connected nodes and the other is a literal\n",
    "for s, p, o in kg_graph:\n",
    "    s_str = str(s)\n",
    "    o_str = str(o)\n",
    "    \n",
    "    # Always include type and label information for connected nodes\n",
    "    if (p == RDF.type or p == RDFS.label) and s_str in connected_nodes:\n",
    "        filtered_graph.add((s, p, o))\n",
    "    # Include relationship triples between connected nodes\n",
    "    elif isinstance(s, URIRef) and isinstance(o, URIRef) and s_str in connected_nodes and o_str in connected_nodes:\n",
    "        filtered_graph.add((s, p, o))\n",
    "    # Include literal properties of connected nodes\n",
    "    elif s_str in connected_nodes and not isinstance(o, URIRef):\n",
    "        filtered_graph.add((s, p, o))\n",
    "\n",
    "# Save the filtered graph\n",
    "filtered_kg_path = './output/data/knowledge_graph_filtered.ttl'\n",
    "filtered_graph.serialize(destination=filtered_kg_path, format='turtle')\n",
    "\n",
    "# Count filtered triples and entities\n",
    "filtered_triple_count = len(filtered_graph)\n",
    "filtered_entity_count = len({s for s, p, o in filtered_graph.triples((None, RDF.type, None))})\n",
    "\n",
    "print(f\"Filtered knowledge graph: {filtered_triple_count} triples, {filtered_entity_count} entities\")\n",
    "print(f\"Removed {original_triple_count - filtered_triple_count} triples and {original_entity_count - filtered_entity_count} entities\")\n",
    "print(f\"Saved filtered knowledge graph to {filtered_kg_path}\")\n",
    "\n",
    "# Update the path to use the filtered graph for embeddings\n",
    "augmented_kg_path = filtered_kg_path\n",
    "\n",
    "\n",
    "# Create visualization with custom settings\n",
    "output_path = './output/visualization/knowledge_graph_filtered.html'\n",
    "\n",
    "# Extract entity types and labels from the filtered graph\n",
    "entity_types = {}\n",
    "for s, p, o in filtered_graph.triples((None, RDF.type, None)):\n",
    "   entity_types[str(s)] = str(o).split('/')[-1]\n",
    "\n",
    "entity_labels = {}\n",
    "for s, p, o in filtered_graph.triples((None, RDFS.label, None)):\n",
    "   entity_labels[str(s)] = str(o)\n",
    "\n",
    "# Create a fresh NetworkX graph with proper node attributes\n",
    "vis_graph = nx.DiGraph()\n",
    "\n",
    "# Add nodes with type and label information\n",
    "for entity, entity_type in entity_types.items():\n",
    "   label = entity_labels.get(entity, entity.split('/')[-1])\n",
    "   vis_graph.add_node(entity, label=label, title=f\"{label} ({entity_type})\", type=entity_type)\n",
    "\n",
    "# Add edges with proper labels\n",
    "for s, p, o in filtered_graph:\n",
    "   if p != RDF.type and p != RDFS.label and isinstance(s, URIRef) and isinstance(o, URIRef):\n",
    "       s_str = str(s)\n",
    "       o_str = str(o)\n",
    "       \n",
    "       # Get a readable predicate name\n",
    "       p_label = str(p).split('/')[-1]\n",
    "       \n",
    "       # Only add if both nodes exist\n",
    "       if s_str in vis_graph and o_str in vis_graph:\n",
    "           vis_graph.add_edge(s_str, o_str, label=p_label, title=p_label)\n",
    "\n",
    "# Create a PyVis network\n",
    "net = Network(notebook=True, directed=True, height=\"750px\", width=\"100%\")\n",
    "net.from_nx(vis_graph)\n",
    "\n",
    "# Map entity types to colors\n",
    "color_map = {\n",
    "   'PERSON': '#a8e6cf',\n",
    "   'ORG': '#ff8b94',\n",
    "   'GPE': '#ffd3b6',\n",
    "   'LOC': '#dcedc1',\n",
    "   'DATE': '#f9f9f9',\n",
    "   'MISC': '#d4a5a5',\n",
    "   'DBPEDIA': '#b19cd9',\n",
    "   'WIKIDATA': '#ffd700'\n",
    "}\n",
    "\n",
    "# Update node colors and sizes\n",
    "for node in net.nodes:\n",
    "   # Set color based on type\n",
    "   node_type = node.get('type', 'Unknown')\n",
    "   node['color'] = color_map.get(node_type, '#b3b3cc')\n",
    "   \n",
    "   # Set size based on node importance\n",
    "   node['size'] = 15\n",
    "   \n",
    "   # Use shortened labels for display\n",
    "   if 'label' in node:\n",
    "       if len(node['label']) > 20:\n",
    "           node['label'] = node['label'][:17] + '...'\n",
    "\n",
    "# Configure physics for better layout\n",
    "net.set_options(\"\"\"\n",
    "{\n",
    " \"physics\": {\n",
    "   \"barnesHut\": {\n",
    "     \"gravitationalConstant\": -2000,\n",
    "     \"centralGravity\": 0.1,\n",
    "     \"springLength\": 95,\n",
    "     \"springConstant\": 0.04\n",
    "   },\n",
    "   \"maxVelocity\": 50,\n",
    "   \"minVelocity\": 0.75,\n",
    "   \"solver\": \"barnesHut\",\n",
    "   \"timestep\": 0.5\n",
    " },\n",
    " \"edges\": {\n",
    "   \"color\": {\n",
    "     \"inherit\": true\n",
    "   },\n",
    "   \"smooth\": {\n",
    "     \"enabled\": true,\n",
    "     \"type\": \"dynamic\"\n",
    "   },\n",
    "   \"arrows\": {\n",
    "     \"to\": {\n",
    "       \"enabled\": true,\n",
    "       \"scaleFactor\": 0.5\n",
    "     }\n",
    "   },\n",
    "   \"font\": {\n",
    "     \"size\": 8\n",
    "   }\n",
    " },\n",
    " \"nodes\": {\n",
    "   \"font\": {\n",
    "     \"size\": 12\n",
    "   }\n",
    " }\n",
    "}\n",
    "\"\"\")\n",
    "\n",
    "# Save the visualization\n",
    "net.save_graph(output_path)\n",
    "print(f\"Visualization created at: {output_path}\")\n",
    "print(f\"Nodes: {len(vis_graph.nodes)}, Edges: {len(vis_graph.edges)}\")"
   ]
  },
  {
   "cell_type": "code",
   "execution_count": 9,
   "metadata": {},
   "outputs": [
    {
     "name": "stderr",
     "output_type": "stream",
     "text": [
      "2025-03-29 19:45:36,706 - src.knowledge_graph.embeddings - INFO - Initialized knowledge graph embedder with namespace: http://example.org/graphify/\n",
      "2025-03-29 19:45:40,901 - src.knowledge_graph.embeddings - INFO - Loaded knowledge graph from ./output/data/knowledge_graph_filtered.ttl\n",
      "2025-03-29 19:45:41,211 - src.knowledge_graph.embeddings - INFO - Extracted 93126 triples with 50905 entities and 1362 relations\n",
      "2025-03-29 19:45:41,263 - src.knowledge_graph.embeddings - INFO - Split dataset: 74500 training, 9312 validation, 9314 testing\n"
     ]
    },
    {
     "name": "stdout",
     "output_type": "stream",
     "text": [
      "Split dataset:\n",
      "- Training: 74500 triples\n",
      "- Validation: 9312 triples\n",
      "- Testing: 9314 triples\n"
     ]
    }
   ],
   "source": [
    "# Create an embedder\n",
    "embedder = KnowledgeGraphEmbedder(namespace=\"http://example.org/graphify/\")\n",
    "\n",
    "# Load the augmented knowledge graph\n",
    "embedder.load_from_rdf(augmented_kg_path)\n",
    "\n",
    "# Split the dataset into training, validation, and test sets\n",
    "training, validation, testing = embedder.split_dataset(train_ratio=0.8, validation_ratio=0.1, test_ratio=0.1)\n",
    "\n",
    "print(f\"Split dataset:\")\n",
    "print(f\"- Training: {training.num_triples} triples\")\n",
    "print(f\"- Validation: {validation.num_triples} triples\")\n",
    "print(f\"- Testing: {testing.num_triples} triples\")"
   ]
  },
  {
   "cell_type": "code",
   "execution_count": 10,
   "metadata": {},
   "outputs": [
    {
     "name": "stderr",
     "output_type": "stream",
     "text": [
      "2025-03-29 19:45:41,414 - src.knowledge_graph.embeddings - INFO - Training TransE with 50 dimensions for 100 epochs\n",
      "2025-03-29 19:45:41,470 - pykeen.utils - WARNING - No cuda devices were available. The model runs on CPU\n"
     ]
    },
    {
     "name": "stdout",
     "output_type": "stream",
     "text": [
      "Training TransE model...\n"
     ]
    },
    {
     "name": "stderr",
     "output_type": "stream",
     "text": [
      "2025-03-29 19:45:41,470 - pykeen.pipeline.api - INFO - Using device: None\n"
     ]
    },
    {
     "data": {
      "application/vnd.jupyter.widget-view+json": {
       "model_id": "79b48640828f4beaacd6f66e9c1f23a6",
       "version_major": 2,
       "version_minor": 0
      },
      "text/plain": [
       "Training epochs on cpu:   0%|          | 0/100 [00:00<?, ?epoch/s]"
      ]
     },
     "metadata": {},
     "output_type": "display_data"
    },
    {
     "data": {
      "application/vnd.jupyter.widget-view+json": {
       "model_id": "e6203d83c19444d7a90854426678b91f",
       "version_major": 2,
       "version_minor": 0
      },
      "text/plain": [
       "Training batches on cpu:   0%|          | 0/292 [00:00<?, ?batch/s]"
      ]
     },
     "metadata": {},
     "output_type": "display_data"
    },
    {
     "data": {
      "application/vnd.jupyter.widget-view+json": {
       "model_id": "bab729de3f744100868645c6b4617ceb",
       "version_major": 2,
       "version_minor": 0
      },
      "text/plain": [
       "Training batches on cpu:   0%|          | 0/292 [00:00<?, ?batch/s]"
      ]
     },
     "metadata": {},
     "output_type": "display_data"
    },
    {
     "data": {
      "application/vnd.jupyter.widget-view+json": {
       "model_id": "00a62fabd0ee4f78bced21edf8ebe579",
       "version_major": 2,
       "version_minor": 0
      },
      "text/plain": [
       "Training batches on cpu:   0%|          | 0/292 [00:00<?, ?batch/s]"
      ]
     },
     "metadata": {},
     "output_type": "display_data"
    },
    {
     "data": {
      "application/vnd.jupyter.widget-view+json": {
       "model_id": "5a8dfd5763b14228b5f0b86b9000cf0e",
       "version_major": 2,
       "version_minor": 0
      },
      "text/plain": [
       "Training batches on cpu:   0%|          | 0/292 [00:00<?, ?batch/s]"
      ]
     },
     "metadata": {},
     "output_type": "display_data"
    },
    {
     "data": {
      "application/vnd.jupyter.widget-view+json": {
       "model_id": "53039fa3c7fe42e0993928f85d470c95",
       "version_major": 2,
       "version_minor": 0
      },
      "text/plain": [
       "Training batches on cpu:   0%|          | 0/292 [00:00<?, ?batch/s]"
      ]
     },
     "metadata": {},
     "output_type": "display_data"
    },
    {
     "data": {
      "application/vnd.jupyter.widget-view+json": {
       "model_id": "24a3efdbf28f4aab81904b9f0aa10996",
       "version_major": 2,
       "version_minor": 0
      },
      "text/plain": [
       "Training batches on cpu:   0%|          | 0/292 [00:00<?, ?batch/s]"
      ]
     },
     "metadata": {},
     "output_type": "display_data"
    },
    {
     "data": {
      "application/vnd.jupyter.widget-view+json": {
       "model_id": "f1bb531e0f1e43a8b18de94fd7062035",
       "version_major": 2,
       "version_minor": 0
      },
      "text/plain": [
       "Training batches on cpu:   0%|          | 0/292 [00:00<?, ?batch/s]"
      ]
     },
     "metadata": {},
     "output_type": "display_data"
    },
    {
     "data": {
      "application/vnd.jupyter.widget-view+json": {
       "model_id": "e8896977326b4d8aa1b0f73916cefb5d",
       "version_major": 2,
       "version_minor": 0
      },
      "text/plain": [
       "Training batches on cpu:   0%|          | 0/292 [00:00<?, ?batch/s]"
      ]
     },
     "metadata": {},
     "output_type": "display_data"
    },
    {
     "data": {
      "application/vnd.jupyter.widget-view+json": {
       "model_id": "6ccdfb58773e467db4593669106d5904",
       "version_major": 2,
       "version_minor": 0
      },
      "text/plain": [
       "Training batches on cpu:   0%|          | 0/292 [00:00<?, ?batch/s]"
      ]
     },
     "metadata": {},
     "output_type": "display_data"
    },
    {
     "data": {
      "application/vnd.jupyter.widget-view+json": {
       "model_id": "d3f699ee8d864859a6f152785785e5c6",
       "version_major": 2,
       "version_minor": 0
      },
      "text/plain": [
       "Training batches on cpu:   0%|          | 0/292 [00:00<?, ?batch/s]"
      ]
     },
     "metadata": {},
     "output_type": "display_data"
    },
    {
     "data": {
      "application/vnd.jupyter.widget-view+json": {
       "model_id": "3bfa1e30532e44feaa90a0b75d2597a8",
       "version_major": 2,
       "version_minor": 0
      },
      "text/plain": [
       "Training batches on cpu:   0%|          | 0/292 [00:00<?, ?batch/s]"
      ]
     },
     "metadata": {},
     "output_type": "display_data"
    },
    {
     "data": {
      "application/vnd.jupyter.widget-view+json": {
       "model_id": "d0e720629df14e199f1494a6a1115441",
       "version_major": 2,
       "version_minor": 0
      },
      "text/plain": [
       "Training batches on cpu:   0%|          | 0/292 [00:00<?, ?batch/s]"
      ]
     },
     "metadata": {},
     "output_type": "display_data"
    },
    {
     "data": {
      "application/vnd.jupyter.widget-view+json": {
       "model_id": "63f209be590142799be280d6487f198b",
       "version_major": 2,
       "version_minor": 0
      },
      "text/plain": [
       "Training batches on cpu:   0%|          | 0/292 [00:00<?, ?batch/s]"
      ]
     },
     "metadata": {},
     "output_type": "display_data"
    },
    {
     "data": {
      "application/vnd.jupyter.widget-view+json": {
       "model_id": "7f578a02edd54ac1ac3eeb44ac593002",
       "version_major": 2,
       "version_minor": 0
      },
      "text/plain": [
       "Training batches on cpu:   0%|          | 0/292 [00:00<?, ?batch/s]"
      ]
     },
     "metadata": {},
     "output_type": "display_data"
    },
    {
     "data": {
      "application/vnd.jupyter.widget-view+json": {
       "model_id": "cea59a673b684d61b863ad731cda232a",
       "version_major": 2,
       "version_minor": 0
      },
      "text/plain": [
       "Training batches on cpu:   0%|          | 0/292 [00:00<?, ?batch/s]"
      ]
     },
     "metadata": {},
     "output_type": "display_data"
    },
    {
     "data": {
      "application/vnd.jupyter.widget-view+json": {
       "model_id": "25232e14adae421ab70d4bdee8fa85c8",
       "version_major": 2,
       "version_minor": 0
      },
      "text/plain": [
       "Training batches on cpu:   0%|          | 0/292 [00:00<?, ?batch/s]"
      ]
     },
     "metadata": {},
     "output_type": "display_data"
    },
    {
     "data": {
      "application/vnd.jupyter.widget-view+json": {
       "model_id": "284f6fdf14ee4eeb8adceee5d9ea19e6",
       "version_major": 2,
       "version_minor": 0
      },
      "text/plain": [
       "Training batches on cpu:   0%|          | 0/292 [00:00<?, ?batch/s]"
      ]
     },
     "metadata": {},
     "output_type": "display_data"
    },
    {
     "data": {
      "application/vnd.jupyter.widget-view+json": {
       "model_id": "13382c8357804c88b8e817d69b033b0a",
       "version_major": 2,
       "version_minor": 0
      },
      "text/plain": [
       "Training batches on cpu:   0%|          | 0/292 [00:00<?, ?batch/s]"
      ]
     },
     "metadata": {},
     "output_type": "display_data"
    },
    {
     "data": {
      "application/vnd.jupyter.widget-view+json": {
       "model_id": "850d791d4f8b4e99889d0bc9da2f1f4f",
       "version_major": 2,
       "version_minor": 0
      },
      "text/plain": [
       "Training batches on cpu:   0%|          | 0/292 [00:00<?, ?batch/s]"
      ]
     },
     "metadata": {},
     "output_type": "display_data"
    },
    {
     "data": {
      "application/vnd.jupyter.widget-view+json": {
       "model_id": "81636c6673e34c40be1c58eca3aead57",
       "version_major": 2,
       "version_minor": 0
      },
      "text/plain": [
       "Training batches on cpu:   0%|          | 0/292 [00:00<?, ?batch/s]"
      ]
     },
     "metadata": {},
     "output_type": "display_data"
    },
    {
     "data": {
      "application/vnd.jupyter.widget-view+json": {
       "model_id": "819cd44a558949e59798eb66be207f7b",
       "version_major": 2,
       "version_minor": 0
      },
      "text/plain": [
       "Training batches on cpu:   0%|          | 0/292 [00:00<?, ?batch/s]"
      ]
     },
     "metadata": {},
     "output_type": "display_data"
    },
    {
     "data": {
      "application/vnd.jupyter.widget-view+json": {
       "model_id": "6383808b8be34e51b0413bdf5529a28a",
       "version_major": 2,
       "version_minor": 0
      },
      "text/plain": [
       "Training batches on cpu:   0%|          | 0/292 [00:00<?, ?batch/s]"
      ]
     },
     "metadata": {},
     "output_type": "display_data"
    },
    {
     "data": {
      "application/vnd.jupyter.widget-view+json": {
       "model_id": "79f8dbaaccb24641b4e4780504b2811a",
       "version_major": 2,
       "version_minor": 0
      },
      "text/plain": [
       "Training batches on cpu:   0%|          | 0/292 [00:00<?, ?batch/s]"
      ]
     },
     "metadata": {},
     "output_type": "display_data"
    },
    {
     "data": {
      "application/vnd.jupyter.widget-view+json": {
       "model_id": "9e017a7fb35f460993b3d910b694419b",
       "version_major": 2,
       "version_minor": 0
      },
      "text/plain": [
       "Training batches on cpu:   0%|          | 0/292 [00:00<?, ?batch/s]"
      ]
     },
     "metadata": {},
     "output_type": "display_data"
    },
    {
     "data": {
      "application/vnd.jupyter.widget-view+json": {
       "model_id": "fabc8177169749b8b5d9e113f83a96ad",
       "version_major": 2,
       "version_minor": 0
      },
      "text/plain": [
       "Training batches on cpu:   0%|          | 0/292 [00:00<?, ?batch/s]"
      ]
     },
     "metadata": {},
     "output_type": "display_data"
    },
    {
     "data": {
      "application/vnd.jupyter.widget-view+json": {
       "model_id": "24b3a8ae04ba40ce99892acbe52f6fe9",
       "version_major": 2,
       "version_minor": 0
      },
      "text/plain": [
       "Training batches on cpu:   0%|          | 0/292 [00:00<?, ?batch/s]"
      ]
     },
     "metadata": {},
     "output_type": "display_data"
    },
    {
     "data": {
      "application/vnd.jupyter.widget-view+json": {
       "model_id": "836bebf897bb49c7b832303b48c12963",
       "version_major": 2,
       "version_minor": 0
      },
      "text/plain": [
       "Training batches on cpu:   0%|          | 0/292 [00:00<?, ?batch/s]"
      ]
     },
     "metadata": {},
     "output_type": "display_data"
    },
    {
     "data": {
      "application/vnd.jupyter.widget-view+json": {
       "model_id": "c5632176f5794e53a9b0a35e4d6952df",
       "version_major": 2,
       "version_minor": 0
      },
      "text/plain": [
       "Training batches on cpu:   0%|          | 0/292 [00:00<?, ?batch/s]"
      ]
     },
     "metadata": {},
     "output_type": "display_data"
    },
    {
     "data": {
      "application/vnd.jupyter.widget-view+json": {
       "model_id": "8e9651e884bf4f56947e0a03feb96551",
       "version_major": 2,
       "version_minor": 0
      },
      "text/plain": [
       "Training batches on cpu:   0%|          | 0/292 [00:00<?, ?batch/s]"
      ]
     },
     "metadata": {},
     "output_type": "display_data"
    },
    {
     "data": {
      "application/vnd.jupyter.widget-view+json": {
       "model_id": "07456ca08e3141ce8ee609feb0c8cb14",
       "version_major": 2,
       "version_minor": 0
      },
      "text/plain": [
       "Training batches on cpu:   0%|          | 0/292 [00:00<?, ?batch/s]"
      ]
     },
     "metadata": {},
     "output_type": "display_data"
    },
    {
     "data": {
      "application/vnd.jupyter.widget-view+json": {
       "model_id": "88d9dd3a087a4ca5b5a3053220a5b48c",
       "version_major": 2,
       "version_minor": 0
      },
      "text/plain": [
       "Training batches on cpu:   0%|          | 0/292 [00:00<?, ?batch/s]"
      ]
     },
     "metadata": {},
     "output_type": "display_data"
    },
    {
     "data": {
      "application/vnd.jupyter.widget-view+json": {
       "model_id": "db11e89ea1904aada4aadd6b7c4d8fcd",
       "version_major": 2,
       "version_minor": 0
      },
      "text/plain": [
       "Training batches on cpu:   0%|          | 0/292 [00:00<?, ?batch/s]"
      ]
     },
     "metadata": {},
     "output_type": "display_data"
    },
    {
     "data": {
      "application/vnd.jupyter.widget-view+json": {
       "model_id": "10d571b9120f4e3eaa8ed929735c978f",
       "version_major": 2,
       "version_minor": 0
      },
      "text/plain": [
       "Training batches on cpu:   0%|          | 0/292 [00:00<?, ?batch/s]"
      ]
     },
     "metadata": {},
     "output_type": "display_data"
    },
    {
     "data": {
      "application/vnd.jupyter.widget-view+json": {
       "model_id": "98a05f8d422c4eae8f18b5bf9eea3662",
       "version_major": 2,
       "version_minor": 0
      },
      "text/plain": [
       "Training batches on cpu:   0%|          | 0/292 [00:00<?, ?batch/s]"
      ]
     },
     "metadata": {},
     "output_type": "display_data"
    },
    {
     "data": {
      "application/vnd.jupyter.widget-view+json": {
       "model_id": "974c0d414f2240e8842c5a5cb3351ff0",
       "version_major": 2,
       "version_minor": 0
      },
      "text/plain": [
       "Training batches on cpu:   0%|          | 0/292 [00:00<?, ?batch/s]"
      ]
     },
     "metadata": {},
     "output_type": "display_data"
    },
    {
     "data": {
      "application/vnd.jupyter.widget-view+json": {
       "model_id": "8c5790d486a343d7a4557643959d89c6",
       "version_major": 2,
       "version_minor": 0
      },
      "text/plain": [
       "Training batches on cpu:   0%|          | 0/292 [00:00<?, ?batch/s]"
      ]
     },
     "metadata": {},
     "output_type": "display_data"
    },
    {
     "data": {
      "application/vnd.jupyter.widget-view+json": {
       "model_id": "b3d6fc2741bb4e728d94366e8effbd97",
       "version_major": 2,
       "version_minor": 0
      },
      "text/plain": [
       "Training batches on cpu:   0%|          | 0/292 [00:00<?, ?batch/s]"
      ]
     },
     "metadata": {},
     "output_type": "display_data"
    },
    {
     "data": {
      "application/vnd.jupyter.widget-view+json": {
       "model_id": "1f89222af48243d2800465397a04a9db",
       "version_major": 2,
       "version_minor": 0
      },
      "text/plain": [
       "Training batches on cpu:   0%|          | 0/292 [00:00<?, ?batch/s]"
      ]
     },
     "metadata": {},
     "output_type": "display_data"
    },
    {
     "data": {
      "application/vnd.jupyter.widget-view+json": {
       "model_id": "3de690fed8a540f79bde0ae7c99039d8",
       "version_major": 2,
       "version_minor": 0
      },
      "text/plain": [
       "Training batches on cpu:   0%|          | 0/292 [00:00<?, ?batch/s]"
      ]
     },
     "metadata": {},
     "output_type": "display_data"
    },
    {
     "data": {
      "application/vnd.jupyter.widget-view+json": {
       "model_id": "e3db85ee813c4426be42024f85e42338",
       "version_major": 2,
       "version_minor": 0
      },
      "text/plain": [
       "Training batches on cpu:   0%|          | 0/292 [00:00<?, ?batch/s]"
      ]
     },
     "metadata": {},
     "output_type": "display_data"
    },
    {
     "data": {
      "application/vnd.jupyter.widget-view+json": {
       "model_id": "95245756509741a59a0c9ebfa194a05d",
       "version_major": 2,
       "version_minor": 0
      },
      "text/plain": [
       "Training batches on cpu:   0%|          | 0/292 [00:00<?, ?batch/s]"
      ]
     },
     "metadata": {},
     "output_type": "display_data"
    },
    {
     "data": {
      "application/vnd.jupyter.widget-view+json": {
       "model_id": "64a9a5dfeab24fe3852c069816903644",
       "version_major": 2,
       "version_minor": 0
      },
      "text/plain": [
       "Training batches on cpu:   0%|          | 0/292 [00:00<?, ?batch/s]"
      ]
     },
     "metadata": {},
     "output_type": "display_data"
    },
    {
     "data": {
      "application/vnd.jupyter.widget-view+json": {
       "model_id": "7944d7283ede405eaceb6d6fbfa6202c",
       "version_major": 2,
       "version_minor": 0
      },
      "text/plain": [
       "Training batches on cpu:   0%|          | 0/292 [00:00<?, ?batch/s]"
      ]
     },
     "metadata": {},
     "output_type": "display_data"
    },
    {
     "data": {
      "application/vnd.jupyter.widget-view+json": {
       "model_id": "0ad6ae7fae954066838d5570f8fa872b",
       "version_major": 2,
       "version_minor": 0
      },
      "text/plain": [
       "Training batches on cpu:   0%|          | 0/292 [00:00<?, ?batch/s]"
      ]
     },
     "metadata": {},
     "output_type": "display_data"
    },
    {
     "data": {
      "application/vnd.jupyter.widget-view+json": {
       "model_id": "b31f649a24ae40c387f58640eedf5871",
       "version_major": 2,
       "version_minor": 0
      },
      "text/plain": [
       "Training batches on cpu:   0%|          | 0/292 [00:00<?, ?batch/s]"
      ]
     },
     "metadata": {},
     "output_type": "display_data"
    },
    {
     "data": {
      "application/vnd.jupyter.widget-view+json": {
       "model_id": "28c6e0a3e5f84e8198f70777c1f0010c",
       "version_major": 2,
       "version_minor": 0
      },
      "text/plain": [
       "Training batches on cpu:   0%|          | 0/292 [00:00<?, ?batch/s]"
      ]
     },
     "metadata": {},
     "output_type": "display_data"
    },
    {
     "data": {
      "application/vnd.jupyter.widget-view+json": {
       "model_id": "4f96cbd3741540e99e0c7007c7e8997e",
       "version_major": 2,
       "version_minor": 0
      },
      "text/plain": [
       "Training batches on cpu:   0%|          | 0/292 [00:00<?, ?batch/s]"
      ]
     },
     "metadata": {},
     "output_type": "display_data"
    },
    {
     "data": {
      "application/vnd.jupyter.widget-view+json": {
       "model_id": "9e703401452e4c1ea1779bb6ba51b5d8",
       "version_major": 2,
       "version_minor": 0
      },
      "text/plain": [
       "Training batches on cpu:   0%|          | 0/292 [00:00<?, ?batch/s]"
      ]
     },
     "metadata": {},
     "output_type": "display_data"
    },
    {
     "data": {
      "application/vnd.jupyter.widget-view+json": {
       "model_id": "e66925a114df400e8fc387b20f4332f0",
       "version_major": 2,
       "version_minor": 0
      },
      "text/plain": [
       "Training batches on cpu:   0%|          | 0/292 [00:00<?, ?batch/s]"
      ]
     },
     "metadata": {},
     "output_type": "display_data"
    },
    {
     "data": {
      "application/vnd.jupyter.widget-view+json": {
       "model_id": "222dd604e28841828eded606b2668c63",
       "version_major": 2,
       "version_minor": 0
      },
      "text/plain": [
       "Training batches on cpu:   0%|          | 0/292 [00:00<?, ?batch/s]"
      ]
     },
     "metadata": {},
     "output_type": "display_data"
    },
    {
     "data": {
      "application/vnd.jupyter.widget-view+json": {
       "model_id": "e0e12207ac6549a19ed5ddf7fd92c781",
       "version_major": 2,
       "version_minor": 0
      },
      "text/plain": [
       "Training batches on cpu:   0%|          | 0/292 [00:00<?, ?batch/s]"
      ]
     },
     "metadata": {},
     "output_type": "display_data"
    },
    {
     "data": {
      "application/vnd.jupyter.widget-view+json": {
       "model_id": "cfc5028bb432410c858b08f45e3ec469",
       "version_major": 2,
       "version_minor": 0
      },
      "text/plain": [
       "Training batches on cpu:   0%|          | 0/292 [00:00<?, ?batch/s]"
      ]
     },
     "metadata": {},
     "output_type": "display_data"
    },
    {
     "data": {
      "application/vnd.jupyter.widget-view+json": {
       "model_id": "1af4a7a8dc3a4bc9a790ba9ced311743",
       "version_major": 2,
       "version_minor": 0
      },
      "text/plain": [
       "Training batches on cpu:   0%|          | 0/292 [00:00<?, ?batch/s]"
      ]
     },
     "metadata": {},
     "output_type": "display_data"
    },
    {
     "data": {
      "application/vnd.jupyter.widget-view+json": {
       "model_id": "6a4941f9a33f4dfaa899e5f15188a240",
       "version_major": 2,
       "version_minor": 0
      },
      "text/plain": [
       "Training batches on cpu:   0%|          | 0/292 [00:00<?, ?batch/s]"
      ]
     },
     "metadata": {},
     "output_type": "display_data"
    },
    {
     "data": {
      "application/vnd.jupyter.widget-view+json": {
       "model_id": "7ae7c2939c084a1e9e8103f416198f3f",
       "version_major": 2,
       "version_minor": 0
      },
      "text/plain": [
       "Training batches on cpu:   0%|          | 0/292 [00:00<?, ?batch/s]"
      ]
     },
     "metadata": {},
     "output_type": "display_data"
    },
    {
     "data": {
      "application/vnd.jupyter.widget-view+json": {
       "model_id": "4d38912e11f646bd81bf51123f6af07f",
       "version_major": 2,
       "version_minor": 0
      },
      "text/plain": [
       "Training batches on cpu:   0%|          | 0/292 [00:00<?, ?batch/s]"
      ]
     },
     "metadata": {},
     "output_type": "display_data"
    },
    {
     "data": {
      "application/vnd.jupyter.widget-view+json": {
       "model_id": "dfc3a80c75e24fe79094185118f63cd4",
       "version_major": 2,
       "version_minor": 0
      },
      "text/plain": [
       "Training batches on cpu:   0%|          | 0/292 [00:00<?, ?batch/s]"
      ]
     },
     "metadata": {},
     "output_type": "display_data"
    },
    {
     "data": {
      "application/vnd.jupyter.widget-view+json": {
       "model_id": "609d6dca88ca47efb30ac09a598a7a67",
       "version_major": 2,
       "version_minor": 0
      },
      "text/plain": [
       "Training batches on cpu:   0%|          | 0/292 [00:00<?, ?batch/s]"
      ]
     },
     "metadata": {},
     "output_type": "display_data"
    },
    {
     "data": {
      "application/vnd.jupyter.widget-view+json": {
       "model_id": "a5c6278fc4cb4519b8fc6f061182ac84",
       "version_major": 2,
       "version_minor": 0
      },
      "text/plain": [
       "Training batches on cpu:   0%|          | 0/292 [00:00<?, ?batch/s]"
      ]
     },
     "metadata": {},
     "output_type": "display_data"
    },
    {
     "data": {
      "application/vnd.jupyter.widget-view+json": {
       "model_id": "6984da7f9e324069bbe1ef09a295a0ae",
       "version_major": 2,
       "version_minor": 0
      },
      "text/plain": [
       "Training batches on cpu:   0%|          | 0/292 [00:00<?, ?batch/s]"
      ]
     },
     "metadata": {},
     "output_type": "display_data"
    },
    {
     "data": {
      "application/vnd.jupyter.widget-view+json": {
       "model_id": "c64da70eacf747648689a353807b9f15",
       "version_major": 2,
       "version_minor": 0
      },
      "text/plain": [
       "Training batches on cpu:   0%|          | 0/292 [00:00<?, ?batch/s]"
      ]
     },
     "metadata": {},
     "output_type": "display_data"
    },
    {
     "data": {
      "application/vnd.jupyter.widget-view+json": {
       "model_id": "f3924bd9e79941e6ae98819214459112",
       "version_major": 2,
       "version_minor": 0
      },
      "text/plain": [
       "Training batches on cpu:   0%|          | 0/292 [00:00<?, ?batch/s]"
      ]
     },
     "metadata": {},
     "output_type": "display_data"
    },
    {
     "data": {
      "application/vnd.jupyter.widget-view+json": {
       "model_id": "0cf0c27c491e4999bd85053c2e4dbaca",
       "version_major": 2,
       "version_minor": 0
      },
      "text/plain": [
       "Training batches on cpu:   0%|          | 0/292 [00:00<?, ?batch/s]"
      ]
     },
     "metadata": {},
     "output_type": "display_data"
    },
    {
     "data": {
      "application/vnd.jupyter.widget-view+json": {
       "model_id": "551f56f7a4144b7d8cef5ca86165bf57",
       "version_major": 2,
       "version_minor": 0
      },
      "text/plain": [
       "Training batches on cpu:   0%|          | 0/292 [00:00<?, ?batch/s]"
      ]
     },
     "metadata": {},
     "output_type": "display_data"
    },
    {
     "data": {
      "application/vnd.jupyter.widget-view+json": {
       "model_id": "9175d323f9264a68b974666e7511ddcf",
       "version_major": 2,
       "version_minor": 0
      },
      "text/plain": [
       "Training batches on cpu:   0%|          | 0/292 [00:00<?, ?batch/s]"
      ]
     },
     "metadata": {},
     "output_type": "display_data"
    },
    {
     "data": {
      "application/vnd.jupyter.widget-view+json": {
       "model_id": "7844c3ede5594bc6b767642dce4bcfb0",
       "version_major": 2,
       "version_minor": 0
      },
      "text/plain": [
       "Training batches on cpu:   0%|          | 0/292 [00:00<?, ?batch/s]"
      ]
     },
     "metadata": {},
     "output_type": "display_data"
    },
    {
     "data": {
      "application/vnd.jupyter.widget-view+json": {
       "model_id": "3c2979afd9b34b23b4e0e55ed659d769",
       "version_major": 2,
       "version_minor": 0
      },
      "text/plain": [
       "Training batches on cpu:   0%|          | 0/292 [00:00<?, ?batch/s]"
      ]
     },
     "metadata": {},
     "output_type": "display_data"
    },
    {
     "data": {
      "application/vnd.jupyter.widget-view+json": {
       "model_id": "272db266d7d141549801010ecbde5851",
       "version_major": 2,
       "version_minor": 0
      },
      "text/plain": [
       "Training batches on cpu:   0%|          | 0/292 [00:00<?, ?batch/s]"
      ]
     },
     "metadata": {},
     "output_type": "display_data"
    },
    {
     "data": {
      "application/vnd.jupyter.widget-view+json": {
       "model_id": "9b1d304bbbce4e078564d5500c9fad44",
       "version_major": 2,
       "version_minor": 0
      },
      "text/plain": [
       "Training batches on cpu:   0%|          | 0/292 [00:00<?, ?batch/s]"
      ]
     },
     "metadata": {},
     "output_type": "display_data"
    },
    {
     "data": {
      "application/vnd.jupyter.widget-view+json": {
       "model_id": "f99435f5ecf74ab794a1a7fd1751cae1",
       "version_major": 2,
       "version_minor": 0
      },
      "text/plain": [
       "Training batches on cpu:   0%|          | 0/292 [00:00<?, ?batch/s]"
      ]
     },
     "metadata": {},
     "output_type": "display_data"
    },
    {
     "data": {
      "application/vnd.jupyter.widget-view+json": {
       "model_id": "5f6dc272ea584180a14032dc9fe45d00",
       "version_major": 2,
       "version_minor": 0
      },
      "text/plain": [
       "Training batches on cpu:   0%|          | 0/292 [00:00<?, ?batch/s]"
      ]
     },
     "metadata": {},
     "output_type": "display_data"
    },
    {
     "data": {
      "application/vnd.jupyter.widget-view+json": {
       "model_id": "5bad1eb3333f4ca4a4e65a89b254081a",
       "version_major": 2,
       "version_minor": 0
      },
      "text/plain": [
       "Training batches on cpu:   0%|          | 0/292 [00:00<?, ?batch/s]"
      ]
     },
     "metadata": {},
     "output_type": "display_data"
    },
    {
     "data": {
      "application/vnd.jupyter.widget-view+json": {
       "model_id": "9849970f3fc1441db5d850e3de29179a",
       "version_major": 2,
       "version_minor": 0
      },
      "text/plain": [
       "Training batches on cpu:   0%|          | 0/292 [00:00<?, ?batch/s]"
      ]
     },
     "metadata": {},
     "output_type": "display_data"
    },
    {
     "data": {
      "application/vnd.jupyter.widget-view+json": {
       "model_id": "59e5df5cd3304e2d8cb15308dc97846c",
       "version_major": 2,
       "version_minor": 0
      },
      "text/plain": [
       "Training batches on cpu:   0%|          | 0/292 [00:00<?, ?batch/s]"
      ]
     },
     "metadata": {},
     "output_type": "display_data"
    },
    {
     "data": {
      "application/vnd.jupyter.widget-view+json": {
       "model_id": "ddfb135191b04a94acba879f64cf135d",
       "version_major": 2,
       "version_minor": 0
      },
      "text/plain": [
       "Training batches on cpu:   0%|          | 0/292 [00:00<?, ?batch/s]"
      ]
     },
     "metadata": {},
     "output_type": "display_data"
    },
    {
     "data": {
      "application/vnd.jupyter.widget-view+json": {
       "model_id": "f24880a058774a7f84ec4ef78e2c250f",
       "version_major": 2,
       "version_minor": 0
      },
      "text/plain": [
       "Training batches on cpu:   0%|          | 0/292 [00:00<?, ?batch/s]"
      ]
     },
     "metadata": {},
     "output_type": "display_data"
    },
    {
     "data": {
      "application/vnd.jupyter.widget-view+json": {
       "model_id": "3dec7dbba9cf46adbc140a07edc1bf93",
       "version_major": 2,
       "version_minor": 0
      },
      "text/plain": [
       "Training batches on cpu:   0%|          | 0/292 [00:00<?, ?batch/s]"
      ]
     },
     "metadata": {},
     "output_type": "display_data"
    },
    {
     "data": {
      "application/vnd.jupyter.widget-view+json": {
       "model_id": "e9d2706d02104fe28d0e157778a7a587",
       "version_major": 2,
       "version_minor": 0
      },
      "text/plain": [
       "Training batches on cpu:   0%|          | 0/292 [00:00<?, ?batch/s]"
      ]
     },
     "metadata": {},
     "output_type": "display_data"
    },
    {
     "data": {
      "application/vnd.jupyter.widget-view+json": {
       "model_id": "f7d6d6056acb4cfe9b6bbeb28ac51a78",
       "version_major": 2,
       "version_minor": 0
      },
      "text/plain": [
       "Training batches on cpu:   0%|          | 0/292 [00:00<?, ?batch/s]"
      ]
     },
     "metadata": {},
     "output_type": "display_data"
    },
    {
     "data": {
      "application/vnd.jupyter.widget-view+json": {
       "model_id": "e4356662510e4bc4844cafdc6f62f09e",
       "version_major": 2,
       "version_minor": 0
      },
      "text/plain": [
       "Training batches on cpu:   0%|          | 0/292 [00:00<?, ?batch/s]"
      ]
     },
     "metadata": {},
     "output_type": "display_data"
    },
    {
     "data": {
      "application/vnd.jupyter.widget-view+json": {
       "model_id": "dc0c36218b15406dbddaadfe8490b2cf",
       "version_major": 2,
       "version_minor": 0
      },
      "text/plain": [
       "Training batches on cpu:   0%|          | 0/292 [00:00<?, ?batch/s]"
      ]
     },
     "metadata": {},
     "output_type": "display_data"
    },
    {
     "data": {
      "application/vnd.jupyter.widget-view+json": {
       "model_id": "b4236083305341b2a0ac7239f19f33f1",
       "version_major": 2,
       "version_minor": 0
      },
      "text/plain": [
       "Training batches on cpu:   0%|          | 0/292 [00:00<?, ?batch/s]"
      ]
     },
     "metadata": {},
     "output_type": "display_data"
    },
    {
     "data": {
      "application/vnd.jupyter.widget-view+json": {
       "model_id": "a46bf09b127b4d68ae04662ec923c236",
       "version_major": 2,
       "version_minor": 0
      },
      "text/plain": [
       "Training batches on cpu:   0%|          | 0/292 [00:00<?, ?batch/s]"
      ]
     },
     "metadata": {},
     "output_type": "display_data"
    },
    {
     "data": {
      "application/vnd.jupyter.widget-view+json": {
       "model_id": "199ab520861a49a380afd73b530c476d",
       "version_major": 2,
       "version_minor": 0
      },
      "text/plain": [
       "Training batches on cpu:   0%|          | 0/292 [00:00<?, ?batch/s]"
      ]
     },
     "metadata": {},
     "output_type": "display_data"
    },
    {
     "data": {
      "application/vnd.jupyter.widget-view+json": {
       "model_id": "a0719adbeb1f43a796500486e2ac63c2",
       "version_major": 2,
       "version_minor": 0
      },
      "text/plain": [
       "Training batches on cpu:   0%|          | 0/292 [00:00<?, ?batch/s]"
      ]
     },
     "metadata": {},
     "output_type": "display_data"
    },
    {
     "data": {
      "application/vnd.jupyter.widget-view+json": {
       "model_id": "829e9f106bff4476900c299e4e34a502",
       "version_major": 2,
       "version_minor": 0
      },
      "text/plain": [
       "Training batches on cpu:   0%|          | 0/292 [00:00<?, ?batch/s]"
      ]
     },
     "metadata": {},
     "output_type": "display_data"
    },
    {
     "data": {
      "application/vnd.jupyter.widget-view+json": {
       "model_id": "90c7058577694f9cb1c8afe7695eb416",
       "version_major": 2,
       "version_minor": 0
      },
      "text/plain": [
       "Training batches on cpu:   0%|          | 0/292 [00:00<?, ?batch/s]"
      ]
     },
     "metadata": {},
     "output_type": "display_data"
    },
    {
     "data": {
      "application/vnd.jupyter.widget-view+json": {
       "model_id": "ff7e1895482943109418d0537d19ace4",
       "version_major": 2,
       "version_minor": 0
      },
      "text/plain": [
       "Training batches on cpu:   0%|          | 0/292 [00:00<?, ?batch/s]"
      ]
     },
     "metadata": {},
     "output_type": "display_data"
    },
    {
     "data": {
      "application/vnd.jupyter.widget-view+json": {
       "model_id": "4b8c0625fb40409a98a5478c2524704b",
       "version_major": 2,
       "version_minor": 0
      },
      "text/plain": [
       "Training batches on cpu:   0%|          | 0/292 [00:00<?, ?batch/s]"
      ]
     },
     "metadata": {},
     "output_type": "display_data"
    },
    {
     "data": {
      "application/vnd.jupyter.widget-view+json": {
       "model_id": "60496a45349c4ca4a314883cbe55c593",
       "version_major": 2,
       "version_minor": 0
      },
      "text/plain": [
       "Training batches on cpu:   0%|          | 0/292 [00:00<?, ?batch/s]"
      ]
     },
     "metadata": {},
     "output_type": "display_data"
    },
    {
     "data": {
      "application/vnd.jupyter.widget-view+json": {
       "model_id": "14ab5ad89d014484bcac39a2315d8d31",
       "version_major": 2,
       "version_minor": 0
      },
      "text/plain": [
       "Training batches on cpu:   0%|          | 0/292 [00:00<?, ?batch/s]"
      ]
     },
     "metadata": {},
     "output_type": "display_data"
    },
    {
     "data": {
      "application/vnd.jupyter.widget-view+json": {
       "model_id": "60214f3daaa9402cafeb4bfe99d4916e",
       "version_major": 2,
       "version_minor": 0
      },
      "text/plain": [
       "Training batches on cpu:   0%|          | 0/292 [00:00<?, ?batch/s]"
      ]
     },
     "metadata": {},
     "output_type": "display_data"
    },
    {
     "data": {
      "application/vnd.jupyter.widget-view+json": {
       "model_id": "32652b82540e43188d0c687db37bf1ca",
       "version_major": 2,
       "version_minor": 0
      },
      "text/plain": [
       "Training batches on cpu:   0%|          | 0/292 [00:00<?, ?batch/s]"
      ]
     },
     "metadata": {},
     "output_type": "display_data"
    },
    {
     "data": {
      "application/vnd.jupyter.widget-view+json": {
       "model_id": "28be5d3afe764ffd8142a6fed02dd5f8",
       "version_major": 2,
       "version_minor": 0
      },
      "text/plain": [
       "Training batches on cpu:   0%|          | 0/292 [00:00<?, ?batch/s]"
      ]
     },
     "metadata": {},
     "output_type": "display_data"
    },
    {
     "data": {
      "application/vnd.jupyter.widget-view+json": {
       "model_id": "d080f9a77b0146138d8dfd3c146ec09c",
       "version_major": 2,
       "version_minor": 0
      },
      "text/plain": [
       "Training batches on cpu:   0%|          | 0/292 [00:00<?, ?batch/s]"
      ]
     },
     "metadata": {},
     "output_type": "display_data"
    },
    {
     "data": {
      "application/vnd.jupyter.widget-view+json": {
       "model_id": "19642407c28b401b9f32ccff4bf01dde",
       "version_major": 2,
       "version_minor": 0
      },
      "text/plain": [
       "Training batches on cpu:   0%|          | 0/292 [00:00<?, ?batch/s]"
      ]
     },
     "metadata": {},
     "output_type": "display_data"
    },
    {
     "data": {
      "application/vnd.jupyter.widget-view+json": {
       "model_id": "94ded51bf6e24085af562359d07e54a8",
       "version_major": 2,
       "version_minor": 0
      },
      "text/plain": [
       "Training batches on cpu:   0%|          | 0/292 [00:00<?, ?batch/s]"
      ]
     },
     "metadata": {},
     "output_type": "display_data"
    },
    {
     "data": {
      "application/vnd.jupyter.widget-view+json": {
       "model_id": "b30e54382a83414ab08e68ff1a611967",
       "version_major": 2,
       "version_minor": 0
      },
      "text/plain": [
       "Training batches on cpu:   0%|          | 0/292 [00:00<?, ?batch/s]"
      ]
     },
     "metadata": {},
     "output_type": "display_data"
    },
    {
     "data": {
      "application/vnd.jupyter.widget-view+json": {
       "model_id": "8b23d065ba6e4563b0467233bcb49da4",
       "version_major": 2,
       "version_minor": 0
      },
      "text/plain": [
       "Training batches on cpu:   0%|          | 0/292 [00:00<?, ?batch/s]"
      ]
     },
     "metadata": {},
     "output_type": "display_data"
    },
    {
     "data": {
      "application/vnd.jupyter.widget-view+json": {
       "model_id": "27f19a8f75864a9bb80719c18e1f0db1",
       "version_major": 2,
       "version_minor": 0
      },
      "text/plain": [
       "Training batches on cpu:   0%|          | 0/292 [00:00<?, ?batch/s]"
      ]
     },
     "metadata": {},
     "output_type": "display_data"
    },
    {
     "name": "stderr",
     "output_type": "stream",
     "text": [
      "2025-03-29 19:57:18,089 - root - INFO - When evaluating the test dataset, validation triples are added to the set of known positive triples which are filtered out when performing filtered evaluation following the approach described by (Bordes et al., 2013).\n",
      "2025-03-29 19:57:18,450 - pykeen.utils - WARNING - Using automatic batch size on device.type='cpu' can cause unexplained out-of-memory crashes. Therefore, we use a conservative small batch_size=32. Performance may be improved by explicitly specifying a larger batch size.\n"
     ]
    },
    {
     "data": {
      "application/vnd.jupyter.widget-view+json": {
       "model_id": "171e9e602a8a4c4993c898789af38243",
       "version_major": 2,
       "version_minor": 0
      },
      "text/plain": [
       "Evaluating on cpu:   0%|          | 0.00/9.31k [00:00<?, ?triple/s]"
      ]
     },
     "metadata": {},
     "output_type": "display_data"
    },
    {
     "name": "stderr",
     "output_type": "stream",
     "text": [
      "2025-03-29 19:57:18,461 - torch_max_mem.api - WARNING - Encountered tensors on device_types={'cpu'} while only ['cuda'] are considered safe for automatic memory utilization maximization. This may lead to undocumented crashes (but can be safe, too).\n",
      "2025-03-29 19:58:49,018 - pykeen.evaluation.evaluator - INFO - Evaluation took 90.92s seconds\n",
      "2025-03-29 19:58:49,053 - src.knowledge_graph.embeddings - INFO - Trained TransE model successfully\n"
     ]
    }
   ],
   "source": [
    "# Train embeddings with TransE model\n",
    "print(\"Training TransE model...\")\n",
    "transe_result = embedder.train_embedding_model(\n",
    "    model_name='TransE',\n",
    "    training=training,\n",
    "    validation=validation,\n",
    "    testing=testing,\n",
    "    epochs=100,\n",
    "    embedding_dim=50,\n",
    "    batch_size=32,\n",
    "    learning_rate=0.01,\n",
    "    num_negs_per_pos=10,\n",
    "    early_stopping=True,\n",
    "    early_stopping_patience=5\n",
    ")"
   ]
  },
  {
   "cell_type": "code",
   "execution_count": 11,
   "metadata": {},
   "outputs": [
    {
     "name": "stderr",
     "output_type": "stream",
     "text": [
      "2025-03-29 19:58:49,268 - src.knowledge_graph.embeddings - INFO - Training DistMult with 50 dimensions for 100 epochs\n",
      "2025-03-29 19:58:49,306 - pykeen.utils - WARNING - No cuda devices were available. The model runs on CPU\n",
      "2025-03-29 19:58:49,310 - pykeen.pipeline.api - INFO - Using device: None\n"
     ]
    },
    {
     "name": "stdout",
     "output_type": "stream",
     "text": [
      "Training DistMult model...\n"
     ]
    },
    {
     "data": {
      "application/vnd.jupyter.widget-view+json": {
       "model_id": "e2424d85558b4552808a999fd3ad1d9d",
       "version_major": 2,
       "version_minor": 0
      },
      "text/plain": [
       "Training epochs on cpu:   0%|          | 0/100 [00:00<?, ?epoch/s]"
      ]
     },
     "metadata": {},
     "output_type": "display_data"
    },
    {
     "data": {
      "application/vnd.jupyter.widget-view+json": {
       "model_id": "d2bc79f0bdc842dd805fc4d8e2260bb3",
       "version_major": 2,
       "version_minor": 0
      },
      "text/plain": [
       "Training batches on cpu:   0%|          | 0/292 [00:00<?, ?batch/s]"
      ]
     },
     "metadata": {},
     "output_type": "display_data"
    },
    {
     "data": {
      "application/vnd.jupyter.widget-view+json": {
       "model_id": "978ad25da5bc45bfbda98904b045156f",
       "version_major": 2,
       "version_minor": 0
      },
      "text/plain": [
       "Training batches on cpu:   0%|          | 0/292 [00:00<?, ?batch/s]"
      ]
     },
     "metadata": {},
     "output_type": "display_data"
    },
    {
     "data": {
      "application/vnd.jupyter.widget-view+json": {
       "model_id": "d071c434b64340c09e90e9cfb0f920d1",
       "version_major": 2,
       "version_minor": 0
      },
      "text/plain": [
       "Training batches on cpu:   0%|          | 0/292 [00:00<?, ?batch/s]"
      ]
     },
     "metadata": {},
     "output_type": "display_data"
    },
    {
     "data": {
      "application/vnd.jupyter.widget-view+json": {
       "model_id": "a73bc7acce71455dab355848d449afc2",
       "version_major": 2,
       "version_minor": 0
      },
      "text/plain": [
       "Training batches on cpu:   0%|          | 0/292 [00:00<?, ?batch/s]"
      ]
     },
     "metadata": {},
     "output_type": "display_data"
    },
    {
     "data": {
      "application/vnd.jupyter.widget-view+json": {
       "model_id": "4b50a008fc8d41ec86a6e61bdf95c1ca",
       "version_major": 2,
       "version_minor": 0
      },
      "text/plain": [
       "Training batches on cpu:   0%|          | 0/292 [00:00<?, ?batch/s]"
      ]
     },
     "metadata": {},
     "output_type": "display_data"
    },
    {
     "data": {
      "application/vnd.jupyter.widget-view+json": {
       "model_id": "04ec6c3dfe864cd4ba006d987162fdbe",
       "version_major": 2,
       "version_minor": 0
      },
      "text/plain": [
       "Training batches on cpu:   0%|          | 0/292 [00:00<?, ?batch/s]"
      ]
     },
     "metadata": {},
     "output_type": "display_data"
    },
    {
     "data": {
      "application/vnd.jupyter.widget-view+json": {
       "model_id": "9f76e185f4c544f1a4489e94dc7af61c",
       "version_major": 2,
       "version_minor": 0
      },
      "text/plain": [
       "Training batches on cpu:   0%|          | 0/292 [00:00<?, ?batch/s]"
      ]
     },
     "metadata": {},
     "output_type": "display_data"
    },
    {
     "data": {
      "application/vnd.jupyter.widget-view+json": {
       "model_id": "d4f562764cd446769e4d6608ea681964",
       "version_major": 2,
       "version_minor": 0
      },
      "text/plain": [
       "Training batches on cpu:   0%|          | 0/292 [00:00<?, ?batch/s]"
      ]
     },
     "metadata": {},
     "output_type": "display_data"
    },
    {
     "data": {
      "application/vnd.jupyter.widget-view+json": {
       "model_id": "3f5d2d56519441ca926f7e55a23c5f05",
       "version_major": 2,
       "version_minor": 0
      },
      "text/plain": [
       "Training batches on cpu:   0%|          | 0/292 [00:00<?, ?batch/s]"
      ]
     },
     "metadata": {},
     "output_type": "display_data"
    },
    {
     "data": {
      "application/vnd.jupyter.widget-view+json": {
       "model_id": "7b610f1c3dba4c2babc7421ecac39159",
       "version_major": 2,
       "version_minor": 0
      },
      "text/plain": [
       "Training batches on cpu:   0%|          | 0/292 [00:00<?, ?batch/s]"
      ]
     },
     "metadata": {},
     "output_type": "display_data"
    },
    {
     "data": {
      "application/vnd.jupyter.widget-view+json": {
       "model_id": "7d44a01c866e423a80d29a49f055e787",
       "version_major": 2,
       "version_minor": 0
      },
      "text/plain": [
       "Training batches on cpu:   0%|          | 0/292 [00:00<?, ?batch/s]"
      ]
     },
     "metadata": {},
     "output_type": "display_data"
    },
    {
     "data": {
      "application/vnd.jupyter.widget-view+json": {
       "model_id": "56c1bbf6e96b452fbc9f27a8cc9ad84e",
       "version_major": 2,
       "version_minor": 0
      },
      "text/plain": [
       "Training batches on cpu:   0%|          | 0/292 [00:00<?, ?batch/s]"
      ]
     },
     "metadata": {},
     "output_type": "display_data"
    },
    {
     "data": {
      "application/vnd.jupyter.widget-view+json": {
       "model_id": "0d2aa8e66c81453cb5dc761b690c1544",
       "version_major": 2,
       "version_minor": 0
      },
      "text/plain": [
       "Training batches on cpu:   0%|          | 0/292 [00:00<?, ?batch/s]"
      ]
     },
     "metadata": {},
     "output_type": "display_data"
    },
    {
     "data": {
      "application/vnd.jupyter.widget-view+json": {
       "model_id": "b86338be0c134328a4ab68d9e578d190",
       "version_major": 2,
       "version_minor": 0
      },
      "text/plain": [
       "Training batches on cpu:   0%|          | 0/292 [00:00<?, ?batch/s]"
      ]
     },
     "metadata": {},
     "output_type": "display_data"
    },
    {
     "data": {
      "application/vnd.jupyter.widget-view+json": {
       "model_id": "babf2df15bf94aac8aff20bd6303cf31",
       "version_major": 2,
       "version_minor": 0
      },
      "text/plain": [
       "Training batches on cpu:   0%|          | 0/292 [00:00<?, ?batch/s]"
      ]
     },
     "metadata": {},
     "output_type": "display_data"
    },
    {
     "data": {
      "application/vnd.jupyter.widget-view+json": {
       "model_id": "76160d9d4e574a0caeda6923a4fe0281",
       "version_major": 2,
       "version_minor": 0
      },
      "text/plain": [
       "Training batches on cpu:   0%|          | 0/292 [00:00<?, ?batch/s]"
      ]
     },
     "metadata": {},
     "output_type": "display_data"
    },
    {
     "data": {
      "application/vnd.jupyter.widget-view+json": {
       "model_id": "29cf26e1f0f3457aa2e10a09fc8398ce",
       "version_major": 2,
       "version_minor": 0
      },
      "text/plain": [
       "Training batches on cpu:   0%|          | 0/292 [00:00<?, ?batch/s]"
      ]
     },
     "metadata": {},
     "output_type": "display_data"
    },
    {
     "data": {
      "application/vnd.jupyter.widget-view+json": {
       "model_id": "cb1682eab9b847d7b89972ce32263318",
       "version_major": 2,
       "version_minor": 0
      },
      "text/plain": [
       "Training batches on cpu:   0%|          | 0/292 [00:00<?, ?batch/s]"
      ]
     },
     "metadata": {},
     "output_type": "display_data"
    },
    {
     "data": {
      "application/vnd.jupyter.widget-view+json": {
       "model_id": "189517d3bbb54da690dadf4f2801431b",
       "version_major": 2,
       "version_minor": 0
      },
      "text/plain": [
       "Training batches on cpu:   0%|          | 0/292 [00:00<?, ?batch/s]"
      ]
     },
     "metadata": {},
     "output_type": "display_data"
    },
    {
     "data": {
      "application/vnd.jupyter.widget-view+json": {
       "model_id": "4dda370274e54590bab4de8f9d279433",
       "version_major": 2,
       "version_minor": 0
      },
      "text/plain": [
       "Training batches on cpu:   0%|          | 0/292 [00:00<?, ?batch/s]"
      ]
     },
     "metadata": {},
     "output_type": "display_data"
    },
    {
     "data": {
      "application/vnd.jupyter.widget-view+json": {
       "model_id": "7b631d1aa3d147d89522aea9bcdcd148",
       "version_major": 2,
       "version_minor": 0
      },
      "text/plain": [
       "Training batches on cpu:   0%|          | 0/292 [00:00<?, ?batch/s]"
      ]
     },
     "metadata": {},
     "output_type": "display_data"
    },
    {
     "data": {
      "application/vnd.jupyter.widget-view+json": {
       "model_id": "8fbdf8c970f3499ab489833cec645f90",
       "version_major": 2,
       "version_minor": 0
      },
      "text/plain": [
       "Training batches on cpu:   0%|          | 0/292 [00:00<?, ?batch/s]"
      ]
     },
     "metadata": {},
     "output_type": "display_data"
    },
    {
     "data": {
      "application/vnd.jupyter.widget-view+json": {
       "model_id": "0843756901784d259f3b80f89a8cef5e",
       "version_major": 2,
       "version_minor": 0
      },
      "text/plain": [
       "Training batches on cpu:   0%|          | 0/292 [00:00<?, ?batch/s]"
      ]
     },
     "metadata": {},
     "output_type": "display_data"
    },
    {
     "data": {
      "application/vnd.jupyter.widget-view+json": {
       "model_id": "61c3a1f0337d4307adb8f4c6cb83b6c9",
       "version_major": 2,
       "version_minor": 0
      },
      "text/plain": [
       "Training batches on cpu:   0%|          | 0/292 [00:00<?, ?batch/s]"
      ]
     },
     "metadata": {},
     "output_type": "display_data"
    },
    {
     "data": {
      "application/vnd.jupyter.widget-view+json": {
       "model_id": "82c65ac819fb4de1a15cb203fde831dc",
       "version_major": 2,
       "version_minor": 0
      },
      "text/plain": [
       "Training batches on cpu:   0%|          | 0/292 [00:00<?, ?batch/s]"
      ]
     },
     "metadata": {},
     "output_type": "display_data"
    },
    {
     "data": {
      "application/vnd.jupyter.widget-view+json": {
       "model_id": "c733eb67567a40e79320f12c1a090548",
       "version_major": 2,
       "version_minor": 0
      },
      "text/plain": [
       "Training batches on cpu:   0%|          | 0/292 [00:00<?, ?batch/s]"
      ]
     },
     "metadata": {},
     "output_type": "display_data"
    },
    {
     "data": {
      "application/vnd.jupyter.widget-view+json": {
       "model_id": "00fab3bb2baf4cfc8b40dddebc210bcb",
       "version_major": 2,
       "version_minor": 0
      },
      "text/plain": [
       "Training batches on cpu:   0%|          | 0/292 [00:00<?, ?batch/s]"
      ]
     },
     "metadata": {},
     "output_type": "display_data"
    },
    {
     "data": {
      "application/vnd.jupyter.widget-view+json": {
       "model_id": "436b2b4e85374382ad05cfcfaf6a54c0",
       "version_major": 2,
       "version_minor": 0
      },
      "text/plain": [
       "Training batches on cpu:   0%|          | 0/292 [00:00<?, ?batch/s]"
      ]
     },
     "metadata": {},
     "output_type": "display_data"
    },
    {
     "data": {
      "application/vnd.jupyter.widget-view+json": {
       "model_id": "c3ffa4a34c7743c7b5493c6f4211b496",
       "version_major": 2,
       "version_minor": 0
      },
      "text/plain": [
       "Training batches on cpu:   0%|          | 0/292 [00:00<?, ?batch/s]"
      ]
     },
     "metadata": {},
     "output_type": "display_data"
    },
    {
     "data": {
      "application/vnd.jupyter.widget-view+json": {
       "model_id": "6461146bf9c74bc9810524fa99fa3df9",
       "version_major": 2,
       "version_minor": 0
      },
      "text/plain": [
       "Training batches on cpu:   0%|          | 0/292 [00:00<?, ?batch/s]"
      ]
     },
     "metadata": {},
     "output_type": "display_data"
    },
    {
     "data": {
      "application/vnd.jupyter.widget-view+json": {
       "model_id": "83496b2e53bc43198e9b7376b5f63bcc",
       "version_major": 2,
       "version_minor": 0
      },
      "text/plain": [
       "Training batches on cpu:   0%|          | 0/292 [00:00<?, ?batch/s]"
      ]
     },
     "metadata": {},
     "output_type": "display_data"
    },
    {
     "data": {
      "application/vnd.jupyter.widget-view+json": {
       "model_id": "61f93199351548319c3a39c2029951fe",
       "version_major": 2,
       "version_minor": 0
      },
      "text/plain": [
       "Training batches on cpu:   0%|          | 0/292 [00:00<?, ?batch/s]"
      ]
     },
     "metadata": {},
     "output_type": "display_data"
    },
    {
     "data": {
      "application/vnd.jupyter.widget-view+json": {
       "model_id": "bb39ccae604a40aaa46d2f3d75916656",
       "version_major": 2,
       "version_minor": 0
      },
      "text/plain": [
       "Training batches on cpu:   0%|          | 0/292 [00:00<?, ?batch/s]"
      ]
     },
     "metadata": {},
     "output_type": "display_data"
    },
    {
     "data": {
      "application/vnd.jupyter.widget-view+json": {
       "model_id": "232ce318e8cb4d889f1f46c7f662aaeb",
       "version_major": 2,
       "version_minor": 0
      },
      "text/plain": [
       "Training batches on cpu:   0%|          | 0/292 [00:00<?, ?batch/s]"
      ]
     },
     "metadata": {},
     "output_type": "display_data"
    },
    {
     "data": {
      "application/vnd.jupyter.widget-view+json": {
       "model_id": "3ec57ab4867a463f8855dec46ed8abae",
       "version_major": 2,
       "version_minor": 0
      },
      "text/plain": [
       "Training batches on cpu:   0%|          | 0/292 [00:00<?, ?batch/s]"
      ]
     },
     "metadata": {},
     "output_type": "display_data"
    },
    {
     "data": {
      "application/vnd.jupyter.widget-view+json": {
       "model_id": "027eeaf3d1424d8b9f84069087d41761",
       "version_major": 2,
       "version_minor": 0
      },
      "text/plain": [
       "Training batches on cpu:   0%|          | 0/292 [00:00<?, ?batch/s]"
      ]
     },
     "metadata": {},
     "output_type": "display_data"
    },
    {
     "data": {
      "application/vnd.jupyter.widget-view+json": {
       "model_id": "ff237190d8ee473c87979ec969814362",
       "version_major": 2,
       "version_minor": 0
      },
      "text/plain": [
       "Training batches on cpu:   0%|          | 0/292 [00:00<?, ?batch/s]"
      ]
     },
     "metadata": {},
     "output_type": "display_data"
    },
    {
     "data": {
      "application/vnd.jupyter.widget-view+json": {
       "model_id": "e85b19b076284b96b0e6336362d1fbd9",
       "version_major": 2,
       "version_minor": 0
      },
      "text/plain": [
       "Training batches on cpu:   0%|          | 0/292 [00:00<?, ?batch/s]"
      ]
     },
     "metadata": {},
     "output_type": "display_data"
    },
    {
     "data": {
      "application/vnd.jupyter.widget-view+json": {
       "model_id": "ef50838fadcc414d9720d11fb2abfed9",
       "version_major": 2,
       "version_minor": 0
      },
      "text/plain": [
       "Training batches on cpu:   0%|          | 0/292 [00:00<?, ?batch/s]"
      ]
     },
     "metadata": {},
     "output_type": "display_data"
    },
    {
     "data": {
      "application/vnd.jupyter.widget-view+json": {
       "model_id": "a350830eab3b45459ae37069039638d8",
       "version_major": 2,
       "version_minor": 0
      },
      "text/plain": [
       "Training batches on cpu:   0%|          | 0/292 [00:00<?, ?batch/s]"
      ]
     },
     "metadata": {},
     "output_type": "display_data"
    },
    {
     "data": {
      "application/vnd.jupyter.widget-view+json": {
       "model_id": "3e9d050702204fd7af042a1e1b97b27d",
       "version_major": 2,
       "version_minor": 0
      },
      "text/plain": [
       "Training batches on cpu:   0%|          | 0/292 [00:00<?, ?batch/s]"
      ]
     },
     "metadata": {},
     "output_type": "display_data"
    },
    {
     "data": {
      "application/vnd.jupyter.widget-view+json": {
       "model_id": "6ff006295ad3436ba1173aa0e395a767",
       "version_major": 2,
       "version_minor": 0
      },
      "text/plain": [
       "Training batches on cpu:   0%|          | 0/292 [00:00<?, ?batch/s]"
      ]
     },
     "metadata": {},
     "output_type": "display_data"
    },
    {
     "data": {
      "application/vnd.jupyter.widget-view+json": {
       "model_id": "c0d52db20c6a493e8202389246c76e21",
       "version_major": 2,
       "version_minor": 0
      },
      "text/plain": [
       "Training batches on cpu:   0%|          | 0/292 [00:00<?, ?batch/s]"
      ]
     },
     "metadata": {},
     "output_type": "display_data"
    },
    {
     "data": {
      "application/vnd.jupyter.widget-view+json": {
       "model_id": "62fb7cb3ff5d437bae8e49b37a0eafa1",
       "version_major": 2,
       "version_minor": 0
      },
      "text/plain": [
       "Training batches on cpu:   0%|          | 0/292 [00:00<?, ?batch/s]"
      ]
     },
     "metadata": {},
     "output_type": "display_data"
    },
    {
     "data": {
      "application/vnd.jupyter.widget-view+json": {
       "model_id": "c6dd89a5a9a3438398c61092ba3b4566",
       "version_major": 2,
       "version_minor": 0
      },
      "text/plain": [
       "Training batches on cpu:   0%|          | 0/292 [00:00<?, ?batch/s]"
      ]
     },
     "metadata": {},
     "output_type": "display_data"
    },
    {
     "data": {
      "application/vnd.jupyter.widget-view+json": {
       "model_id": "75a2a1f265f44768af25d1d4bb8dc2a8",
       "version_major": 2,
       "version_minor": 0
      },
      "text/plain": [
       "Training batches on cpu:   0%|          | 0/292 [00:00<?, ?batch/s]"
      ]
     },
     "metadata": {},
     "output_type": "display_data"
    },
    {
     "data": {
      "application/vnd.jupyter.widget-view+json": {
       "model_id": "e6d2e1ca311b41c8abaf5897f249d576",
       "version_major": 2,
       "version_minor": 0
      },
      "text/plain": [
       "Training batches on cpu:   0%|          | 0/292 [00:00<?, ?batch/s]"
      ]
     },
     "metadata": {},
     "output_type": "display_data"
    },
    {
     "data": {
      "application/vnd.jupyter.widget-view+json": {
       "model_id": "3807ca5d55bc49269fb85ed7a57c30d6",
       "version_major": 2,
       "version_minor": 0
      },
      "text/plain": [
       "Training batches on cpu:   0%|          | 0/292 [00:00<?, ?batch/s]"
      ]
     },
     "metadata": {},
     "output_type": "display_data"
    },
    {
     "data": {
      "application/vnd.jupyter.widget-view+json": {
       "model_id": "19ceffc50f8448f09b2190f42c6bbe2d",
       "version_major": 2,
       "version_minor": 0
      },
      "text/plain": [
       "Training batches on cpu:   0%|          | 0/292 [00:00<?, ?batch/s]"
      ]
     },
     "metadata": {},
     "output_type": "display_data"
    },
    {
     "data": {
      "application/vnd.jupyter.widget-view+json": {
       "model_id": "a71da01e64664167bc508712df1bb564",
       "version_major": 2,
       "version_minor": 0
      },
      "text/plain": [
       "Training batches on cpu:   0%|          | 0/292 [00:00<?, ?batch/s]"
      ]
     },
     "metadata": {},
     "output_type": "display_data"
    },
    {
     "data": {
      "application/vnd.jupyter.widget-view+json": {
       "model_id": "c79cf90663214f908af90a38c3ad25b0",
       "version_major": 2,
       "version_minor": 0
      },
      "text/plain": [
       "Training batches on cpu:   0%|          | 0/292 [00:00<?, ?batch/s]"
      ]
     },
     "metadata": {},
     "output_type": "display_data"
    },
    {
     "data": {
      "application/vnd.jupyter.widget-view+json": {
       "model_id": "498d08d6ad0a4befa93a209254035828",
       "version_major": 2,
       "version_minor": 0
      },
      "text/plain": [
       "Training batches on cpu:   0%|          | 0/292 [00:00<?, ?batch/s]"
      ]
     },
     "metadata": {},
     "output_type": "display_data"
    },
    {
     "data": {
      "application/vnd.jupyter.widget-view+json": {
       "model_id": "ace48992f3fc48b3bfe643f491c34cd9",
       "version_major": 2,
       "version_minor": 0
      },
      "text/plain": [
       "Training batches on cpu:   0%|          | 0/292 [00:00<?, ?batch/s]"
      ]
     },
     "metadata": {},
     "output_type": "display_data"
    },
    {
     "data": {
      "application/vnd.jupyter.widget-view+json": {
       "model_id": "a1fed840c3144da7a0dca454e514c431",
       "version_major": 2,
       "version_minor": 0
      },
      "text/plain": [
       "Training batches on cpu:   0%|          | 0/292 [00:00<?, ?batch/s]"
      ]
     },
     "metadata": {},
     "output_type": "display_data"
    },
    {
     "data": {
      "application/vnd.jupyter.widget-view+json": {
       "model_id": "e0c2cb9d20444f348e21cc57df0b31f6",
       "version_major": 2,
       "version_minor": 0
      },
      "text/plain": [
       "Training batches on cpu:   0%|          | 0/292 [00:00<?, ?batch/s]"
      ]
     },
     "metadata": {},
     "output_type": "display_data"
    },
    {
     "data": {
      "application/vnd.jupyter.widget-view+json": {
       "model_id": "0c166d3e2607473885019ac7a2d97833",
       "version_major": 2,
       "version_minor": 0
      },
      "text/plain": [
       "Training batches on cpu:   0%|          | 0/292 [00:00<?, ?batch/s]"
      ]
     },
     "metadata": {},
     "output_type": "display_data"
    },
    {
     "data": {
      "application/vnd.jupyter.widget-view+json": {
       "model_id": "a775b6c11e7f46b996b3580b0b847144",
       "version_major": 2,
       "version_minor": 0
      },
      "text/plain": [
       "Training batches on cpu:   0%|          | 0/292 [00:00<?, ?batch/s]"
      ]
     },
     "metadata": {},
     "output_type": "display_data"
    },
    {
     "data": {
      "application/vnd.jupyter.widget-view+json": {
       "model_id": "1b6202e43d1a4a70b9cb2604db4582dc",
       "version_major": 2,
       "version_minor": 0
      },
      "text/plain": [
       "Training batches on cpu:   0%|          | 0/292 [00:00<?, ?batch/s]"
      ]
     },
     "metadata": {},
     "output_type": "display_data"
    },
    {
     "data": {
      "application/vnd.jupyter.widget-view+json": {
       "model_id": "05406335e351416da94bebc8def97374",
       "version_major": 2,
       "version_minor": 0
      },
      "text/plain": [
       "Training batches on cpu:   0%|          | 0/292 [00:00<?, ?batch/s]"
      ]
     },
     "metadata": {},
     "output_type": "display_data"
    },
    {
     "data": {
      "application/vnd.jupyter.widget-view+json": {
       "model_id": "02811965176c4ddbaac822fab08af222",
       "version_major": 2,
       "version_minor": 0
      },
      "text/plain": [
       "Training batches on cpu:   0%|          | 0/292 [00:00<?, ?batch/s]"
      ]
     },
     "metadata": {},
     "output_type": "display_data"
    },
    {
     "data": {
      "application/vnd.jupyter.widget-view+json": {
       "model_id": "01190d1cd0124492af64b7805a1f0d46",
       "version_major": 2,
       "version_minor": 0
      },
      "text/plain": [
       "Training batches on cpu:   0%|          | 0/292 [00:00<?, ?batch/s]"
      ]
     },
     "metadata": {},
     "output_type": "display_data"
    },
    {
     "data": {
      "application/vnd.jupyter.widget-view+json": {
       "model_id": "55c960c5ccb249d496ae05478044cd40",
       "version_major": 2,
       "version_minor": 0
      },
      "text/plain": [
       "Training batches on cpu:   0%|          | 0/292 [00:00<?, ?batch/s]"
      ]
     },
     "metadata": {},
     "output_type": "display_data"
    },
    {
     "data": {
      "application/vnd.jupyter.widget-view+json": {
       "model_id": "aabec38ae3704765908f03298e9c1ba4",
       "version_major": 2,
       "version_minor": 0
      },
      "text/plain": [
       "Training batches on cpu:   0%|          | 0/292 [00:00<?, ?batch/s]"
      ]
     },
     "metadata": {},
     "output_type": "display_data"
    },
    {
     "data": {
      "application/vnd.jupyter.widget-view+json": {
       "model_id": "0e0c307918da44b2bb3239176840018f",
       "version_major": 2,
       "version_minor": 0
      },
      "text/plain": [
       "Training batches on cpu:   0%|          | 0/292 [00:00<?, ?batch/s]"
      ]
     },
     "metadata": {},
     "output_type": "display_data"
    },
    {
     "data": {
      "application/vnd.jupyter.widget-view+json": {
       "model_id": "e21200ab86094018b996615248858ae4",
       "version_major": 2,
       "version_minor": 0
      },
      "text/plain": [
       "Training batches on cpu:   0%|          | 0/292 [00:00<?, ?batch/s]"
      ]
     },
     "metadata": {},
     "output_type": "display_data"
    },
    {
     "data": {
      "application/vnd.jupyter.widget-view+json": {
       "model_id": "b1a33c0461b84b97ad59027375ab7e73",
       "version_major": 2,
       "version_minor": 0
      },
      "text/plain": [
       "Training batches on cpu:   0%|          | 0/292 [00:00<?, ?batch/s]"
      ]
     },
     "metadata": {},
     "output_type": "display_data"
    },
    {
     "data": {
      "application/vnd.jupyter.widget-view+json": {
       "model_id": "bef8854e91544655ab89a63644f5f70d",
       "version_major": 2,
       "version_minor": 0
      },
      "text/plain": [
       "Training batches on cpu:   0%|          | 0/292 [00:00<?, ?batch/s]"
      ]
     },
     "metadata": {},
     "output_type": "display_data"
    },
    {
     "data": {
      "application/vnd.jupyter.widget-view+json": {
       "model_id": "d09b15f6e4d84d01a78b5e2f288def1b",
       "version_major": 2,
       "version_minor": 0
      },
      "text/plain": [
       "Training batches on cpu:   0%|          | 0/292 [00:00<?, ?batch/s]"
      ]
     },
     "metadata": {},
     "output_type": "display_data"
    },
    {
     "data": {
      "application/vnd.jupyter.widget-view+json": {
       "model_id": "de75b7b27abf46998a63d6367e6705ae",
       "version_major": 2,
       "version_minor": 0
      },
      "text/plain": [
       "Training batches on cpu:   0%|          | 0/292 [00:00<?, ?batch/s]"
      ]
     },
     "metadata": {},
     "output_type": "display_data"
    },
    {
     "data": {
      "application/vnd.jupyter.widget-view+json": {
       "model_id": "c0a04d2227694018b0ba413237c43ca8",
       "version_major": 2,
       "version_minor": 0
      },
      "text/plain": [
       "Training batches on cpu:   0%|          | 0/292 [00:00<?, ?batch/s]"
      ]
     },
     "metadata": {},
     "output_type": "display_data"
    },
    {
     "data": {
      "application/vnd.jupyter.widget-view+json": {
       "model_id": "90416568030e4a06aeb6b472d1ac500a",
       "version_major": 2,
       "version_minor": 0
      },
      "text/plain": [
       "Training batches on cpu:   0%|          | 0/292 [00:00<?, ?batch/s]"
      ]
     },
     "metadata": {},
     "output_type": "display_data"
    },
    {
     "data": {
      "application/vnd.jupyter.widget-view+json": {
       "model_id": "b770e7ab187c46e9bd1c3e27462298e9",
       "version_major": 2,
       "version_minor": 0
      },
      "text/plain": [
       "Training batches on cpu:   0%|          | 0/292 [00:00<?, ?batch/s]"
      ]
     },
     "metadata": {},
     "output_type": "display_data"
    },
    {
     "data": {
      "application/vnd.jupyter.widget-view+json": {
       "model_id": "605106d3fe934ddc9a26dc184d041614",
       "version_major": 2,
       "version_minor": 0
      },
      "text/plain": [
       "Training batches on cpu:   0%|          | 0/292 [00:00<?, ?batch/s]"
      ]
     },
     "metadata": {},
     "output_type": "display_data"
    },
    {
     "data": {
      "application/vnd.jupyter.widget-view+json": {
       "model_id": "0ed564add3de45289e42a2ffb152c6ea",
       "version_major": 2,
       "version_minor": 0
      },
      "text/plain": [
       "Training batches on cpu:   0%|          | 0/292 [00:00<?, ?batch/s]"
      ]
     },
     "metadata": {},
     "output_type": "display_data"
    },
    {
     "data": {
      "application/vnd.jupyter.widget-view+json": {
       "model_id": "ab29586169d2494c82eb79b183a18ea2",
       "version_major": 2,
       "version_minor": 0
      },
      "text/plain": [
       "Training batches on cpu:   0%|          | 0/292 [00:00<?, ?batch/s]"
      ]
     },
     "metadata": {},
     "output_type": "display_data"
    },
    {
     "data": {
      "application/vnd.jupyter.widget-view+json": {
       "model_id": "f4e9a568623c4a13acd3bcaa14b5b4f1",
       "version_major": 2,
       "version_minor": 0
      },
      "text/plain": [
       "Training batches on cpu:   0%|          | 0/292 [00:00<?, ?batch/s]"
      ]
     },
     "metadata": {},
     "output_type": "display_data"
    },
    {
     "data": {
      "application/vnd.jupyter.widget-view+json": {
       "model_id": "94f2115c09b74a969b2a161799684d02",
       "version_major": 2,
       "version_minor": 0
      },
      "text/plain": [
       "Training batches on cpu:   0%|          | 0/292 [00:00<?, ?batch/s]"
      ]
     },
     "metadata": {},
     "output_type": "display_data"
    },
    {
     "data": {
      "application/vnd.jupyter.widget-view+json": {
       "model_id": "ebdedcff0c6b4886bbebcfbea2d6184f",
       "version_major": 2,
       "version_minor": 0
      },
      "text/plain": [
       "Training batches on cpu:   0%|          | 0/292 [00:00<?, ?batch/s]"
      ]
     },
     "metadata": {},
     "output_type": "display_data"
    },
    {
     "data": {
      "application/vnd.jupyter.widget-view+json": {
       "model_id": "dff570dca417434f97000ea9bae12b10",
       "version_major": 2,
       "version_minor": 0
      },
      "text/plain": [
       "Training batches on cpu:   0%|          | 0/292 [00:00<?, ?batch/s]"
      ]
     },
     "metadata": {},
     "output_type": "display_data"
    },
    {
     "data": {
      "application/vnd.jupyter.widget-view+json": {
       "model_id": "4230420d39ce48c7bfc461618768c0e9",
       "version_major": 2,
       "version_minor": 0
      },
      "text/plain": [
       "Training batches on cpu:   0%|          | 0/292 [00:00<?, ?batch/s]"
      ]
     },
     "metadata": {},
     "output_type": "display_data"
    },
    {
     "data": {
      "application/vnd.jupyter.widget-view+json": {
       "model_id": "325405a3426f49e6b53a90aae2dffb0d",
       "version_major": 2,
       "version_minor": 0
      },
      "text/plain": [
       "Training batches on cpu:   0%|          | 0/292 [00:00<?, ?batch/s]"
      ]
     },
     "metadata": {},
     "output_type": "display_data"
    },
    {
     "data": {
      "application/vnd.jupyter.widget-view+json": {
       "model_id": "d7fc3d94696042ea99db0d35cf8b42fb",
       "version_major": 2,
       "version_minor": 0
      },
      "text/plain": [
       "Training batches on cpu:   0%|          | 0/292 [00:00<?, ?batch/s]"
      ]
     },
     "metadata": {},
     "output_type": "display_data"
    },
    {
     "data": {
      "application/vnd.jupyter.widget-view+json": {
       "model_id": "c5499327f0774ecb9091e7bb8de46a9c",
       "version_major": 2,
       "version_minor": 0
      },
      "text/plain": [
       "Training batches on cpu:   0%|          | 0/292 [00:00<?, ?batch/s]"
      ]
     },
     "metadata": {},
     "output_type": "display_data"
    },
    {
     "data": {
      "application/vnd.jupyter.widget-view+json": {
       "model_id": "f52d795e7b824d0d809438df8baa96b0",
       "version_major": 2,
       "version_minor": 0
      },
      "text/plain": [
       "Training batches on cpu:   0%|          | 0/292 [00:00<?, ?batch/s]"
      ]
     },
     "metadata": {},
     "output_type": "display_data"
    },
    {
     "data": {
      "application/vnd.jupyter.widget-view+json": {
       "model_id": "070a41df0e8a43e1a77328937f764187",
       "version_major": 2,
       "version_minor": 0
      },
      "text/plain": [
       "Training batches on cpu:   0%|          | 0/292 [00:00<?, ?batch/s]"
      ]
     },
     "metadata": {},
     "output_type": "display_data"
    },
    {
     "data": {
      "application/vnd.jupyter.widget-view+json": {
       "model_id": "52b7adfc4b3241bfa086e58e4fa62fac",
       "version_major": 2,
       "version_minor": 0
      },
      "text/plain": [
       "Training batches on cpu:   0%|          | 0/292 [00:00<?, ?batch/s]"
      ]
     },
     "metadata": {},
     "output_type": "display_data"
    },
    {
     "data": {
      "application/vnd.jupyter.widget-view+json": {
       "model_id": "900c3315975e4eb5a3f114c7b93260d7",
       "version_major": 2,
       "version_minor": 0
      },
      "text/plain": [
       "Training batches on cpu:   0%|          | 0/292 [00:00<?, ?batch/s]"
      ]
     },
     "metadata": {},
     "output_type": "display_data"
    },
    {
     "data": {
      "application/vnd.jupyter.widget-view+json": {
       "model_id": "5035e85dd6814165916ca01308093474",
       "version_major": 2,
       "version_minor": 0
      },
      "text/plain": [
       "Training batches on cpu:   0%|          | 0/292 [00:00<?, ?batch/s]"
      ]
     },
     "metadata": {},
     "output_type": "display_data"
    },
    {
     "data": {
      "application/vnd.jupyter.widget-view+json": {
       "model_id": "e28f3d5178ed4bca90248e1d7444400e",
       "version_major": 2,
       "version_minor": 0
      },
      "text/plain": [
       "Training batches on cpu:   0%|          | 0/292 [00:00<?, ?batch/s]"
      ]
     },
     "metadata": {},
     "output_type": "display_data"
    },
    {
     "data": {
      "application/vnd.jupyter.widget-view+json": {
       "model_id": "bb6ce3036a5244b385336dc5b2a8cfe3",
       "version_major": 2,
       "version_minor": 0
      },
      "text/plain": [
       "Training batches on cpu:   0%|          | 0/292 [00:00<?, ?batch/s]"
      ]
     },
     "metadata": {},
     "output_type": "display_data"
    },
    {
     "data": {
      "application/vnd.jupyter.widget-view+json": {
       "model_id": "e42429eff8f947c5bdbc1bdc87e152df",
       "version_major": 2,
       "version_minor": 0
      },
      "text/plain": [
       "Training batches on cpu:   0%|          | 0/292 [00:00<?, ?batch/s]"
      ]
     },
     "metadata": {},
     "output_type": "display_data"
    },
    {
     "data": {
      "application/vnd.jupyter.widget-view+json": {
       "model_id": "1c8c9025d4c3413ba8c1d6343ad6c666",
       "version_major": 2,
       "version_minor": 0
      },
      "text/plain": [
       "Training batches on cpu:   0%|          | 0/292 [00:00<?, ?batch/s]"
      ]
     },
     "metadata": {},
     "output_type": "display_data"
    },
    {
     "data": {
      "application/vnd.jupyter.widget-view+json": {
       "model_id": "72c07857c47047a5b4b91b707c6f118a",
       "version_major": 2,
       "version_minor": 0
      },
      "text/plain": [
       "Training batches on cpu:   0%|          | 0/292 [00:00<?, ?batch/s]"
      ]
     },
     "metadata": {},
     "output_type": "display_data"
    },
    {
     "data": {
      "application/vnd.jupyter.widget-view+json": {
       "model_id": "dcdcd8085f2646d9ace7f1b667f45e63",
       "version_major": 2,
       "version_minor": 0
      },
      "text/plain": [
       "Training batches on cpu:   0%|          | 0/292 [00:00<?, ?batch/s]"
      ]
     },
     "metadata": {},
     "output_type": "display_data"
    },
    {
     "data": {
      "application/vnd.jupyter.widget-view+json": {
       "model_id": "997926a37b364ed487d002438671d705",
       "version_major": 2,
       "version_minor": 0
      },
      "text/plain": [
       "Training batches on cpu:   0%|          | 0/292 [00:00<?, ?batch/s]"
      ]
     },
     "metadata": {},
     "output_type": "display_data"
    },
    {
     "data": {
      "application/vnd.jupyter.widget-view+json": {
       "model_id": "664a4bf7ccd742b0b6a12b3e5ede0e0d",
       "version_major": 2,
       "version_minor": 0
      },
      "text/plain": [
       "Training batches on cpu:   0%|          | 0/292 [00:00<?, ?batch/s]"
      ]
     },
     "metadata": {},
     "output_type": "display_data"
    },
    {
     "data": {
      "application/vnd.jupyter.widget-view+json": {
       "model_id": "c23351c3d38744fd814a4b1a7f86dd93",
       "version_major": 2,
       "version_minor": 0
      },
      "text/plain": [
       "Training batches on cpu:   0%|          | 0/292 [00:00<?, ?batch/s]"
      ]
     },
     "metadata": {},
     "output_type": "display_data"
    },
    {
     "data": {
      "application/vnd.jupyter.widget-view+json": {
       "model_id": "d8d1ddb237c345108dd7f9cc4c0e3ca4",
       "version_major": 2,
       "version_minor": 0
      },
      "text/plain": [
       "Training batches on cpu:   0%|          | 0/292 [00:00<?, ?batch/s]"
      ]
     },
     "metadata": {},
     "output_type": "display_data"
    },
    {
     "data": {
      "application/vnd.jupyter.widget-view+json": {
       "model_id": "f94e5773d9bf4d6c9e4818e88df09c1c",
       "version_major": 2,
       "version_minor": 0
      },
      "text/plain": [
       "Training batches on cpu:   0%|          | 0/292 [00:00<?, ?batch/s]"
      ]
     },
     "metadata": {},
     "output_type": "display_data"
    },
    {
     "data": {
      "application/vnd.jupyter.widget-view+json": {
       "model_id": "58721660286d4009a79be71e516c5760",
       "version_major": 2,
       "version_minor": 0
      },
      "text/plain": [
       "Training batches on cpu:   0%|          | 0/292 [00:00<?, ?batch/s]"
      ]
     },
     "metadata": {},
     "output_type": "display_data"
    },
    {
     "name": "stderr",
     "output_type": "stream",
     "text": [
      "2025-03-29 20:10:56,533 - root - INFO - When evaluating the test dataset, validation triples are added to the set of known positive triples which are filtered out when performing filtered evaluation following the approach described by (Bordes et al., 2013).\n",
      "2025-03-29 20:10:56,909 - pykeen.utils - WARNING - Using automatic batch size on device.type='cpu' can cause unexplained out-of-memory crashes. Therefore, we use a conservative small batch_size=32. Performance may be improved by explicitly specifying a larger batch size.\n"
     ]
    },
    {
     "data": {
      "application/vnd.jupyter.widget-view+json": {
       "model_id": "8012885cc47f4b71b3d1ec8dbc9376cb",
       "version_major": 2,
       "version_minor": 0
      },
      "text/plain": [
       "Evaluating on cpu:   0%|          | 0.00/9.31k [00:00<?, ?triple/s]"
      ]
     },
     "metadata": {},
     "output_type": "display_data"
    },
    {
     "name": "stderr",
     "output_type": "stream",
     "text": [
      "2025-03-29 20:10:56,915 - torch_max_mem.api - WARNING - Encountered tensors on device_types={'cpu'} while only ['cuda'] are considered safe for automatic memory utilization maximization. This may lead to undocumented crashes (but can be safe, too).\n",
      "2025-03-29 20:11:38,193 - pykeen.evaluation.evaluator - INFO - Evaluation took 41.65s seconds\n",
      "2025-03-29 20:11:38,194 - src.knowledge_graph.embeddings - INFO - Trained DistMult model successfully\n"
     ]
    }
   ],
   "source": [
    "# Train embeddings with DistMult model\n",
    "print(\"Training DistMult model...\")\n",
    "distmult_result = embedder.train_embedding_model(\n",
    "    model_name='DistMult',\n",
    "    training=training,\n",
    "    validation=validation,\n",
    "    testing=testing,\n",
    "    epochs=100,\n",
    "    embedding_dim=50,\n",
    "    batch_size=32,\n",
    "    learning_rate=0.01,\n",
    "    num_negs_per_pos=10,\n",
    "    early_stopping=True,\n",
    "    early_stopping_patience=5\n",
    ")"
   ]
  },
  {
   "cell_type": "markdown",
   "metadata": {},
   "source": [
    "## 4. Evaluation\n",
    "\n",
    "Now, let's evaluate the performance of our embedding models."
   ]
  },
  {
   "cell_type": "code",
   "execution_count": 12,
   "metadata": {},
   "outputs": [
    {
     "name": "stderr",
     "output_type": "stream",
     "text": [
      "2025-03-29 20:11:38,428 - src.knowledge_graph.embeddings - INFO - Split dataset: 74500 training, 9312 validation, 9314 testing\n",
      "2025-03-29 20:11:38,428 - pykeen.utils - WARNING - The filtered setting was enabled, but there were no `additional_filter_triples`\n",
      "given. This means you probably forgot to pass (at least) the training triples. Try:\n",
      "\n",
      "    additional_filter_triples=[dataset.training.mapped_triples]\n",
      "\n",
      "Or if you want to use the Bordes et al. (2013) approach to filtering, do:\n",
      "\n",
      "    additional_filter_triples=[\n",
      "        dataset.training.mapped_triples,\n",
      "        dataset.validation.mapped_triples,\n",
      "    ]\n",
      "\n",
      "2025-03-29 20:11:38,428 - pykeen.utils - WARNING - Using automatic batch size on device.type='cpu' can cause unexplained out-of-memory crashes. Therefore, we use a conservative small batch_size=32. Performance may be improved by explicitly specifying a larger batch size.\n"
     ]
    },
    {
     "data": {
      "application/vnd.jupyter.widget-view+json": {
       "model_id": "217a5cf3456745c391c01caceefb46d0",
       "version_major": 2,
       "version_minor": 0
      },
      "text/plain": [
       "Evaluating on cpu:   0%|          | 0.00/9.31k [00:00<?, ?triple/s]"
      ]
     },
     "metadata": {},
     "output_type": "display_data"
    },
    {
     "name": "stderr",
     "output_type": "stream",
     "text": [
      "2025-03-29 20:11:38,438 - torch_max_mem.api - WARNING - Encountered tensors on device_types={'cpu'} while only ['cuda'] are considered safe for automatic memory utilization maximization. This may lead to undocumented crashes (but can be safe, too).\n",
      "2025-03-29 20:13:06,237 - pykeen.evaluation.evaluator - INFO - Evaluation took 87.81s seconds\n",
      "2025-03-29 20:13:06,237 - src.knowledge_graph.embeddings - INFO - Evaluation results for TransE:\n",
      "2025-03-29 20:13:06,238 - src.knowledge_graph.embeddings - INFO - Mean Rank: 13212.91\n",
      "2025-03-29 20:13:06,238 - src.knowledge_graph.embeddings - INFO - Mean Reciprocal Rank: 0.0521\n",
      "2025-03-29 20:13:06,239 - src.knowledge_graph.embeddings - INFO - Hits@1: 0.0231\n",
      "2025-03-29 20:13:06,239 - src.knowledge_graph.embeddings - INFO - Hits@3: 0.0630\n",
      "2025-03-29 20:13:06,239 - src.knowledge_graph.embeddings - INFO - Hits@10: 0.1062\n",
      "2025-03-29 20:13:06,273 - src.knowledge_graph.embeddings - INFO - Split dataset: 74500 training, 9312 validation, 9314 testing\n",
      "2025-03-29 20:13:06,273 - pykeen.utils - WARNING - The filtered setting was enabled, but there were no `additional_filter_triples`\n",
      "given. This means you probably forgot to pass (at least) the training triples. Try:\n",
      "\n",
      "    additional_filter_triples=[dataset.training.mapped_triples]\n",
      "\n",
      "Or if you want to use the Bordes et al. (2013) approach to filtering, do:\n",
      "\n",
      "    additional_filter_triples=[\n",
      "        dataset.training.mapped_triples,\n",
      "        dataset.validation.mapped_triples,\n",
      "    ]\n",
      "\n",
      "2025-03-29 20:13:06,273 - pykeen.utils - WARNING - Using automatic batch size on device.type='cpu' can cause unexplained out-of-memory crashes. Therefore, we use a conservative small batch_size=32. Performance may be improved by explicitly specifying a larger batch size.\n"
     ]
    },
    {
     "data": {
      "application/vnd.jupyter.widget-view+json": {
       "model_id": "f4fe2c06860542a789f938b5642d30de",
       "version_major": 2,
       "version_minor": 0
      },
      "text/plain": [
       "Evaluating on cpu:   0%|          | 0.00/9.31k [00:00<?, ?triple/s]"
      ]
     },
     "metadata": {},
     "output_type": "display_data"
    },
    {
     "name": "stderr",
     "output_type": "stream",
     "text": [
      "2025-03-29 20:13:06,281 - torch_max_mem.api - WARNING - Encountered tensors on device_types={'cpu'} while only ['cuda'] are considered safe for automatic memory utilization maximization. This may lead to undocumented crashes (but can be safe, too).\n",
      "2025-03-29 20:13:44,884 - pykeen.evaluation.evaluator - INFO - Evaluation took 38.61s seconds\n",
      "2025-03-29 20:13:44,884 - src.knowledge_graph.embeddings - INFO - Evaluation results for DistMult:\n",
      "2025-03-29 20:13:44,884 - src.knowledge_graph.embeddings - INFO - Mean Rank: 21123.30\n",
      "2025-03-29 20:13:44,884 - src.knowledge_graph.embeddings - INFO - Mean Reciprocal Rank: 0.0739\n",
      "2025-03-29 20:13:44,884 - src.knowledge_graph.embeddings - INFO - Hits@1: 0.0528\n",
      "2025-03-29 20:13:44,884 - src.knowledge_graph.embeddings - INFO - Hits@3: 0.0889\n",
      "2025-03-29 20:13:44,884 - src.knowledge_graph.embeddings - INFO - Hits@10: 0.1081\n",
      "2025-03-29 20:13:44,892 - src.knowledge_graph.embeddings - INFO - Model comparison:\n",
      "2025-03-29 20:13:44,895 - src.knowledge_graph.embeddings - INFO - \n",
      "           mean_rank  mean_reciprocal_rank  hits_at_1  hits_at_3  hits_at_10\n",
      "TransE    13212.9082                0.0521     0.0231     0.0630      0.1062\n",
      "DistMult  21123.3047                0.0739     0.0528     0.0889      0.1081\n"
     ]
    },
    {
     "data": {
      "text/html": [
       "<div>\n",
       "<style scoped>\n",
       "    .dataframe tbody tr th:only-of-type {\n",
       "        vertical-align: middle;\n",
       "    }\n",
       "\n",
       "    .dataframe tbody tr th {\n",
       "        vertical-align: top;\n",
       "    }\n",
       "\n",
       "    .dataframe thead th {\n",
       "        text-align: right;\n",
       "    }\n",
       "</style>\n",
       "<table border=\"1\" class=\"dataframe\">\n",
       "  <thead>\n",
       "    <tr style=\"text-align: right;\">\n",
       "      <th></th>\n",
       "      <th>mean_rank</th>\n",
       "      <th>mean_reciprocal_rank</th>\n",
       "      <th>hits_at_1</th>\n",
       "      <th>hits_at_3</th>\n",
       "      <th>hits_at_10</th>\n",
       "    </tr>\n",
       "  </thead>\n",
       "  <tbody>\n",
       "    <tr>\n",
       "      <th>TransE</th>\n",
       "      <td>13212.908203</td>\n",
       "      <td>0.052059</td>\n",
       "      <td>0.023084</td>\n",
       "      <td>0.062970</td>\n",
       "      <td>0.106184</td>\n",
       "    </tr>\n",
       "    <tr>\n",
       "      <th>DistMult</th>\n",
       "      <td>21123.304688</td>\n",
       "      <td>0.073918</td>\n",
       "      <td>0.052824</td>\n",
       "      <td>0.088898</td>\n",
       "      <td>0.108117</td>\n",
       "    </tr>\n",
       "  </tbody>\n",
       "</table>\n",
       "</div>"
      ],
      "text/plain": [
       "             mean_rank  mean_reciprocal_rank  hits_at_1  hits_at_3  hits_at_10\n",
       "TransE    13212.908203              0.052059   0.023084   0.062970    0.106184\n",
       "DistMult  21123.304688              0.073918   0.052824   0.088898    0.108117"
      ]
     },
     "execution_count": 12,
     "metadata": {},
     "output_type": "execute_result"
    }
   ],
   "source": [
    "# Compare model performance\n",
    "comparison_df = embedder.compare_models(['TransE', 'DistMult'])\n",
    "comparison_df"
   ]
  },
  {
   "cell_type": "code",
   "execution_count": 13,
   "metadata": {},
   "outputs": [
    {
     "data": {
      "image/png": "[encoded data removed]",
      "text/plain": [
       "<Figure size 1400x600 with 2 Axes>"
      ]
     },
     "metadata": {},
     "output_type": "display_data"
    }
   ],
   "source": [
    "import matplotlib.pyplot as plt\n",
    "\n",
    "# Create figure and subplots\n",
    "fig, axes = plt.subplots(nrows=1, ncols=2, figsize=(14, 6))\n",
    "\n",
    "# Plot Rank-Based Metrics\n",
    "comparison_df[['mean_rank']].plot(kind='bar', ax=axes[0], legend=False, color=['#1f77b4'])\n",
    "axes[0].set_title('Mean Rank Comparison')\n",
    "axes[0].set_ylabel('Mean Rank')\n",
    "axes[0].set_xlabel('Model')\n",
    "\n",
    "# Plot Hits@K Metrics\n",
    "comparison_df[['hits_at_1', 'hits_at_3', 'hits_at_10']].plot(kind='bar', ax=axes[1])\n",
    "axes[1].set_title('Hits@K Comparison')\n",
    "axes[1].set_ylabel('Score')\n",
    "axes[1].set_xlabel('Model')\n",
    "\n",
    "# Adjust layout\n",
    "plt.tight_layout()\n",
    "\n",
    "# Save and show the figure\n",
    "plt.savefig('output/visualization/embedding_model_comparison.png')\n",
    "plt.show()\n"
   ]
  },
  {
   "cell_type": "markdown",
   "metadata": {},
   "source": [
    "## 5. Entity Similarity Analysis\n",
    "\n",
    "Let's find similar entities based on our learned embeddings."
   ]
  },
  {
   "cell_type": "code",
   "execution_count": 14,
   "metadata": {},
   "outputs": [
    {
     "name": "stdout",
     "output_type": "stream",
     "text": [
      "Sample entities for similarity analysis:\n",
      "- 18A (http://example.org/graphify/person/18A)\n",
      "- Ablin (http://example.org/graphify/person/Ablin)\n",
      "- Adam Hetts (http://example.org/graphify/person/Adam_Hetts)\n",
      "- 12B debt Representatives (http://example.org/graphify/org/12B_debt_Representatives)\n",
      "- 18A (http://example.org/graphify/org/18A)\n",
      "- 18A AMD (http://example.org/graphify/org/18A_AMD)\n",
      "- 4G (http://example.org/graphify/gpe/4G)\n",
      "- AI (http://example.org/graphify/gpe/AI)\n",
      "- AJ Bell (http://example.org/graphify/gpe/AJ_Bell)\n"
     ]
    }
   ],
   "source": [
    "# Get a few sample entities\n",
    "sample_entity_uris = []\n",
    "sample_entity_texts = []\n",
    "\n",
    "# First, get all entities with their labels\n",
    "entity_labels = {}\n",
    "from rdflib.namespace import RDFS\n",
    "for s, p, o in augmenter.graph.triples((None, RDFS.label, None)):\n",
    "    entity_labels[str(s)] = str(o)\n",
    "\n",
    "# Choose a few sample entities of different types\n",
    "person_entities = []\n",
    "org_entities = []\n",
    "loc_entities = []\n",
    "\n",
    "for entity_uri, entity_type in entities:\n",
    "    if entity_uri in entity_labels:\n",
    "        if entity_type == 'PERSON' and len(person_entities) < 3:\n",
    "            person_entities.append((entity_uri, entity_labels[entity_uri]))\n",
    "        elif entity_type == 'ORG' and len(org_entities) < 3:\n",
    "            org_entities.append((entity_uri, entity_labels[entity_uri]))\n",
    "        elif entity_type in ('GPE', 'LOC') and len(loc_entities) < 3:\n",
    "            loc_entities.append((entity_uri, entity_labels[entity_uri]))\n",
    "    \n",
    "    if len(person_entities) >= 3 and len(org_entities) >= 3 and len(loc_entities) >= 3:\n",
    "        break\n",
    "\n",
    "# Combine all sample entities\n",
    "sample_entities = person_entities + org_entities + loc_entities\n",
    "\n",
    "# Print sample entities\n",
    "print(\"Sample entities for similarity analysis:\")\n",
    "for entity_uri, entity_text in sample_entities:\n",
    "    print(f\"- {entity_text} ({entity_uri})\")"
   ]
  },
  {
   "cell_type": "code",
   "execution_count": 15,
   "metadata": {},
   "outputs": [
    {
     "name": "stdout",
     "output_type": "stream",
     "text": [
      "Similar entities using TransE embeddings:\n",
      "\n",
      "Entities similar to '18A':\n",
      "- http://example.org/graphify/org/18A (Similarity: 0.7299)\n",
      "- http://en.wikipedia.org/wiki/18A (Similarity: 0.6152)\n",
      "- http://dbpedia.org/resource/Rigid_frame (Similarity: 0.5765)\n",
      "- http://example.org/graphify/org/Federal_Open_Market_Committee (Similarity: 0.5414)\n",
      "- http://example.org/graphify/person/Lee_Taehwan (Similarity: 0.5374)\n",
      "\n",
      "Entities similar to 'Ablin':\n",
      "- http://en.wikipedia.org/wiki/Ablin?oldid=1003000302&ns=0 (Similarity: 0.6219)\n",
      "- http://en.wikipedia.org/wiki/Ablin (Similarity: 0.5631)\n",
      "- http://dbpedia.org/resource/Ashfield,_New_South_Wales (Similarity: 0.5569)\n",
      "- http://dbpedia.org/resource/G._Mennen_Williams (Similarity: 0.5567)\n",
      "- http://commons.wikimedia.org/wiki/Special:FilePath/Robert_Tappan_Morris.jpg (Similarity: 0.5471)\n",
      "\n",
      "Entities similar to 'Adam Hetts':\n"
     ]
    },
    {
     "name": "stderr",
     "output_type": "stream",
     "text": [
      "2025-03-29 20:13:45,877 - src.knowledge_graph.embeddings - ERROR - Entity http://example.org/graphify/person/Adam_Hetts not found in knowledge graph\n",
      "2025-03-29 20:13:45,877 - src.knowledge_graph.embeddings - ERROR - Entity http://example.org/graphify/org/12B_debt_Representatives not found in knowledge graph\n",
      "2025-03-29 20:13:45,892 - src.knowledge_graph.embeddings - ERROR - Entity http://example.org/graphify/org/18A_AMD not found in knowledge graph\n",
      "2025-03-29 20:13:45,892 - src.knowledge_graph.embeddings - ERROR - Entity http://example.org/graphify/gpe/4G not found in knowledge graph\n",
      "2025-03-29 20:13:45,892 - src.knowledge_graph.embeddings - ERROR - Entity http://example.org/graphify/gpe/AI not found in knowledge graph\n",
      "2025-03-29 20:13:45,892 - src.knowledge_graph.embeddings - ERROR - Entity http://example.org/graphify/gpe/AJ_Bell not found in knowledge graph\n"
     ]
    },
    {
     "name": "stdout",
     "output_type": "stream",
     "text": [
      "\n",
      "Entities similar to '12B debt Representatives':\n",
      "\n",
      "Entities similar to '18A':\n",
      "- http://example.org/graphify/person/18A (Similarity: 0.7299)\n",
      "- http://example.org/graphify/org/Volvo (Similarity: 0.6221)\n",
      "- http://dbpedia.org/resource/Bond (Similarity: 0.5485)\n",
      "- http://example.org/graphify/entity/Texas_A&M_Aggies (Similarity: 0.5196)\n",
      "- http://example.org/graphify/org/Big_Tech (Similarity: 0.5120)\n",
      "\n",
      "Entities similar to '18A AMD':\n",
      "\n",
      "Entities similar to '4G':\n",
      "\n",
      "Entities similar to 'AI':\n",
      "\n",
      "Entities similar to 'AJ Bell':\n"
     ]
    }
   ],
   "source": [
    "# Find similar entities using TransE embeddings\n",
    "print(\"Similar entities using TransE embeddings:\")\n",
    "for entity_uri, entity_text in sample_entities:\n",
    "    print(f\"\\nEntities similar to '{entity_text}':\")\n",
    "    similar_entities = embedder.find_similar_entities(entity_uri, 'TransE', top_k=5)\n",
    "    for similar_uri, similarity in similar_entities:\n",
    "        print(f\"- {similar_uri} (Similarity: {similarity:.4f})\")"
   ]
  },
  {
   "cell_type": "code",
   "execution_count": 16,
   "metadata": {},
   "outputs": [
    {
     "name": "stdout",
     "output_type": "stream",
     "text": [
      "Similar entities using DistMult embeddings:"
     ]
    },
    {
     "name": "stderr",
     "output_type": "stream",
     "text": [
      "2025-03-29 20:13:46,094 - src.knowledge_graph.embeddings - ERROR - Entity http://example.org/graphify/person/Adam_Hetts not found in knowledge graph\n"
     ]
    },
    {
     "name": "stdout",
     "output_type": "stream",
     "text": [
      "\n",
      "\n",
      "Entities similar to '18A':\n",
      "- http://example.org/graphify/entity/18A (Similarity: 0.9620)\n",
      "- http://example.org/graphify/org/18A (Similarity: 0.8993)\n",
      "- http://example.org/graphify/entity/18A.jpg (Similarity: 0.8818)\n",
      "- http://example.org/graphify/entity/Ginza_area_at_dusk_from_Tokyo_Tower.jpg (Similarity: 0.5834)\n",
      "- http://commons.wikimedia.org/wiki/Special:FilePath/Seal_of_the_Assembly_of_the_State_of_California.svg (Similarity: 0.5347)\n",
      "\n",
      "Entities similar to 'Ablin':\n",
      "- http://example.org/graphify/entity/Ablin (Similarity: 0.9795)\n",
      "- http://example.org/graphify/entity/Camfranglais (Similarity: 0.5510)\n",
      "- http://example.org/graphify/entity/Melchiorhofmann.jpg (Similarity: 0.5235)\n",
      "- http://dbpedia.org/resource/Strathfield,_New_South_Wales (Similarity: 0.5160)\n",
      "- http://example.org/graphify/entity/Bill_Cole_(Montana_politician) (Similarity: 0.5159)\n",
      "\n",
      "Entities similar to 'Adam Hetts':\n"
     ]
    }
   ],
   "source": [
    "# Find similar entities using DistMult embeddings\n",
    "print(\"Similar entities using DistMult embeddings:\")\n",
    "for entity_uri, entity_text in sample_entities[:3]:  # Just show a few for brevity\n",
    "    print(f\"\\nEntities similar to '{entity_text}':\")\n",
    "    similar_entities = embedder.find_similar_entities(entity_uri, 'DistMult', top_k=5)\n",
    "    for similar_uri, similarity in similar_entities:\n",
    "        print(f\"- {similar_uri} (Similarity: {similarity:.4f})\")"
   ]
  },
  {
   "cell_type": "markdown",
   "metadata": {},
   "source": [
    "## 6. Link Prediction\n",
    "\n",
    "Now, let's test the link prediction capabilities of our embedding models."
   ]
  },
  {
   "cell_type": "code",
   "execution_count": 17,
   "metadata": {},
   "outputs": [
    {
     "name": "stdout",
     "output_type": "stream",
     "text": [
      "Sample relations for link prediction:\n",
      "- http://example.org/graphify/predicate/parts\n",
      "- http://dbpedia.org/property/code\n",
      "- http://example.org/graphify/predicate/keypeople\n",
      "- http://dbpedia.org/property/influencedBy\n",
      "- http://example.org/graphify/predicate/risk_between\n"
     ]
    }
   ],
   "source": [
    "# Get some relations from the knowledge graph\n",
    "relations = set()\n",
    "for s, p, o in augmenter.graph:\n",
    "    if p != RDF.type and p != RDFS.label:\n",
    "        relations.add(str(p))\n",
    "\n",
    "# Choose a few sample relations\n",
    "sample_relations = list(relations)[:5] if len(relations) >= 5 else list(relations)\n",
    "\n",
    "print(\"Sample relations for link prediction:\")\n",
    "for relation in sample_relations:\n",
    "    print(f\"- {relation}\")"
   ]
  },
  {
   "cell_type": "code",
   "execution_count": 18,
   "metadata": {},
   "outputs": [
    {
     "name": "stdout",
     "output_type": "stream",
     "text": [
      "Sample triples for link prediction:\n",
      "- Toronto --[parts]--> Scarborough, Toronto\n",
      "- Cambridge University Press --[keypeople]--> Stephen Toope\n",
      "- Reuters --[risk_between]--> mid-July\n"
     ]
    }
   ],
   "source": [
    "# Find entity pairs for chosen relations\n",
    "relation_triples = []\n",
    "\n",
    "for relation in sample_relations:\n",
    "    # Find triples with this relation\n",
    "    relation_uri = relation\n",
    "    for s, p, o in augmenter.graph.triples((None, URIRef(relation_uri), None)):\n",
    "        # Check if subject and object entities exist in embedder\n",
    "        if str(s) in embedder.entity_to_id and str(o) in embedder.entity_to_id:\n",
    "            # Get entity labels\n",
    "            s_label = entity_labels.get(str(s), str(s).split('/')[-1])\n",
    "            o_label = entity_labels.get(str(o), str(o).split('/')[-1])\n",
    "            \n",
    "            relation_triples.append((str(s), s_label, relation_uri, str(o), o_label))\n",
    "            break  # Just take one example per relation\n",
    "\n",
    "print(\"Sample triples for link prediction:\")\n",
    "for s, s_label, p, o, o_label in relation_triples:\n",
    "    p_short = p.split('/')[-1]\n",
    "    print(f\"- {s_label} --[{p_short}]--> {o_label}\")"
   ]
  },
  {
   "cell_type": "code",
   "execution_count": 19,
   "metadata": {},
   "outputs": [
    {
     "name": "stdout",
     "output_type": "stream",
     "text": [
      "Predicting tail entities with TransE:"
     ]
    },
    {
     "name": "stderr",
     "output_type": "stream",
     "text": [
      "2025-03-29 20:13:47,044 - src.knowledge_graph.embeddings - ERROR - Error predicting tail entities: Model.predict() missing 2 required positional arguments: 'hrt_batch' and 'target'\n",
      "2025-03-29 20:13:47,044 - src.knowledge_graph.embeddings - ERROR - Error predicting tail entities: Model.predict() missing 2 required positional arguments: 'hrt_batch' and 'target'\n",
      "2025-03-29 20:13:47,044 - src.knowledge_graph.embeddings - ERROR - Error predicting tail entities: Model.predict() missing 2 required positional arguments: 'hrt_batch' and 'target'\n"
     ]
    },
    {
     "name": "stdout",
     "output_type": "stream",
     "text": [
      "\n",
      "\n",
      "Given head 'Toronto' and relation 'parts', predicted tails:\n",
      "✗ Actual tail 'Scarborough, Toronto' is not in the top 5 predictions\n",
      "\n",
      "Given head 'Cambridge University Press' and relation 'keypeople', predicted tails:\n",
      "✗ Actual tail 'Stephen Toope' is not in the top 5 predictions\n",
      "\n",
      "Given head 'Reuters' and relation 'risk_between', predicted tails:\n",
      "✗ Actual tail 'mid-July' is not in the top 5 predictions\n"
     ]
    }
   ],
   "source": [
    "# Predict tail entities\n",
    "print(\"Predicting tail entities with TransE:\")\n",
    "for s, s_label, p, o, o_label in relation_triples:\n",
    "    p_short = p.split('/')[-1]\n",
    "    print(f\"\\nGiven head '{s_label}' and relation '{p_short}', predicted tails:\")\n",
    "    predicted_tails = embedder.predict_tail_entities(s, p, 'TransE', top_k=5)\n",
    "    for tail_uri, score in predicted_tails:\n",
    "        print(f\"- {tail_uri} (Score: {score:.4f})\")\n",
    "    \n",
    "    # Check if the actual tail is in the predictions\n",
    "    predicted_uris = [uri for uri, _ in predicted_tails]\n",
    "    if o in predicted_uris:\n",
    "        print(f\"✓ Actual tail '{o_label}' is in the predictions at rank {predicted_uris.index(o) + 1}\")\n",
    "    else:\n",
    "        print(f\"✗ Actual tail '{o_label}' is not in the top 5 predictions\")"
   ]
  },
  {
   "cell_type": "code",
   "execution_count": 20,
   "metadata": {},
   "outputs": [
    {
     "name": "stderr",
     "output_type": "stream",
     "text": [
      "2025-03-29 20:13:47,224 - src.knowledge_graph.embeddings - ERROR - Error predicting head entities: name 'inspect' is not defined\n"
     ]
    },
    {
     "name": "stdout",
     "output_type": "stream",
     "text": [
      "Predicting head entities with DistMult:\n",
      "\n",
      "Given relation 'parts' and tail 'Scarborough, Toronto', predicted heads:\n",
      "✗ Actual head 'Toronto' is not in the top 5 predictions\n",
      "\n",
      "Given relation 'keypeople' and tail 'Stephen Toope', predicted heads:\n"
     ]
    },
    {
     "name": "stderr",
     "output_type": "stream",
     "text": [
      "2025-03-29 20:13:47,231 - src.knowledge_graph.embeddings - ERROR - Error predicting head entities: name 'inspect' is not defined\n",
      "2025-03-29 20:13:47,231 - src.knowledge_graph.embeddings - ERROR - Error predicting head entities: name 'inspect' is not defined\n"
     ]
    },
    {
     "name": "stdout",
     "output_type": "stream",
     "text": [
      "✗ Actual head 'Cambridge University Press' is not in the top 5 predictions\n",
      "\n",
      "Given relation 'risk_between' and tail 'mid-July', predicted heads:\n",
      "✗ Actual head 'Reuters' is not in the top 5 predictions\n"
     ]
    }
   ],
   "source": [
    "# Predict head entities\n",
    "print(\"Predicting head entities with DistMult:\")\n",
    "for s, s_label, p, o, o_label in relation_triples:\n",
    "    p_short = p.split('/')[-1]\n",
    "    print(f\"\\nGiven relation '{p_short}' and tail '{o_label}', predicted heads:\")\n",
    "    predicted_heads = embedder.predict_head_entities(p, o, 'DistMult', top_k=5)\n",
    "    for head_uri, score in predicted_heads:\n",
    "        print(f\"- {head_uri} (Score: {score:.4f})\")\n",
    "    \n",
    "    # Check if the actual head is in the predictions\n",
    "    predicted_uris = [uri for uri, _ in predicted_heads]\n",
    "    if s in predicted_uris:\n",
    "        print(f\"✓ Actual head '{s_label}' is in the predictions at rank {predicted_uris.index(s) + 1}\")\n",
    "    else:\n",
    "        print(f\"✗ Actual head '{s_label}' is not in the top 5 predictions\")"
   ]
  },
  {
   "cell_type": "markdown",
   "metadata": {},
   "source": [
    "## 7. Visualization of Embeddings\n",
    "\n",
    "Let's visualize the entity embeddings to see how they cluster."
   ]
  },
  {
   "cell_type": "code",
   "execution_count": 21,
   "metadata": {},
   "outputs": [
    {
     "name": "stderr",
     "output_type": "stream",
     "text": [
      "2025-03-29 20:13:48,113 - src.knowledge_graph.embeddings - INFO - Applying t-SNE dimensionality reduction...\n",
      "2025-03-29 20:13:50,224 - src.knowledge_graph.embeddings - INFO - Visualization saved to output/visualization/transe_embeddings.png\n"
     ]
    },
    {
     "data": {
      "image/png": "[encoded data removed]",
      "text/plain": [
       "<Figure size 1200x1000 with 1 Axes>"
      ]
     },
     "metadata": {},
     "output_type": "display_data"
    },
    {
     "data": {
      "text/plain": [
       "True"
      ]
     },
     "execution_count": 21,
     "metadata": {},
     "output_type": "execute_result"
    }
   ],
   "source": [
    "# Group entities by type for visualization\n",
    "entity_type_triples = []\n",
    "for s, p, o in augmenter.graph.triples((None, RDF.type, None)):\n",
    "    entity_type_triples.append((str(s), 'rdf:type', str(o)))\n",
    "\n",
    "# Create entity type mappings for visualization\n",
    "entity_types = embedder.group_entities_by_type(entity_type_triples)\n",
    "\n",
    "# Visualize TransE embeddings\n",
    "embedder.visualize_embeddings(\n",
    "    model_name='TransE',\n",
    "    entity_types=entity_types,\n",
    "    sample_size=1000,  # Limit for better visualization\n",
    "    figsize=(12, 10),\n",
    "    output_path='output/visualization/transe_embeddings.png',\n",
    "    title='TransE Entity Embeddings'\n",
    ")"
   ]
  },
  {
   "cell_type": "code",
   "execution_count": 22,
   "metadata": {},
   "outputs": [
    {
     "name": "stderr",
     "output_type": "stream",
     "text": [
      "2025-03-29 20:13:51,300 - src.knowledge_graph.embeddings - INFO - Applying t-SNE dimensionality reduction...\n",
      "2025-03-29 20:13:53,335 - src.knowledge_graph.embeddings - INFO - Visualization saved to output/visualization/distmult_embeddings.png\n"
     ]
    },
    {
     "data": {
      "image/png": "[encoded data removed]",
      "text/plain": [
       "<Figure size 1200x1000 with 1 Axes>"
      ]
     },
     "metadata": {},
     "output_type": "display_data"
    },
    {
     "data": {
      "text/plain": [
       "True"
      ]
     },
     "execution_count": 22,
     "metadata": {},
     "output_type": "execute_result"
    }
   ],
   "source": [
    "# Visualize DistMult embeddings\n",
    "embedder.visualize_embeddings(\n",
    "    model_name='DistMult',\n",
    "    entity_types=entity_types,\n",
    "    sample_size=1000,  # Limit for better visualization\n",
    "    figsize=(12, 10),\n",
    "    output_path='output/visualization/distmult_embeddings.png',\n",
    "    title='DistMult Entity Embeddings'\n",
    ")"
   ]
  },
  {
   "cell_type": "markdown",
   "metadata": {},
   "source": [
    "## 8. Save Models and Embeddings\n",
    "\n",
    "Finally, let's save our models and embeddings for future use."
   ]
  },
  {
   "cell_type": "code",
   "execution_count": 23,
   "metadata": {},
   "outputs": [
    {
     "name": "stderr",
     "output_type": "stream",
     "text": [
      "2025-03-29 20:13:53,766 - src.knowledge_graph.embeddings - INFO - Model TransE saved to output/models\\TransE_model.pkl\n",
      "2025-03-29 20:13:53,849 - src.knowledge_graph.embeddings - INFO - Model DistMult saved to output/models\\DistMult_model.pkl\n"
     ]
    },
    {
     "name": "stdout",
     "output_type": "stream",
     "text": [
      "Saved TransE embeddings:\n",
      "- Entity embeddings: (50905, 50)\n",
      "- Relation embeddings: (1362, 50)\n",
      "Saved DistMult embeddings:\n",
      "- Entity embeddings: (50905, 50)\n",
      "- Relation embeddings: (1362, 50)\n",
      "Saved entity and relation mappings\n"
     ]
    }
   ],
   "source": [
    "# Save models\n",
    "models_dir = 'output/models'\n",
    "os.makedirs(models_dir, exist_ok=True)\n",
    "\n",
    "for model_name in ['TransE', 'DistMult']:\n",
    "    embedder.save_model(model_name, models_dir)\n",
    "\n",
    "# Save entity and relation embeddings as NumPy arrays\n",
    "embeddings_dir = 'output/embeddings'\n",
    "os.makedirs(embeddings_dir, exist_ok=True)\n",
    "\n",
    "for model_name in ['TransE', 'DistMult']:\n",
    "    # Get embeddings\n",
    "    entity_embeddings = embedder.get_entity_embeddings(model_name)\n",
    "    relation_embeddings = embedder.get_relation_embeddings(model_name)\n",
    "    \n",
    "    # Save embeddings\n",
    "    np.save(os.path.join(embeddings_dir, f\"{model_name}_entity_embeddings.npy\"), entity_embeddings)\n",
    "    np.save(os.path.join(embeddings_dir, f\"{model_name}_relation_embeddings.npy\"), relation_embeddings)\n",
    "    \n",
    "    print(f\"Saved {model_name} embeddings:\")\n",
    "    print(f\"- Entity embeddings: {entity_embeddings.shape}\")\n",
    "    print(f\"- Relation embeddings: {relation_embeddings.shape}\")\n",
    "\n",
    "# Save entity and relation mappings as JSON\n",
    "mappings = {\n",
    "    'entity_to_id': {k: v for k, v in embedder.entity_to_id.items()},\n",
    "    'relation_to_id': {k: v for k, v in embedder.relation_to_id.items()},\n",
    "    'id_to_entity': {str(k): v for k, v in embedder.id_to_entity.items()},\n",
    "    'id_to_relation': {str(k): v for k, v in embedder.id_to_relation.items()}\n",
    "}\n",
    "\n",
    "with open(os.path.join(embeddings_dir, 'mappings.json'), 'w') as f:\n",
    "    json.dump(mappings, f, indent=2)\n",
    "\n",
    "print(\"Saved entity and relation mappings\")"
   ]
  }
 ],
 "metadata": {
  "kernelspec": {
   "display_name": "Python 3",
   "language": "python",
   "name": "python3"
  },
  "language_info": {
   "codemirror_mode": {
    "name": "ipython",
    "version": 3
   },
   "file_extension": ".py",
   "mimetype": "text/x-python",
   "name": "python",
   "nbconvert_exporter": "python",
   "pygments_lexer": "ipython3",
   "version": "3.12.8"
  }
 },
 "nbformat": 4,
 "nbformat_minor": 2
}
